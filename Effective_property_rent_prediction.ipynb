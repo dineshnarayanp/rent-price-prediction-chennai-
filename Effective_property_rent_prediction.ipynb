{
 "cells": [
  {
   "cell_type": "markdown",
   "metadata": {
    "id": "uavD5gVh3xD2"
   },
   "source": [
    "#Importing Data"
   ]
  },
  {
   "cell_type": "markdown",
   "metadata": {
    "id": "HheySYxY3_6i"
   },
   "source": [
    "obtained this data using manual data scraping using various libraries like beautifulsuop, Requests."
   ]
  },
  {
   "cell_type": "code",
   "execution_count": 1,
   "metadata": {
    "id": "yeuN7anLzcLj"
   },
   "outputs": [],
   "source": [
    "import pandas as pd\n",
    "df=pd.read_csv(\"data.csv\")"
   ]
  },
  {
   "cell_type": "code",
   "execution_count": 2,
   "metadata": {
    "colab": {
     "base_uri": "https://localhost:8080/",
     "height": 354
    },
    "id": "u2n-IcMAzcLk",
    "outputId": "68d55197-8933-4b96-cf8f-5d3d37e38977"
   },
   "outputs": [
    {
     "data": {
      "text/html": [
       "<div>\n",
       "<style scoped>\n",
       "    .dataframe tbody tr th:only-of-type {\n",
       "        vertical-align: middle;\n",
       "    }\n",
       "\n",
       "    .dataframe tbody tr th {\n",
       "        vertical-align: top;\n",
       "    }\n",
       "\n",
       "    .dataframe thead th {\n",
       "        text-align: right;\n",
       "    }\n",
       "</style>\n",
       "<table border=\"1\" class=\"dataframe\">\n",
       "  <thead>\n",
       "    <tr style=\"text-align: right;\">\n",
       "      <th></th>\n",
       "      <th>Unnamed: 0</th>\n",
       "      <th>Title</th>\n",
       "      <th>Address</th>\n",
       "      <th>Rent(Rs)</th>\n",
       "      <th>Deposit(Rs)</th>\n",
       "      <th>Size(Acres)</th>\n",
       "      <th>Furnishing</th>\n",
       "      <th>Property age</th>\n",
       "      <th>Available for</th>\n",
       "    </tr>\n",
       "  </thead>\n",
       "  <tbody>\n",
       "    <tr>\n",
       "      <th>0</th>\n",
       "      <td>0</td>\n",
       "      <td>2 BHK in Adhisri Apartments, Nungambakkam</td>\n",
       "      <td>Loyola College, Nelson Manickam Road, Nungamba...</td>\n",
       "      <td>31000</td>\n",
       "      <td>250000</td>\n",
       "      <td>1200</td>\n",
       "      <td>Semi Furnished</td>\n",
       "      <td>&gt;10 years</td>\n",
       "      <td>All</td>\n",
       "    </tr>\n",
       "    <tr>\n",
       "      <th>1</th>\n",
       "      <td>1</td>\n",
       "      <td>3 BHK in Appaswamy Platina, Porur</td>\n",
       "      <td>Appaswamy Platina, Porur, Chennai</td>\n",
       "      <td>35000</td>\n",
       "      <td>200000</td>\n",
       "      <td>1708</td>\n",
       "      <td>Semi Furnished</td>\n",
       "      <td>Newly Constructed</td>\n",
       "      <td>Family</td>\n",
       "    </tr>\n",
       "    <tr>\n",
       "      <th>2</th>\n",
       "      <td>2</td>\n",
       "      <td>3 BHK in Sham SGS Apartment, Vaanagaram</td>\n",
       "      <td>No, 04, Rajan Kuppam Road, Gangai Amman Koil S...</td>\n",
       "      <td>17000</td>\n",
       "      <td>150000</td>\n",
       "      <td>1350</td>\n",
       "      <td>Semi Furnished</td>\n",
       "      <td>Newly Constructed</td>\n",
       "      <td>All</td>\n",
       "    </tr>\n",
       "    <tr>\n",
       "      <th>3</th>\n",
       "      <td>3</td>\n",
       "      <td>3 BHK in Siri, Perungudi</td>\n",
       "      <td>Omr Road, Kottivakkam, Near Indian Oil Petrol ...</td>\n",
       "      <td>30000</td>\n",
       "      <td>100000</td>\n",
       "      <td>1600</td>\n",
       "      <td>Semi Furnished</td>\n",
       "      <td>3-5 years</td>\n",
       "      <td>Family</td>\n",
       "    </tr>\n",
       "    <tr>\n",
       "      <th>4</th>\n",
       "      <td>4</td>\n",
       "      <td>2 BHK in Parijatham illam, West Mambalam</td>\n",
       "      <td>Ramakrishnapuram Near B K Sweets ( Lakshmi Vil...</td>\n",
       "      <td>14500</td>\n",
       "      <td>96000</td>\n",
       "      <td>700</td>\n",
       "      <td>Semi Furnished</td>\n",
       "      <td>&gt;10 years</td>\n",
       "      <td>Family</td>\n",
       "    </tr>\n",
       "  </tbody>\n",
       "</table>\n",
       "</div>"
      ],
      "text/plain": [
       "   Unnamed: 0                                      Title  \\\n",
       "0           0  2 BHK in Adhisri Apartments, Nungambakkam   \n",
       "1           1          3 BHK in Appaswamy Platina, Porur   \n",
       "2           2    3 BHK in Sham SGS Apartment, Vaanagaram   \n",
       "3           3                   3 BHK in Siri, Perungudi   \n",
       "4           4   2 BHK in Parijatham illam, West Mambalam   \n",
       "\n",
       "                                             Address Rent(Rs)  Deposit(Rs)  \\\n",
       "0  Loyola College, Nelson Manickam Road, Nungamba...    31000       250000   \n",
       "1                  Appaswamy Platina, Porur, Chennai    35000       200000   \n",
       "2  No, 04, Rajan Kuppam Road, Gangai Amman Koil S...    17000       150000   \n",
       "3  Omr Road, Kottivakkam, Near Indian Oil Petrol ...    30000       100000   \n",
       "4  Ramakrishnapuram Near B K Sweets ( Lakshmi Vil...    14500        96000   \n",
       "\n",
       "   Size(Acres)      Furnishing       Property age Available for  \n",
       "0         1200  Semi Furnished         >10 years            All  \n",
       "1         1708  Semi Furnished  Newly Constructed        Family  \n",
       "2         1350  Semi Furnished  Newly Constructed           All  \n",
       "3         1600  Semi Furnished         3-5 years         Family  \n",
       "4          700  Semi Furnished         >10 years         Family  "
      ]
     },
     "execution_count": 2,
     "metadata": {},
     "output_type": "execute_result"
    }
   ],
   "source": [
    "df.head()"
   ]
  },
  {
   "cell_type": "code",
   "execution_count": 3,
   "metadata": {
    "id": "1U-8RqDHzcLm"
   },
   "outputs": [],
   "source": [
    "df.drop(df.columns[df.columns.str.contains('unnamed',case = False)],axis = 1, inplace = True)"
   ]
  },
  {
   "cell_type": "code",
   "execution_count": 4,
   "metadata": {
    "colab": {
     "base_uri": "https://localhost:8080/",
     "height": 658
    },
    "id": "ji6n5HTjzcLm",
    "outputId": "50604c1d-6ccc-464f-8f72-74133c51ebc7"
   },
   "outputs": [
    {
     "data": {
      "text/html": [
       "<div>\n",
       "<style scoped>\n",
       "    .dataframe tbody tr th:only-of-type {\n",
       "        vertical-align: middle;\n",
       "    }\n",
       "\n",
       "    .dataframe tbody tr th {\n",
       "        vertical-align: top;\n",
       "    }\n",
       "\n",
       "    .dataframe thead th {\n",
       "        text-align: right;\n",
       "    }\n",
       "</style>\n",
       "<table border=\"1\" class=\"dataframe\">\n",
       "  <thead>\n",
       "    <tr style=\"text-align: right;\">\n",
       "      <th></th>\n",
       "      <th>Title</th>\n",
       "      <th>Address</th>\n",
       "      <th>Rent(Rs)</th>\n",
       "      <th>Deposit(Rs)</th>\n",
       "      <th>Size(Acres)</th>\n",
       "      <th>Furnishing</th>\n",
       "      <th>Property age</th>\n",
       "      <th>Available for</th>\n",
       "    </tr>\n",
       "  </thead>\n",
       "  <tbody>\n",
       "    <tr>\n",
       "      <th>0</th>\n",
       "      <td>2 BHK in Adhisri Apartments, Nungambakkam</td>\n",
       "      <td>Loyola College, Nelson Manickam Road, Nungamba...</td>\n",
       "      <td>31000</td>\n",
       "      <td>250000</td>\n",
       "      <td>1200</td>\n",
       "      <td>Semi Furnished</td>\n",
       "      <td>&gt;10 years</td>\n",
       "      <td>All</td>\n",
       "    </tr>\n",
       "    <tr>\n",
       "      <th>1</th>\n",
       "      <td>3 BHK in Appaswamy Platina, Porur</td>\n",
       "      <td>Appaswamy Platina, Porur, Chennai</td>\n",
       "      <td>35000</td>\n",
       "      <td>200000</td>\n",
       "      <td>1708</td>\n",
       "      <td>Semi Furnished</td>\n",
       "      <td>Newly Constructed</td>\n",
       "      <td>Family</td>\n",
       "    </tr>\n",
       "    <tr>\n",
       "      <th>2</th>\n",
       "      <td>3 BHK in Sham SGS Apartment, Vaanagaram</td>\n",
       "      <td>No, 04, Rajan Kuppam Road, Gangai Amman Koil S...</td>\n",
       "      <td>17000</td>\n",
       "      <td>150000</td>\n",
       "      <td>1350</td>\n",
       "      <td>Semi Furnished</td>\n",
       "      <td>Newly Constructed</td>\n",
       "      <td>All</td>\n",
       "    </tr>\n",
       "    <tr>\n",
       "      <th>3</th>\n",
       "      <td>3 BHK in Siri, Perungudi</td>\n",
       "      <td>Omr Road, Kottivakkam, Near Indian Oil Petrol ...</td>\n",
       "      <td>30000</td>\n",
       "      <td>100000</td>\n",
       "      <td>1600</td>\n",
       "      <td>Semi Furnished</td>\n",
       "      <td>3-5 years</td>\n",
       "      <td>Family</td>\n",
       "    </tr>\n",
       "    <tr>\n",
       "      <th>4</th>\n",
       "      <td>2 BHK in Parijatham illam, West Mambalam</td>\n",
       "      <td>Ramakrishnapuram Near B K Sweets ( Lakshmi Vil...</td>\n",
       "      <td>14500</td>\n",
       "      <td>96000</td>\n",
       "      <td>700</td>\n",
       "      <td>Semi Furnished</td>\n",
       "      <td>&gt;10 years</td>\n",
       "      <td>Family</td>\n",
       "    </tr>\n",
       "    <tr>\n",
       "      <th>...</th>\n",
       "      <td>...</td>\n",
       "      <td>...</td>\n",
       "      <td>...</td>\n",
       "      <td>...</td>\n",
       "      <td>...</td>\n",
       "      <td>...</td>\n",
       "      <td>...</td>\n",
       "      <td>...</td>\n",
       "    </tr>\n",
       "    <tr>\n",
       "      <th>995</th>\n",
       "      <td>2 BHK in Maha Flats, Velachery</td>\n",
       "      <td>Bhuvaneshwari Nagar, Velachery, Chennai, Tamil...</td>\n",
       "      <td>20000</td>\n",
       "      <td>100000</td>\n",
       "      <td>810</td>\n",
       "      <td>Semi Furnished</td>\n",
       "      <td>&gt;10 years</td>\n",
       "      <td>All</td>\n",
       "    </tr>\n",
       "    <tr>\n",
       "      <th>996</th>\n",
       "      <td>3 BHK in Medavakkam</td>\n",
       "      <td>Independent House, Green Court,near Jeyachandr...</td>\n",
       "      <td>15000</td>\n",
       "      <td>45000</td>\n",
       "      <td>1500</td>\n",
       "      <td>UnFurnished</td>\n",
       "      <td>&gt;10 years</td>\n",
       "      <td>Family</td>\n",
       "    </tr>\n",
       "    <tr>\n",
       "      <th>997</th>\n",
       "      <td>2 BHK in Ashok Nagar</td>\n",
       "      <td>Standalone Building, Ashok Pillar, Indira Colo...</td>\n",
       "      <td>15000</td>\n",
       "      <td>100000</td>\n",
       "      <td>900</td>\n",
       "      <td>UnFurnished</td>\n",
       "      <td>&gt;10 years</td>\n",
       "      <td>All</td>\n",
       "    </tr>\n",
       "    <tr>\n",
       "      <th>998</th>\n",
       "      <td>3 BHK in Sis Danube, Pallikaranai</td>\n",
       "      <td>Pallikaranai, Chennai - 600100, Tamil Nadu, In...</td>\n",
       "      <td>18000</td>\n",
       "      <td>108000</td>\n",
       "      <td>1500</td>\n",
       "      <td>Semi Furnished</td>\n",
       "      <td>3-5 years</td>\n",
       "      <td>Family</td>\n",
       "    </tr>\n",
       "    <tr>\n",
       "      <th>999</th>\n",
       "      <td>3 BHK in Heeranandani upscale, Egatoor</td>\n",
       "      <td>Uthandi,near Imperial Towers</td>\n",
       "      <td>28000</td>\n",
       "      <td>170000</td>\n",
       "      <td>1400</td>\n",
       "      <td>Semi Furnished</td>\n",
       "      <td>1-3 years</td>\n",
       "      <td>All</td>\n",
       "    </tr>\n",
       "  </tbody>\n",
       "</table>\n",
       "<p>1000 rows × 8 columns</p>\n",
       "</div>"
      ],
      "text/plain": [
       "                                         Title  \\\n",
       "0    2 BHK in Adhisri Apartments, Nungambakkam   \n",
       "1            3 BHK in Appaswamy Platina, Porur   \n",
       "2      3 BHK in Sham SGS Apartment, Vaanagaram   \n",
       "3                     3 BHK in Siri, Perungudi   \n",
       "4     2 BHK in Parijatham illam, West Mambalam   \n",
       "..                                         ...   \n",
       "995             2 BHK in Maha Flats, Velachery   \n",
       "996                        3 BHK in Medavakkam   \n",
       "997                       2 BHK in Ashok Nagar   \n",
       "998          3 BHK in Sis Danube, Pallikaranai   \n",
       "999     3 BHK in Heeranandani upscale, Egatoor   \n",
       "\n",
       "                                               Address Rent(Rs)  Deposit(Rs)  \\\n",
       "0    Loyola College, Nelson Manickam Road, Nungamba...    31000       250000   \n",
       "1                    Appaswamy Platina, Porur, Chennai    35000       200000   \n",
       "2    No, 04, Rajan Kuppam Road, Gangai Amman Koil S...    17000       150000   \n",
       "3    Omr Road, Kottivakkam, Near Indian Oil Petrol ...    30000       100000   \n",
       "4    Ramakrishnapuram Near B K Sweets ( Lakshmi Vil...    14500        96000   \n",
       "..                                                 ...      ...          ...   \n",
       "995  Bhuvaneshwari Nagar, Velachery, Chennai, Tamil...    20000       100000   \n",
       "996  Independent House, Green Court,near Jeyachandr...    15000        45000   \n",
       "997  Standalone Building, Ashok Pillar, Indira Colo...    15000       100000   \n",
       "998  Pallikaranai, Chennai - 600100, Tamil Nadu, In...    18000       108000   \n",
       "999                       Uthandi,near Imperial Towers    28000       170000   \n",
       "\n",
       "     Size(Acres)      Furnishing       Property age Available for  \n",
       "0           1200  Semi Furnished         >10 years            All  \n",
       "1           1708  Semi Furnished  Newly Constructed        Family  \n",
       "2           1350  Semi Furnished  Newly Constructed           All  \n",
       "3           1600  Semi Furnished         3-5 years         Family  \n",
       "4            700  Semi Furnished         >10 years         Family  \n",
       "..           ...             ...                ...           ...  \n",
       "995          810  Semi Furnished         >10 years            All  \n",
       "996         1500     UnFurnished         >10 years         Family  \n",
       "997          900     UnFurnished         >10 years            All  \n",
       "998         1500  Semi Furnished         3-5 years         Family  \n",
       "999         1400  Semi Furnished         1-3 years            All  \n",
       "\n",
       "[1000 rows x 8 columns]"
      ]
     },
     "execution_count": 4,
     "metadata": {},
     "output_type": "execute_result"
    }
   ],
   "source": [
    "df"
   ]
  },
  {
   "cell_type": "code",
   "execution_count": 5,
   "metadata": {
    "colab": {
     "base_uri": "https://localhost:8080/"
    },
    "id": "0w1Nm-kKzcLn",
    "outputId": "235c2953-2c48-42e7-caba-73a1283d8682"
   },
   "outputs": [
    {
     "name": "stdout",
     "output_type": "stream",
     "text": [
      "<class 'pandas.core.frame.DataFrame'>\n",
      "RangeIndex: 1000 entries, 0 to 999\n",
      "Data columns (total 8 columns):\n",
      " #   Column         Non-Null Count  Dtype \n",
      "---  ------         --------------  ----- \n",
      " 0   Title          1000 non-null   object\n",
      " 1   Address        1000 non-null   object\n",
      " 2   Rent(Rs)       1000 non-null   object\n",
      " 3   Deposit(Rs)    1000 non-null   int64 \n",
      " 4   Size(Acres)    1000 non-null   int64 \n",
      " 5   Furnishing     1000 non-null   object\n",
      " 6   Property age   1000 non-null   object\n",
      " 7   Available for  1000 non-null   object\n",
      "dtypes: int64(2), object(6)\n",
      "memory usage: 62.6+ KB\n"
     ]
    }
   ],
   "source": [
    "df.info()"
   ]
  },
  {
   "cell_type": "code",
   "execution_count": 6,
   "metadata": {
    "colab": {
     "base_uri": "https://localhost:8080/",
     "height": 300
    },
    "id": "zSw2NqEJzcLn",
    "outputId": "cdf525df-192e-434b-9432-6a511bdf172a"
   },
   "outputs": [
    {
     "data": {
      "text/html": [
       "\n",
       "  <div id=\"df-6f682427-1371-480a-9613-8d23fb104b65\">\n",
       "    <div class=\"colab-df-container\">\n",
       "      <div>\n",
       "<style scoped>\n",
       "    .dataframe tbody tr th:only-of-type {\n",
       "        vertical-align: middle;\n",
       "    }\n",
       "\n",
       "    .dataframe tbody tr th {\n",
       "        vertical-align: top;\n",
       "    }\n",
       "\n",
       "    .dataframe thead th {\n",
       "        text-align: right;\n",
       "    }\n",
       "</style>\n",
       "<table border=\"1\" class=\"dataframe\">\n",
       "  <thead>\n",
       "    <tr style=\"text-align: right;\">\n",
       "      <th></th>\n",
       "      <th>Deposit(Rs)</th>\n",
       "      <th>Size(Acres)</th>\n",
       "    </tr>\n",
       "  </thead>\n",
       "  <tbody>\n",
       "    <tr>\n",
       "      <th>count</th>\n",
       "      <td>1.000000e+03</td>\n",
       "      <td>1000.000000</td>\n",
       "    </tr>\n",
       "    <tr>\n",
       "      <th>mean</th>\n",
       "      <td>1.378113e+05</td>\n",
       "      <td>1036.503000</td>\n",
       "    </tr>\n",
       "    <tr>\n",
       "      <th>std</th>\n",
       "      <td>1.881969e+05</td>\n",
       "      <td>555.900743</td>\n",
       "    </tr>\n",
       "    <tr>\n",
       "      <th>min</th>\n",
       "      <td>1.000000e+00</td>\n",
       "      <td>100.000000</td>\n",
       "    </tr>\n",
       "    <tr>\n",
       "      <th>25%</th>\n",
       "      <td>5.000000e+04</td>\n",
       "      <td>700.000000</td>\n",
       "    </tr>\n",
       "    <tr>\n",
       "      <th>50%</th>\n",
       "      <td>9.000000e+04</td>\n",
       "      <td>922.000000</td>\n",
       "    </tr>\n",
       "    <tr>\n",
       "      <th>75%</th>\n",
       "      <td>1.500000e+05</td>\n",
       "      <td>1211.250000</td>\n",
       "    </tr>\n",
       "    <tr>\n",
       "      <th>max</th>\n",
       "      <td>2.000000e+06</td>\n",
       "      <td>4400.000000</td>\n",
       "    </tr>\n",
       "  </tbody>\n",
       "</table>\n",
       "</div>\n",
       "      <button class=\"colab-df-convert\" onclick=\"convertToInteractive('df-6f682427-1371-480a-9613-8d23fb104b65')\"\n",
       "              title=\"Convert this dataframe to an interactive table.\"\n",
       "              style=\"display:none;\">\n",
       "        \n",
       "  <svg xmlns=\"http://www.w3.org/2000/svg\" height=\"24px\"viewBox=\"0 0 24 24\"\n",
       "       width=\"24px\">\n",
       "    <path d=\"M0 0h24v24H0V0z\" fill=\"none\"/>\n",
       "    <path d=\"M18.56 5.44l.94 2.06.94-2.06 2.06-.94-2.06-.94-.94-2.06-.94 2.06-2.06.94zm-11 1L8.5 8.5l.94-2.06 2.06-.94-2.06-.94L8.5 2.5l-.94 2.06-2.06.94zm10 10l.94 2.06.94-2.06 2.06-.94-2.06-.94-.94-2.06-.94 2.06-2.06.94z\"/><path d=\"M17.41 7.96l-1.37-1.37c-.4-.4-.92-.59-1.43-.59-.52 0-1.04.2-1.43.59L10.3 9.45l-7.72 7.72c-.78.78-.78 2.05 0 2.83L4 21.41c.39.39.9.59 1.41.59.51 0 1.02-.2 1.41-.59l7.78-7.78 2.81-2.81c.8-.78.8-2.07 0-2.86zM5.41 20L4 18.59l7.72-7.72 1.47 1.35L5.41 20z\"/>\n",
       "  </svg>\n",
       "      </button>\n",
       "      \n",
       "  <style>\n",
       "    .colab-df-container {\n",
       "      display:flex;\n",
       "      flex-wrap:wrap;\n",
       "      gap: 12px;\n",
       "    }\n",
       "\n",
       "    .colab-df-convert {\n",
       "      background-color: #E8F0FE;\n",
       "      border: none;\n",
       "      border-radius: 50%;\n",
       "      cursor: pointer;\n",
       "      display: none;\n",
       "      fill: #1967D2;\n",
       "      height: 32px;\n",
       "      padding: 0 0 0 0;\n",
       "      width: 32px;\n",
       "    }\n",
       "\n",
       "    .colab-df-convert:hover {\n",
       "      background-color: #E2EBFA;\n",
       "      box-shadow: 0px 1px 2px rgba(60, 64, 67, 0.3), 0px 1px 3px 1px rgba(60, 64, 67, 0.15);\n",
       "      fill: #174EA6;\n",
       "    }\n",
       "\n",
       "    [theme=dark] .colab-df-convert {\n",
       "      background-color: #3B4455;\n",
       "      fill: #D2E3FC;\n",
       "    }\n",
       "\n",
       "    [theme=dark] .colab-df-convert:hover {\n",
       "      background-color: #434B5C;\n",
       "      box-shadow: 0px 1px 3px 1px rgba(0, 0, 0, 0.15);\n",
       "      filter: drop-shadow(0px 1px 2px rgba(0, 0, 0, 0.3));\n",
       "      fill: #FFFFFF;\n",
       "    }\n",
       "  </style>\n",
       "\n",
       "      <script>\n",
       "        const buttonEl =\n",
       "          document.querySelector('#df-6f682427-1371-480a-9613-8d23fb104b65 button.colab-df-convert');\n",
       "        buttonEl.style.display =\n",
       "          google.colab.kernel.accessAllowed ? 'block' : 'none';\n",
       "\n",
       "        async function convertToInteractive(key) {\n",
       "          const element = document.querySelector('#df-6f682427-1371-480a-9613-8d23fb104b65');\n",
       "          const dataTable =\n",
       "            await google.colab.kernel.invokeFunction('convertToInteractive',\n",
       "                                                     [key], {});\n",
       "          if (!dataTable) return;\n",
       "\n",
       "          const docLinkHtml = 'Like what you see? Visit the ' +\n",
       "            '<a target=\"_blank\" href=https://colab.research.google.com/notebooks/data_table.ipynb>data table notebook</a>'\n",
       "            + ' to learn more about interactive tables.';\n",
       "          element.innerHTML = '';\n",
       "          dataTable['output_type'] = 'display_data';\n",
       "          await google.colab.output.renderOutput(dataTable, element);\n",
       "          const docLink = document.createElement('div');\n",
       "          docLink.innerHTML = docLinkHtml;\n",
       "          element.appendChild(docLink);\n",
       "        }\n",
       "      </script>\n",
       "    </div>\n",
       "  </div>\n",
       "  "
      ],
      "text/plain": [
       "        Deposit(Rs)  Size(Acres)\n",
       "count  1.000000e+03  1000.000000\n",
       "mean   1.378113e+05  1036.503000\n",
       "std    1.881969e+05   555.900743\n",
       "min    1.000000e+00   100.000000\n",
       "25%    5.000000e+04   700.000000\n",
       "50%    9.000000e+04   922.000000\n",
       "75%    1.500000e+05  1211.250000\n",
       "max    2.000000e+06  4400.000000"
      ]
     },
     "execution_count": 6,
     "metadata": {},
     "output_type": "execute_result"
    }
   ],
   "source": [
    "df.describe()"
   ]
  },
  {
   "cell_type": "code",
   "execution_count": 6,
   "metadata": {},
   "outputs": [
    {
     "data": {
      "text/plain": [
       "Index(['Title', 'Address', 'Rent(Rs)', 'Deposit(Rs)', 'Size(Acres)',\n",
       "       'Furnishing', 'Property age', 'Available for'],\n",
       "      dtype='object')"
      ]
     },
     "execution_count": 6,
     "metadata": {},
     "output_type": "execute_result"
    }
   ],
   "source": [
    "df.columns"
   ]
  },
  {
   "cell_type": "code",
   "execution_count": 7,
   "metadata": {
    "colab": {
     "base_uri": "https://localhost:8080/"
    },
    "id": "4fXJCj70zcLo",
    "outputId": "a7a2400c-ee0f-4480-fa28-3dc1eed2b16d"
   },
   "outputs": [
    {
     "data": {
      "text/plain": [
       "Title            0\n",
       "Address          0\n",
       "Rent(Rs)         0\n",
       "Deposit(Rs)      0\n",
       "Size(Acres)      0\n",
       "Furnishing       0\n",
       "Property age     0\n",
       "Available for    0\n",
       "dtype: int64"
      ]
     },
     "execution_count": 7,
     "metadata": {},
     "output_type": "execute_result"
    }
   ],
   "source": [
    "df.isnull().sum()"
   ]
  },
  {
   "cell_type": "markdown",
   "metadata": {
    "id": "67kt2PiKzcLp"
   },
   "source": [
    "#Data cleaning "
   ]
  },
  {
   "cell_type": "code",
   "execution_count": 8,
   "metadata": {
    "colab": {
     "base_uri": "https://localhost:8080/"
    },
    "id": "uhih_bpJzcLr",
    "outputId": "9605825f-aefa-44a3-f592-9ef7547a0a80"
   },
   "outputs": [
    {
     "data": {
      "text/plain": [
       "Semi Furnished    584\n",
       "UnFurnished       356\n",
       "Full Furnished     60\n",
       "Name: Furnishing, dtype: int64"
      ]
     },
     "execution_count": 8,
     "metadata": {},
     "output_type": "execute_result"
    }
   ],
   "source": [
    "df['Furnishing'].value_counts()"
   ]
  },
  {
   "cell_type": "code",
   "execution_count": 9,
   "metadata": {
    "colab": {
     "base_uri": "https://localhost:8080/"
    },
    "id": "ceM6kYv1zcLr",
    "outputId": "5fcb8ef4-f1d6-439c-ba8f-41a4ae9b0eea"
   },
   "outputs": [
    {
     "data": {
      "text/plain": [
       "Newly Constructed     233\n",
       "5-10 years            222\n",
       ">10 years             205\n",
       "3-5 years             175\n",
       "1-3 years             155\n",
       "Under Construction     10\n",
       "Name: Property age, dtype: int64"
      ]
     },
     "execution_count": 9,
     "metadata": {},
     "output_type": "execute_result"
    }
   ],
   "source": [
    "df['Property age'].value_counts()"
   ]
  },
  {
   "cell_type": "code",
   "execution_count": 10,
   "metadata": {
    "colab": {
     "base_uri": "https://localhost:8080/"
    },
    "id": "ficpkTaNzcLs",
    "outputId": "a474f65e-1eda-4104-8b07-f3fd59c3dd72"
   },
   "outputs": [
    {
     "data": {
      "text/plain": [
       "Family       581\n",
       "All          358\n",
       "Bachelors     51\n",
       "Company       10\n",
       "Name: Available for, dtype: int64"
      ]
     },
     "execution_count": 10,
     "metadata": {},
     "output_type": "execute_result"
    }
   ],
   "source": [
    "df['Available for'].value_counts()"
   ]
  },
  {
   "cell_type": "code",
   "execution_count": 11,
   "metadata": {
    "colab": {
     "base_uri": "https://localhost:8080/"
    },
    "id": "fj43_JJ1zcLt",
    "outputId": "61841f5e-1099-4044-98f9-43dd5c2599d0"
   },
   "outputs": [
    {
     "data": {
      "text/plain": [
       "0      Loyola College, Nelson Manickam Road, Nungamba...\n",
       "1                      Appaswamy Platina, Porur, Chennai\n",
       "2      No, 04, Rajan Kuppam Road, Gangai Amman Koil S...\n",
       "3      Omr Road, Kottivakkam, Near Indian Oil Petrol ...\n",
       "4      Ramakrishnapuram Near B K Sweets ( Lakshmi Vil...\n",
       "                             ...                        \n",
       "995    Bhuvaneshwari Nagar, Velachery, Chennai, Tamil...\n",
       "996    Independent House, Green Court,near Jeyachandr...\n",
       "997    Standalone Building, Ashok Pillar, Indira Colo...\n",
       "998    Pallikaranai, Chennai - 600100, Tamil Nadu, In...\n",
       "999                         Uthandi,near Imperial Towers\n",
       "Name: Address, Length: 1000, dtype: object"
      ]
     },
     "execution_count": 11,
     "metadata": {},
     "output_type": "execute_result"
    }
   ],
   "source": [
    "df['Address']"
   ]
  },
  {
   "cell_type": "code",
   "execution_count": 12,
   "metadata": {
    "id": "m92SewzkzcLt"
   },
   "outputs": [],
   "source": [
    "def checkbhk(str):\n",
    "    res = [int(i)for i in str.split() if i.isdigit()]\n",
    "    if(len(res)==0):\n",
    "        return 0\n",
    "    else:\n",
    "        return res[0]"
   ]
  },
  {
   "cell_type": "code",
   "execution_count": 13,
   "metadata": {
    "id": "WUo_uA1AzcLu"
   },
   "outputs": [],
   "source": [
    "ls=[]\n",
    "for i in range(998):\n",
    "    ls.append(checkbhk(df.iloc[i,0]))"
   ]
  },
  {
   "cell_type": "code",
   "execution_count": 14,
   "metadata": {
    "id": "3-TAA6tWzcLu"
   },
   "outputs": [],
   "source": [
    "x = pd.Series(ls)"
   ]
  },
  {
   "cell_type": "code",
   "execution_count": 15,
   "metadata": {
    "colab": {
     "base_uri": "https://localhost:8080/"
    },
    "id": "pPUB6f62zcLu",
    "outputId": "0cbaf2c1-6135-43fc-c862-438c9a5db87c"
   },
   "outputs": [
    {
     "data": {
      "text/plain": [
       "0      2\n",
       "1      3\n",
       "2      3\n",
       "3      3\n",
       "4      2\n",
       "      ..\n",
       "993    2\n",
       "994    3\n",
       "995    2\n",
       "996    3\n",
       "997    2\n",
       "Length: 998, dtype: int64"
      ]
     },
     "execution_count": 15,
     "metadata": {},
     "output_type": "execute_result"
    }
   ],
   "source": [
    "x"
   ]
  },
  {
   "cell_type": "code",
   "execution_count": 16,
   "metadata": {
    "id": "JUxRIyZ2zcLv"
   },
   "outputs": [],
   "source": [
    "df['bhk'] = x"
   ]
  },
  {
   "cell_type": "code",
   "execution_count": 17,
   "metadata": {
    "colab": {
     "base_uri": "https://localhost:8080/",
     "height": 658
    },
    "id": "FT5ff8SuzcLv",
    "outputId": "3654f778-832e-41f5-d744-3fdb30a05431"
   },
   "outputs": [
    {
     "data": {
      "text/html": [
       "\n",
       "  <div id=\"df-ae81139c-561d-4973-9a5d-b31556e6cf4f\">\n",
       "    <div class=\"colab-df-container\">\n",
       "      <div>\n",
       "<style scoped>\n",
       "    .dataframe tbody tr th:only-of-type {\n",
       "        vertical-align: middle;\n",
       "    }\n",
       "\n",
       "    .dataframe tbody tr th {\n",
       "        vertical-align: top;\n",
       "    }\n",
       "\n",
       "    .dataframe thead th {\n",
       "        text-align: right;\n",
       "    }\n",
       "</style>\n",
       "<table border=\"1\" class=\"dataframe\">\n",
       "  <thead>\n",
       "    <tr style=\"text-align: right;\">\n",
       "      <th></th>\n",
       "      <th>Title</th>\n",
       "      <th>Address</th>\n",
       "      <th>Rent(Rs)</th>\n",
       "      <th>Deposit(Rs)</th>\n",
       "      <th>Size(Acres)</th>\n",
       "      <th>Furnishing</th>\n",
       "      <th>Property age</th>\n",
       "      <th>Available for</th>\n",
       "      <th>bhk</th>\n",
       "    </tr>\n",
       "  </thead>\n",
       "  <tbody>\n",
       "    <tr>\n",
       "      <th>0</th>\n",
       "      <td>2 BHK in Adhisri Apartments, Nungambakkam</td>\n",
       "      <td>Loyola College, Nelson Manickam Road, Nungamba...</td>\n",
       "      <td>31000</td>\n",
       "      <td>250000</td>\n",
       "      <td>1200</td>\n",
       "      <td>Semi Furnished</td>\n",
       "      <td>&gt;10 years</td>\n",
       "      <td>All</td>\n",
       "      <td>2.0</td>\n",
       "    </tr>\n",
       "    <tr>\n",
       "      <th>1</th>\n",
       "      <td>3 BHK in Appaswamy Platina, Porur</td>\n",
       "      <td>Appaswamy Platina, Porur, Chennai</td>\n",
       "      <td>35000</td>\n",
       "      <td>200000</td>\n",
       "      <td>1708</td>\n",
       "      <td>Semi Furnished</td>\n",
       "      <td>Newly Constructed</td>\n",
       "      <td>Family</td>\n",
       "      <td>3.0</td>\n",
       "    </tr>\n",
       "    <tr>\n",
       "      <th>2</th>\n",
       "      <td>3 BHK in Sham SGS Apartment, Vaanagaram</td>\n",
       "      <td>No, 04, Rajan Kuppam Road, Gangai Amman Koil S...</td>\n",
       "      <td>17000</td>\n",
       "      <td>150000</td>\n",
       "      <td>1350</td>\n",
       "      <td>Semi Furnished</td>\n",
       "      <td>Newly Constructed</td>\n",
       "      <td>All</td>\n",
       "      <td>3.0</td>\n",
       "    </tr>\n",
       "    <tr>\n",
       "      <th>3</th>\n",
       "      <td>3 BHK in Siri, Perungudi</td>\n",
       "      <td>Omr Road, Kottivakkam, Near Indian Oil Petrol ...</td>\n",
       "      <td>30000</td>\n",
       "      <td>100000</td>\n",
       "      <td>1600</td>\n",
       "      <td>Semi Furnished</td>\n",
       "      <td>3-5 years</td>\n",
       "      <td>Family</td>\n",
       "      <td>3.0</td>\n",
       "    </tr>\n",
       "    <tr>\n",
       "      <th>4</th>\n",
       "      <td>2 BHK in Parijatham illam, West Mambalam</td>\n",
       "      <td>Ramakrishnapuram Near B K Sweets ( Lakshmi Vil...</td>\n",
       "      <td>14500</td>\n",
       "      <td>96000</td>\n",
       "      <td>700</td>\n",
       "      <td>Semi Furnished</td>\n",
       "      <td>&gt;10 years</td>\n",
       "      <td>Family</td>\n",
       "      <td>2.0</td>\n",
       "    </tr>\n",
       "    <tr>\n",
       "      <th>...</th>\n",
       "      <td>...</td>\n",
       "      <td>...</td>\n",
       "      <td>...</td>\n",
       "      <td>...</td>\n",
       "      <td>...</td>\n",
       "      <td>...</td>\n",
       "      <td>...</td>\n",
       "      <td>...</td>\n",
       "      <td>...</td>\n",
       "    </tr>\n",
       "    <tr>\n",
       "      <th>995</th>\n",
       "      <td>2 BHK in Maha Flats, Velachery</td>\n",
       "      <td>Bhuvaneshwari Nagar, Velachery, Chennai, Tamil...</td>\n",
       "      <td>20000</td>\n",
       "      <td>100000</td>\n",
       "      <td>810</td>\n",
       "      <td>Semi Furnished</td>\n",
       "      <td>&gt;10 years</td>\n",
       "      <td>All</td>\n",
       "      <td>2.0</td>\n",
       "    </tr>\n",
       "    <tr>\n",
       "      <th>996</th>\n",
       "      <td>3 BHK in Medavakkam</td>\n",
       "      <td>Independent House, Green Court,near Jeyachandr...</td>\n",
       "      <td>15000</td>\n",
       "      <td>45000</td>\n",
       "      <td>1500</td>\n",
       "      <td>UnFurnished</td>\n",
       "      <td>&gt;10 years</td>\n",
       "      <td>Family</td>\n",
       "      <td>3.0</td>\n",
       "    </tr>\n",
       "    <tr>\n",
       "      <th>997</th>\n",
       "      <td>2 BHK in Ashok Nagar</td>\n",
       "      <td>Standalone Building, Ashok Pillar, Indira Colo...</td>\n",
       "      <td>15000</td>\n",
       "      <td>100000</td>\n",
       "      <td>900</td>\n",
       "      <td>UnFurnished</td>\n",
       "      <td>&gt;10 years</td>\n",
       "      <td>All</td>\n",
       "      <td>2.0</td>\n",
       "    </tr>\n",
       "    <tr>\n",
       "      <th>998</th>\n",
       "      <td>3 BHK in Sis Danube, Pallikaranai</td>\n",
       "      <td>Pallikaranai, Chennai - 600100, Tamil Nadu, In...</td>\n",
       "      <td>18000</td>\n",
       "      <td>108000</td>\n",
       "      <td>1500</td>\n",
       "      <td>Semi Furnished</td>\n",
       "      <td>3-5 years</td>\n",
       "      <td>Family</td>\n",
       "      <td>NaN</td>\n",
       "    </tr>\n",
       "    <tr>\n",
       "      <th>999</th>\n",
       "      <td>3 BHK in Heeranandani upscale, Egatoor</td>\n",
       "      <td>Uthandi,near Imperial Towers</td>\n",
       "      <td>28000</td>\n",
       "      <td>170000</td>\n",
       "      <td>1400</td>\n",
       "      <td>Semi Furnished</td>\n",
       "      <td>1-3 years</td>\n",
       "      <td>All</td>\n",
       "      <td>NaN</td>\n",
       "    </tr>\n",
       "  </tbody>\n",
       "</table>\n",
       "<p>1000 rows × 9 columns</p>\n",
       "</div>\n",
       "      <button class=\"colab-df-convert\" onclick=\"convertToInteractive('df-ae81139c-561d-4973-9a5d-b31556e6cf4f')\"\n",
       "              title=\"Convert this dataframe to an interactive table.\"\n",
       "              style=\"display:none;\">\n",
       "        \n",
       "  <svg xmlns=\"http://www.w3.org/2000/svg\" height=\"24px\"viewBox=\"0 0 24 24\"\n",
       "       width=\"24px\">\n",
       "    <path d=\"M0 0h24v24H0V0z\" fill=\"none\"/>\n",
       "    <path d=\"M18.56 5.44l.94 2.06.94-2.06 2.06-.94-2.06-.94-.94-2.06-.94 2.06-2.06.94zm-11 1L8.5 8.5l.94-2.06 2.06-.94-2.06-.94L8.5 2.5l-.94 2.06-2.06.94zm10 10l.94 2.06.94-2.06 2.06-.94-2.06-.94-.94-2.06-.94 2.06-2.06.94z\"/><path d=\"M17.41 7.96l-1.37-1.37c-.4-.4-.92-.59-1.43-.59-.52 0-1.04.2-1.43.59L10.3 9.45l-7.72 7.72c-.78.78-.78 2.05 0 2.83L4 21.41c.39.39.9.59 1.41.59.51 0 1.02-.2 1.41-.59l7.78-7.78 2.81-2.81c.8-.78.8-2.07 0-2.86zM5.41 20L4 18.59l7.72-7.72 1.47 1.35L5.41 20z\"/>\n",
       "  </svg>\n",
       "      </button>\n",
       "      \n",
       "  <style>\n",
       "    .colab-df-container {\n",
       "      display:flex;\n",
       "      flex-wrap:wrap;\n",
       "      gap: 12px;\n",
       "    }\n",
       "\n",
       "    .colab-df-convert {\n",
       "      background-color: #E8F0FE;\n",
       "      border: none;\n",
       "      border-radius: 50%;\n",
       "      cursor: pointer;\n",
       "      display: none;\n",
       "      fill: #1967D2;\n",
       "      height: 32px;\n",
       "      padding: 0 0 0 0;\n",
       "      width: 32px;\n",
       "    }\n",
       "\n",
       "    .colab-df-convert:hover {\n",
       "      background-color: #E2EBFA;\n",
       "      box-shadow: 0px 1px 2px rgba(60, 64, 67, 0.3), 0px 1px 3px 1px rgba(60, 64, 67, 0.15);\n",
       "      fill: #174EA6;\n",
       "    }\n",
       "\n",
       "    [theme=dark] .colab-df-convert {\n",
       "      background-color: #3B4455;\n",
       "      fill: #D2E3FC;\n",
       "    }\n",
       "\n",
       "    [theme=dark] .colab-df-convert:hover {\n",
       "      background-color: #434B5C;\n",
       "      box-shadow: 0px 1px 3px 1px rgba(0, 0, 0, 0.15);\n",
       "      filter: drop-shadow(0px 1px 2px rgba(0, 0, 0, 0.3));\n",
       "      fill: #FFFFFF;\n",
       "    }\n",
       "  </style>\n",
       "\n",
       "      <script>\n",
       "        const buttonEl =\n",
       "          document.querySelector('#df-ae81139c-561d-4973-9a5d-b31556e6cf4f button.colab-df-convert');\n",
       "        buttonEl.style.display =\n",
       "          google.colab.kernel.accessAllowed ? 'block' : 'none';\n",
       "\n",
       "        async function convertToInteractive(key) {\n",
       "          const element = document.querySelector('#df-ae81139c-561d-4973-9a5d-b31556e6cf4f');\n",
       "          const dataTable =\n",
       "            await google.colab.kernel.invokeFunction('convertToInteractive',\n",
       "                                                     [key], {});\n",
       "          if (!dataTable) return;\n",
       "\n",
       "          const docLinkHtml = 'Like what you see? Visit the ' +\n",
       "            '<a target=\"_blank\" href=https://colab.research.google.com/notebooks/data_table.ipynb>data table notebook</a>'\n",
       "            + ' to learn more about interactive tables.';\n",
       "          element.innerHTML = '';\n",
       "          dataTable['output_type'] = 'display_data';\n",
       "          await google.colab.output.renderOutput(dataTable, element);\n",
       "          const docLink = document.createElement('div');\n",
       "          docLink.innerHTML = docLinkHtml;\n",
       "          element.appendChild(docLink);\n",
       "        }\n",
       "      </script>\n",
       "    </div>\n",
       "  </div>\n",
       "  "
      ],
      "text/plain": [
       "                                         Title  \\\n",
       "0    2 BHK in Adhisri Apartments, Nungambakkam   \n",
       "1            3 BHK in Appaswamy Platina, Porur   \n",
       "2      3 BHK in Sham SGS Apartment, Vaanagaram   \n",
       "3                     3 BHK in Siri, Perungudi   \n",
       "4     2 BHK in Parijatham illam, West Mambalam   \n",
       "..                                         ...   \n",
       "995             2 BHK in Maha Flats, Velachery   \n",
       "996                        3 BHK in Medavakkam   \n",
       "997                       2 BHK in Ashok Nagar   \n",
       "998          3 BHK in Sis Danube, Pallikaranai   \n",
       "999     3 BHK in Heeranandani upscale, Egatoor   \n",
       "\n",
       "                                               Address Rent(Rs)  Deposit(Rs)  \\\n",
       "0    Loyola College, Nelson Manickam Road, Nungamba...    31000       250000   \n",
       "1                    Appaswamy Platina, Porur, Chennai    35000       200000   \n",
       "2    No, 04, Rajan Kuppam Road, Gangai Amman Koil S...    17000       150000   \n",
       "3    Omr Road, Kottivakkam, Near Indian Oil Petrol ...    30000       100000   \n",
       "4    Ramakrishnapuram Near B K Sweets ( Lakshmi Vil...    14500        96000   \n",
       "..                                                 ...      ...          ...   \n",
       "995  Bhuvaneshwari Nagar, Velachery, Chennai, Tamil...    20000       100000   \n",
       "996  Independent House, Green Court,near Jeyachandr...    15000        45000   \n",
       "997  Standalone Building, Ashok Pillar, Indira Colo...    15000       100000   \n",
       "998  Pallikaranai, Chennai - 600100, Tamil Nadu, In...    18000       108000   \n",
       "999                       Uthandi,near Imperial Towers    28000       170000   \n",
       "\n",
       "     Size(Acres)      Furnishing       Property age Available for  bhk  \n",
       "0           1200  Semi Furnished         >10 years            All  2.0  \n",
       "1           1708  Semi Furnished  Newly Constructed        Family  3.0  \n",
       "2           1350  Semi Furnished  Newly Constructed           All  3.0  \n",
       "3           1600  Semi Furnished         3-5 years         Family  3.0  \n",
       "4            700  Semi Furnished         >10 years         Family  2.0  \n",
       "..           ...             ...                ...           ...  ...  \n",
       "995          810  Semi Furnished         >10 years            All  2.0  \n",
       "996         1500     UnFurnished         >10 years         Family  3.0  \n",
       "997          900     UnFurnished         >10 years            All  2.0  \n",
       "998         1500  Semi Furnished         3-5 years         Family  NaN  \n",
       "999         1400  Semi Furnished         1-3 years            All  NaN  \n",
       "\n",
       "[1000 rows x 9 columns]"
      ]
     },
     "execution_count": 17,
     "metadata": {},
     "output_type": "execute_result"
    }
   ],
   "source": [
    "df"
   ]
  },
  {
   "cell_type": "code",
   "execution_count": 18,
   "metadata": {
    "colab": {
     "base_uri": "https://localhost:8080/"
    },
    "id": "JQFYBRP6zcLw",
    "outputId": "12cc3461-51b4-4b25-d673-2cf3ee708036"
   },
   "outputs": [
    {
     "data": {
      "text/plain": [
       "2"
      ]
     },
     "execution_count": 18,
     "metadata": {},
     "output_type": "execute_result"
    }
   ],
   "source": [
    "df['bhk'].isnull().sum()"
   ]
  },
  {
   "cell_type": "code",
   "execution_count": 19,
   "metadata": {
    "colab": {
     "base_uri": "https://localhost:8080/"
    },
    "id": "vHK-wQDIzcLw",
    "outputId": "92d82d21-8fd9-478b-e50c-ce076fef2997"
   },
   "outputs": [
    {
     "data": {
      "text/plain": [
       "2.0    501\n",
       "3.0    244\n",
       "1.0    222\n",
       "4.0     24\n",
       "0.0      7\n",
       "Name: bhk, dtype: int64"
      ]
     },
     "execution_count": 19,
     "metadata": {},
     "output_type": "execute_result"
    }
   ],
   "source": [
    "df['bhk'].value_counts()"
   ]
  },
  {
   "cell_type": "code",
   "execution_count": 20,
   "metadata": {
    "id": "TrdpKwKdzcLw"
   },
   "outputs": [],
   "source": [
    "df.drop(df[df['bhk'] == 0].index, inplace = True)"
   ]
  },
  {
   "cell_type": "code",
   "execution_count": 21,
   "metadata": {
    "colab": {
     "base_uri": "https://localhost:8080/"
    },
    "id": "X68SDFBJzcLw",
    "outputId": "455f6973-432f-4528-ab1c-f3724b2ec778"
   },
   "outputs": [
    {
     "data": {
      "text/plain": [
       "2.0    501\n",
       "3.0    244\n",
       "1.0    222\n",
       "4.0     24\n",
       "Name: bhk, dtype: int64"
      ]
     },
     "execution_count": 21,
     "metadata": {},
     "output_type": "execute_result"
    }
   ],
   "source": [
    "df['bhk'].value_counts()"
   ]
  },
  {
   "cell_type": "code",
   "execution_count": 22,
   "metadata": {
    "colab": {
     "base_uri": "https://localhost:8080/"
    },
    "id": "sHqphzhEzcLx",
    "outputId": "ea204342-e655-444f-c76e-38480a55a473"
   },
   "outputs": [
    {
     "data": {
      "text/plain": [
       "(993, 9)"
      ]
     },
     "execution_count": 22,
     "metadata": {},
     "output_type": "execute_result"
    }
   ],
   "source": [
    "df.shape"
   ]
  },
  {
   "cell_type": "code",
   "execution_count": 23,
   "metadata": {
    "id": "gc3MifsizcLx"
   },
   "outputs": [],
   "source": [
    "df.dropna(inplace=True)"
   ]
  },
  {
   "cell_type": "code",
   "execution_count": 24,
   "metadata": {
    "colab": {
     "base_uri": "https://localhost:8080/"
    },
    "id": "juF8NHXqzcLx",
    "outputId": "33b7547a-e647-438b-f383-4b9a18ce4ced"
   },
   "outputs": [
    {
     "data": {
      "text/plain": [
       "Title            0\n",
       "Address          0\n",
       "Rent(Rs)         0\n",
       "Deposit(Rs)      0\n",
       "Size(Acres)      0\n",
       "Furnishing       0\n",
       "Property age     0\n",
       "Available for    0\n",
       "bhk              0\n",
       "dtype: int64"
      ]
     },
     "execution_count": 24,
     "metadata": {},
     "output_type": "execute_result"
    }
   ],
   "source": [
    "df.isnull().sum()"
   ]
  },
  {
   "cell_type": "code",
   "execution_count": 25,
   "metadata": {
    "colab": {
     "base_uri": "https://localhost:8080/"
    },
    "id": "8vMv6r7jzcLy",
    "outputId": "a61f460a-084d-4adf-e75d-0968fd46a7ad"
   },
   "outputs": [
    {
     "data": {
      "text/plain": [
       "False    969\n",
       "True      22\n",
       "dtype: int64"
      ]
     },
     "execution_count": 25,
     "metadata": {},
     "output_type": "execute_result"
    }
   ],
   "source": [
    "df.duplicated().value_counts()"
   ]
  },
  {
   "cell_type": "markdown",
   "metadata": {
    "id": "4Z7mlHnEzcLy"
   },
   "source": [
    "duplicated values = 22"
   ]
  },
  {
   "cell_type": "code",
   "execution_count": 26,
   "metadata": {
    "id": "aIKv41wYzcLy"
   },
   "outputs": [],
   "source": [
    "df = df.drop_duplicates()"
   ]
  },
  {
   "cell_type": "code",
   "execution_count": 27,
   "metadata": {
    "colab": {
     "base_uri": "https://localhost:8080/"
    },
    "id": "7E_l0wU3zcLy",
    "outputId": "3214eb9a-12b9-4fb5-95e0-2e2123d25369"
   },
   "outputs": [
    {
     "data": {
      "text/plain": [
       "False    969\n",
       "dtype: int64"
      ]
     },
     "execution_count": 27,
     "metadata": {},
     "output_type": "execute_result"
    }
   ],
   "source": [
    "df.duplicated().value_counts()"
   ]
  },
  {
   "cell_type": "code",
   "execution_count": 28,
   "metadata": {
    "colab": {
     "base_uri": "https://localhost:8080/"
    },
    "id": "5AFz1nmSzcLz",
    "outputId": "95db8c5d-dcee-4f5f-9499-30c8e64ea3d3"
   },
   "outputs": [
    {
     "data": {
      "text/plain": [
       "(969, 9)"
      ]
     },
     "execution_count": 28,
     "metadata": {},
     "output_type": "execute_result"
    }
   ],
   "source": [
    "df.shape"
   ]
  },
  {
   "cell_type": "code",
   "execution_count": 29,
   "metadata": {
    "colab": {
     "base_uri": "https://localhost:8080/",
     "height": 598
    },
    "id": "JIU36ViWzcLz",
    "outputId": "76f9df8b-7d9e-4e10-f1e6-865a3ca615da"
   },
   "outputs": [
    {
     "data": {
      "text/html": [
       "\n",
       "  <div id=\"df-d90860f7-4265-4407-85e9-11637e7a8e4e\">\n",
       "    <div class=\"colab-df-container\">\n",
       "      <div>\n",
       "<style scoped>\n",
       "    .dataframe tbody tr th:only-of-type {\n",
       "        vertical-align: middle;\n",
       "    }\n",
       "\n",
       "    .dataframe tbody tr th {\n",
       "        vertical-align: top;\n",
       "    }\n",
       "\n",
       "    .dataframe thead th {\n",
       "        text-align: right;\n",
       "    }\n",
       "</style>\n",
       "<table border=\"1\" class=\"dataframe\">\n",
       "  <thead>\n",
       "    <tr style=\"text-align: right;\">\n",
       "      <th></th>\n",
       "      <th>Title</th>\n",
       "      <th>Address</th>\n",
       "      <th>Rent(Rs)</th>\n",
       "      <th>Deposit(Rs)</th>\n",
       "      <th>Size(Acres)</th>\n",
       "      <th>Furnishing</th>\n",
       "      <th>Property age</th>\n",
       "      <th>Available for</th>\n",
       "      <th>bhk</th>\n",
       "    </tr>\n",
       "  </thead>\n",
       "  <tbody>\n",
       "    <tr>\n",
       "      <th>0</th>\n",
       "      <td>2 BHK in Adhisri Apartments, Nungambakkam</td>\n",
       "      <td>Loyola College, Nelson Manickam Road, Nungamba...</td>\n",
       "      <td>31000</td>\n",
       "      <td>250000</td>\n",
       "      <td>1200</td>\n",
       "      <td>Semi Furnished</td>\n",
       "      <td>&gt;10 years</td>\n",
       "      <td>All</td>\n",
       "      <td>2.0</td>\n",
       "    </tr>\n",
       "    <tr>\n",
       "      <th>1</th>\n",
       "      <td>3 BHK in Appaswamy Platina, Porur</td>\n",
       "      <td>Appaswamy Platina, Porur, Chennai</td>\n",
       "      <td>35000</td>\n",
       "      <td>200000</td>\n",
       "      <td>1708</td>\n",
       "      <td>Semi Furnished</td>\n",
       "      <td>Newly Constructed</td>\n",
       "      <td>Family</td>\n",
       "      <td>3.0</td>\n",
       "    </tr>\n",
       "    <tr>\n",
       "      <th>2</th>\n",
       "      <td>3 BHK in Sham SGS Apartment, Vaanagaram</td>\n",
       "      <td>No, 04, Rajan Kuppam Road, Gangai Amman Koil S...</td>\n",
       "      <td>17000</td>\n",
       "      <td>150000</td>\n",
       "      <td>1350</td>\n",
       "      <td>Semi Furnished</td>\n",
       "      <td>Newly Constructed</td>\n",
       "      <td>All</td>\n",
       "      <td>3.0</td>\n",
       "    </tr>\n",
       "    <tr>\n",
       "      <th>3</th>\n",
       "      <td>3 BHK in Siri, Perungudi</td>\n",
       "      <td>Omr Road, Kottivakkam, Near Indian Oil Petrol ...</td>\n",
       "      <td>30000</td>\n",
       "      <td>100000</td>\n",
       "      <td>1600</td>\n",
       "      <td>Semi Furnished</td>\n",
       "      <td>3-5 years</td>\n",
       "      <td>Family</td>\n",
       "      <td>3.0</td>\n",
       "    </tr>\n",
       "    <tr>\n",
       "      <th>4</th>\n",
       "      <td>2 BHK in Parijatham illam, West Mambalam</td>\n",
       "      <td>Ramakrishnapuram Near B K Sweets ( Lakshmi Vil...</td>\n",
       "      <td>14500</td>\n",
       "      <td>96000</td>\n",
       "      <td>700</td>\n",
       "      <td>Semi Furnished</td>\n",
       "      <td>&gt;10 years</td>\n",
       "      <td>Family</td>\n",
       "      <td>2.0</td>\n",
       "    </tr>\n",
       "    <tr>\n",
       "      <th>5</th>\n",
       "      <td>1 RK in Sri Jaya Mangala Nivas, T Nagar</td>\n",
       "      <td>Thirumalai Pillai Road, T. Nagar, Darmapuram</td>\n",
       "      <td>10000</td>\n",
       "      <td>75000</td>\n",
       "      <td>300</td>\n",
       "      <td>Semi Furnished</td>\n",
       "      <td>&gt;10 years</td>\n",
       "      <td>All</td>\n",
       "      <td>1.0</td>\n",
       "    </tr>\n",
       "    <tr>\n",
       "      <th>6</th>\n",
       "      <td>3 BHK in Sky Dugar Homes, Kil Ayanambakkam</td>\n",
       "      <td>Rajan Kuppam Road, Off Vanagaram-ambattur Road...</td>\n",
       "      <td>22000</td>\n",
       "      <td>250000</td>\n",
       "      <td>1664</td>\n",
       "      <td>Semi Furnished</td>\n",
       "      <td>Newly Constructed</td>\n",
       "      <td>Family</td>\n",
       "      <td>3.0</td>\n",
       "    </tr>\n",
       "    <tr>\n",
       "      <th>7</th>\n",
       "      <td>3 BHK in Alliance Orchid Springs, Korattur</td>\n",
       "      <td>No.54, Water Canal Road, Tvs Nagar, Korattur, ...</td>\n",
       "      <td>21500</td>\n",
       "      <td>150000</td>\n",
       "      <td>1548</td>\n",
       "      <td>Semi Furnished</td>\n",
       "      <td>1-3 years</td>\n",
       "      <td>All</td>\n",
       "      <td>3.0</td>\n",
       "    </tr>\n",
       "    <tr>\n",
       "      <th>8</th>\n",
       "      <td>3 BHK in Adyar</td>\n",
       "      <td>Independent House, Ramasamy Ave</td>\n",
       "      <td>35000</td>\n",
       "      <td>250000</td>\n",
       "      <td>1600</td>\n",
       "      <td>Semi Furnished</td>\n",
       "      <td>5-10 years</td>\n",
       "      <td>Family</td>\n",
       "      <td>3.0</td>\n",
       "    </tr>\n",
       "    <tr>\n",
       "      <th>9</th>\n",
       "      <td>3 BHK in Dlf Gardencity, Semmancheri</td>\n",
       "      <td>Dlf Gardencity, Semmancheri, Thalambur</td>\n",
       "      <td>17500</td>\n",
       "      <td>150000</td>\n",
       "      <td>2067</td>\n",
       "      <td>Semi Furnished</td>\n",
       "      <td>3-5 years</td>\n",
       "      <td>Family</td>\n",
       "      <td>3.0</td>\n",
       "    </tr>\n",
       "  </tbody>\n",
       "</table>\n",
       "</div>\n",
       "      <button class=\"colab-df-convert\" onclick=\"convertToInteractive('df-d90860f7-4265-4407-85e9-11637e7a8e4e')\"\n",
       "              title=\"Convert this dataframe to an interactive table.\"\n",
       "              style=\"display:none;\">\n",
       "        \n",
       "  <svg xmlns=\"http://www.w3.org/2000/svg\" height=\"24px\"viewBox=\"0 0 24 24\"\n",
       "       width=\"24px\">\n",
       "    <path d=\"M0 0h24v24H0V0z\" fill=\"none\"/>\n",
       "    <path d=\"M18.56 5.44l.94 2.06.94-2.06 2.06-.94-2.06-.94-.94-2.06-.94 2.06-2.06.94zm-11 1L8.5 8.5l.94-2.06 2.06-.94-2.06-.94L8.5 2.5l-.94 2.06-2.06.94zm10 10l.94 2.06.94-2.06 2.06-.94-2.06-.94-.94-2.06-.94 2.06-2.06.94z\"/><path d=\"M17.41 7.96l-1.37-1.37c-.4-.4-.92-.59-1.43-.59-.52 0-1.04.2-1.43.59L10.3 9.45l-7.72 7.72c-.78.78-.78 2.05 0 2.83L4 21.41c.39.39.9.59 1.41.59.51 0 1.02-.2 1.41-.59l7.78-7.78 2.81-2.81c.8-.78.8-2.07 0-2.86zM5.41 20L4 18.59l7.72-7.72 1.47 1.35L5.41 20z\"/>\n",
       "  </svg>\n",
       "      </button>\n",
       "      \n",
       "  <style>\n",
       "    .colab-df-container {\n",
       "      display:flex;\n",
       "      flex-wrap:wrap;\n",
       "      gap: 12px;\n",
       "    }\n",
       "\n",
       "    .colab-df-convert {\n",
       "      background-color: #E8F0FE;\n",
       "      border: none;\n",
       "      border-radius: 50%;\n",
       "      cursor: pointer;\n",
       "      display: none;\n",
       "      fill: #1967D2;\n",
       "      height: 32px;\n",
       "      padding: 0 0 0 0;\n",
       "      width: 32px;\n",
       "    }\n",
       "\n",
       "    .colab-df-convert:hover {\n",
       "      background-color: #E2EBFA;\n",
       "      box-shadow: 0px 1px 2px rgba(60, 64, 67, 0.3), 0px 1px 3px 1px rgba(60, 64, 67, 0.15);\n",
       "      fill: #174EA6;\n",
       "    }\n",
       "\n",
       "    [theme=dark] .colab-df-convert {\n",
       "      background-color: #3B4455;\n",
       "      fill: #D2E3FC;\n",
       "    }\n",
       "\n",
       "    [theme=dark] .colab-df-convert:hover {\n",
       "      background-color: #434B5C;\n",
       "      box-shadow: 0px 1px 3px 1px rgba(0, 0, 0, 0.15);\n",
       "      filter: drop-shadow(0px 1px 2px rgba(0, 0, 0, 0.3));\n",
       "      fill: #FFFFFF;\n",
       "    }\n",
       "  </style>\n",
       "\n",
       "      <script>\n",
       "        const buttonEl =\n",
       "          document.querySelector('#df-d90860f7-4265-4407-85e9-11637e7a8e4e button.colab-df-convert');\n",
       "        buttonEl.style.display =\n",
       "          google.colab.kernel.accessAllowed ? 'block' : 'none';\n",
       "\n",
       "        async function convertToInteractive(key) {\n",
       "          const element = document.querySelector('#df-d90860f7-4265-4407-85e9-11637e7a8e4e');\n",
       "          const dataTable =\n",
       "            await google.colab.kernel.invokeFunction('convertToInteractive',\n",
       "                                                     [key], {});\n",
       "          if (!dataTable) return;\n",
       "\n",
       "          const docLinkHtml = 'Like what you see? Visit the ' +\n",
       "            '<a target=\"_blank\" href=https://colab.research.google.com/notebooks/data_table.ipynb>data table notebook</a>'\n",
       "            + ' to learn more about interactive tables.';\n",
       "          element.innerHTML = '';\n",
       "          dataTable['output_type'] = 'display_data';\n",
       "          await google.colab.output.renderOutput(dataTable, element);\n",
       "          const docLink = document.createElement('div');\n",
       "          docLink.innerHTML = docLinkHtml;\n",
       "          element.appendChild(docLink);\n",
       "        }\n",
       "      </script>\n",
       "    </div>\n",
       "  </div>\n",
       "  "
      ],
      "text/plain": [
       "                                        Title  \\\n",
       "0   2 BHK in Adhisri Apartments, Nungambakkam   \n",
       "1           3 BHK in Appaswamy Platina, Porur   \n",
       "2     3 BHK in Sham SGS Apartment, Vaanagaram   \n",
       "3                    3 BHK in Siri, Perungudi   \n",
       "4    2 BHK in Parijatham illam, West Mambalam   \n",
       "5     1 RK in Sri Jaya Mangala Nivas, T Nagar   \n",
       "6  3 BHK in Sky Dugar Homes, Kil Ayanambakkam   \n",
       "7  3 BHK in Alliance Orchid Springs, Korattur   \n",
       "8                              3 BHK in Adyar   \n",
       "9        3 BHK in Dlf Gardencity, Semmancheri   \n",
       "\n",
       "                                             Address Rent(Rs)  Deposit(Rs)  \\\n",
       "0  Loyola College, Nelson Manickam Road, Nungamba...    31000       250000   \n",
       "1                  Appaswamy Platina, Porur, Chennai    35000       200000   \n",
       "2  No, 04, Rajan Kuppam Road, Gangai Amman Koil S...    17000       150000   \n",
       "3  Omr Road, Kottivakkam, Near Indian Oil Petrol ...    30000       100000   \n",
       "4  Ramakrishnapuram Near B K Sweets ( Lakshmi Vil...    14500        96000   \n",
       "5       Thirumalai Pillai Road, T. Nagar, Darmapuram    10000        75000   \n",
       "6  Rajan Kuppam Road, Off Vanagaram-ambattur Road...    22000       250000   \n",
       "7  No.54, Water Canal Road, Tvs Nagar, Korattur, ...    21500       150000   \n",
       "8                    Independent House, Ramasamy Ave    35000       250000   \n",
       "9             Dlf Gardencity, Semmancheri, Thalambur    17500       150000   \n",
       "\n",
       "   Size(Acres)      Furnishing       Property age Available for  bhk  \n",
       "0         1200  Semi Furnished         >10 years            All  2.0  \n",
       "1         1708  Semi Furnished  Newly Constructed        Family  3.0  \n",
       "2         1350  Semi Furnished  Newly Constructed           All  3.0  \n",
       "3         1600  Semi Furnished         3-5 years         Family  3.0  \n",
       "4          700  Semi Furnished         >10 years         Family  2.0  \n",
       "5          300  Semi Furnished         >10 years            All  1.0  \n",
       "6         1664  Semi Furnished  Newly Constructed        Family  3.0  \n",
       "7         1548  Semi Furnished         1-3 years            All  3.0  \n",
       "8         1600  Semi Furnished        5-10 years         Family  3.0  \n",
       "9         2067  Semi Furnished         3-5 years         Family  3.0  "
      ]
     },
     "execution_count": 29,
     "metadata": {},
     "output_type": "execute_result"
    }
   ],
   "source": [
    "df.head(10)"
   ]
  },
  {
   "cell_type": "code",
   "execution_count": 30,
   "metadata": {
    "colab": {
     "base_uri": "https://localhost:8080/"
    },
    "id": "BkfY1QNCzcLz",
    "outputId": "85dd3b4c-1d3c-47c3-da0c-36c17caf718b"
   },
   "outputs": [
    {
     "name": "stderr",
     "output_type": "stream",
     "text": [
      "/usr/local/lib/python3.7/dist-packages/ipykernel_launcher.py:1: SettingWithCopyWarning: \n",
      "A value is trying to be set on a copy of a slice from a DataFrame.\n",
      "Try using .loc[row_indexer,col_indexer] = value instead\n",
      "\n",
      "See the caveats in the documentation: https://pandas.pydata.org/pandas-docs/stable/user_guide/indexing.html#returning-a-view-versus-a-copy\n",
      "  \"\"\"Entry point for launching an IPython kernel.\n"
     ]
    }
   ],
   "source": [
    "df['bhk']=df['bhk'].astype('int64')"
   ]
  },
  {
   "cell_type": "code",
   "execution_count": 31,
   "metadata": {
    "colab": {
     "base_uri": "https://localhost:8080/",
     "height": 354
    },
    "id": "co8TXXgozcLz",
    "outputId": "47a09109-3b2e-41cf-bcfb-f329aee46052"
   },
   "outputs": [
    {
     "data": {
      "text/html": [
       "\n",
       "  <div id=\"df-df4a7fb5-11dc-4799-b324-45a7205c3ae4\">\n",
       "    <div class=\"colab-df-container\">\n",
       "      <div>\n",
       "<style scoped>\n",
       "    .dataframe tbody tr th:only-of-type {\n",
       "        vertical-align: middle;\n",
       "    }\n",
       "\n",
       "    .dataframe tbody tr th {\n",
       "        vertical-align: top;\n",
       "    }\n",
       "\n",
       "    .dataframe thead th {\n",
       "        text-align: right;\n",
       "    }\n",
       "</style>\n",
       "<table border=\"1\" class=\"dataframe\">\n",
       "  <thead>\n",
       "    <tr style=\"text-align: right;\">\n",
       "      <th></th>\n",
       "      <th>Title</th>\n",
       "      <th>Address</th>\n",
       "      <th>Rent(Rs)</th>\n",
       "      <th>Deposit(Rs)</th>\n",
       "      <th>Size(Acres)</th>\n",
       "      <th>Furnishing</th>\n",
       "      <th>Property age</th>\n",
       "      <th>Available for</th>\n",
       "      <th>bhk</th>\n",
       "    </tr>\n",
       "  </thead>\n",
       "  <tbody>\n",
       "    <tr>\n",
       "      <th>0</th>\n",
       "      <td>2 BHK in Adhisri Apartments, Nungambakkam</td>\n",
       "      <td>Loyola College, Nelson Manickam Road, Nungamba...</td>\n",
       "      <td>31000</td>\n",
       "      <td>250000</td>\n",
       "      <td>1200</td>\n",
       "      <td>Semi Furnished</td>\n",
       "      <td>&gt;10 years</td>\n",
       "      <td>All</td>\n",
       "      <td>2</td>\n",
       "    </tr>\n",
       "    <tr>\n",
       "      <th>1</th>\n",
       "      <td>3 BHK in Appaswamy Platina, Porur</td>\n",
       "      <td>Appaswamy Platina, Porur, Chennai</td>\n",
       "      <td>35000</td>\n",
       "      <td>200000</td>\n",
       "      <td>1708</td>\n",
       "      <td>Semi Furnished</td>\n",
       "      <td>Newly Constructed</td>\n",
       "      <td>Family</td>\n",
       "      <td>3</td>\n",
       "    </tr>\n",
       "    <tr>\n",
       "      <th>2</th>\n",
       "      <td>3 BHK in Sham SGS Apartment, Vaanagaram</td>\n",
       "      <td>No, 04, Rajan Kuppam Road, Gangai Amman Koil S...</td>\n",
       "      <td>17000</td>\n",
       "      <td>150000</td>\n",
       "      <td>1350</td>\n",
       "      <td>Semi Furnished</td>\n",
       "      <td>Newly Constructed</td>\n",
       "      <td>All</td>\n",
       "      <td>3</td>\n",
       "    </tr>\n",
       "    <tr>\n",
       "      <th>3</th>\n",
       "      <td>3 BHK in Siri, Perungudi</td>\n",
       "      <td>Omr Road, Kottivakkam, Near Indian Oil Petrol ...</td>\n",
       "      <td>30000</td>\n",
       "      <td>100000</td>\n",
       "      <td>1600</td>\n",
       "      <td>Semi Furnished</td>\n",
       "      <td>3-5 years</td>\n",
       "      <td>Family</td>\n",
       "      <td>3</td>\n",
       "    </tr>\n",
       "    <tr>\n",
       "      <th>4</th>\n",
       "      <td>2 BHK in Parijatham illam, West Mambalam</td>\n",
       "      <td>Ramakrishnapuram Near B K Sweets ( Lakshmi Vil...</td>\n",
       "      <td>14500</td>\n",
       "      <td>96000</td>\n",
       "      <td>700</td>\n",
       "      <td>Semi Furnished</td>\n",
       "      <td>&gt;10 years</td>\n",
       "      <td>Family</td>\n",
       "      <td>2</td>\n",
       "    </tr>\n",
       "  </tbody>\n",
       "</table>\n",
       "</div>\n",
       "      <button class=\"colab-df-convert\" onclick=\"convertToInteractive('df-df4a7fb5-11dc-4799-b324-45a7205c3ae4')\"\n",
       "              title=\"Convert this dataframe to an interactive table.\"\n",
       "              style=\"display:none;\">\n",
       "        \n",
       "  <svg xmlns=\"http://www.w3.org/2000/svg\" height=\"24px\"viewBox=\"0 0 24 24\"\n",
       "       width=\"24px\">\n",
       "    <path d=\"M0 0h24v24H0V0z\" fill=\"none\"/>\n",
       "    <path d=\"M18.56 5.44l.94 2.06.94-2.06 2.06-.94-2.06-.94-.94-2.06-.94 2.06-2.06.94zm-11 1L8.5 8.5l.94-2.06 2.06-.94-2.06-.94L8.5 2.5l-.94 2.06-2.06.94zm10 10l.94 2.06.94-2.06 2.06-.94-2.06-.94-.94-2.06-.94 2.06-2.06.94z\"/><path d=\"M17.41 7.96l-1.37-1.37c-.4-.4-.92-.59-1.43-.59-.52 0-1.04.2-1.43.59L10.3 9.45l-7.72 7.72c-.78.78-.78 2.05 0 2.83L4 21.41c.39.39.9.59 1.41.59.51 0 1.02-.2 1.41-.59l7.78-7.78 2.81-2.81c.8-.78.8-2.07 0-2.86zM5.41 20L4 18.59l7.72-7.72 1.47 1.35L5.41 20z\"/>\n",
       "  </svg>\n",
       "      </button>\n",
       "      \n",
       "  <style>\n",
       "    .colab-df-container {\n",
       "      display:flex;\n",
       "      flex-wrap:wrap;\n",
       "      gap: 12px;\n",
       "    }\n",
       "\n",
       "    .colab-df-convert {\n",
       "      background-color: #E8F0FE;\n",
       "      border: none;\n",
       "      border-radius: 50%;\n",
       "      cursor: pointer;\n",
       "      display: none;\n",
       "      fill: #1967D2;\n",
       "      height: 32px;\n",
       "      padding: 0 0 0 0;\n",
       "      width: 32px;\n",
       "    }\n",
       "\n",
       "    .colab-df-convert:hover {\n",
       "      background-color: #E2EBFA;\n",
       "      box-shadow: 0px 1px 2px rgba(60, 64, 67, 0.3), 0px 1px 3px 1px rgba(60, 64, 67, 0.15);\n",
       "      fill: #174EA6;\n",
       "    }\n",
       "\n",
       "    [theme=dark] .colab-df-convert {\n",
       "      background-color: #3B4455;\n",
       "      fill: #D2E3FC;\n",
       "    }\n",
       "\n",
       "    [theme=dark] .colab-df-convert:hover {\n",
       "      background-color: #434B5C;\n",
       "      box-shadow: 0px 1px 3px 1px rgba(0, 0, 0, 0.15);\n",
       "      filter: drop-shadow(0px 1px 2px rgba(0, 0, 0, 0.3));\n",
       "      fill: #FFFFFF;\n",
       "    }\n",
       "  </style>\n",
       "\n",
       "      <script>\n",
       "        const buttonEl =\n",
       "          document.querySelector('#df-df4a7fb5-11dc-4799-b324-45a7205c3ae4 button.colab-df-convert');\n",
       "        buttonEl.style.display =\n",
       "          google.colab.kernel.accessAllowed ? 'block' : 'none';\n",
       "\n",
       "        async function convertToInteractive(key) {\n",
       "          const element = document.querySelector('#df-df4a7fb5-11dc-4799-b324-45a7205c3ae4');\n",
       "          const dataTable =\n",
       "            await google.colab.kernel.invokeFunction('convertToInteractive',\n",
       "                                                     [key], {});\n",
       "          if (!dataTable) return;\n",
       "\n",
       "          const docLinkHtml = 'Like what you see? Visit the ' +\n",
       "            '<a target=\"_blank\" href=https://colab.research.google.com/notebooks/data_table.ipynb>data table notebook</a>'\n",
       "            + ' to learn more about interactive tables.';\n",
       "          element.innerHTML = '';\n",
       "          dataTable['output_type'] = 'display_data';\n",
       "          await google.colab.output.renderOutput(dataTable, element);\n",
       "          const docLink = document.createElement('div');\n",
       "          docLink.innerHTML = docLinkHtml;\n",
       "          element.appendChild(docLink);\n",
       "        }\n",
       "      </script>\n",
       "    </div>\n",
       "  </div>\n",
       "  "
      ],
      "text/plain": [
       "                                       Title  \\\n",
       "0  2 BHK in Adhisri Apartments, Nungambakkam   \n",
       "1          3 BHK in Appaswamy Platina, Porur   \n",
       "2    3 BHK in Sham SGS Apartment, Vaanagaram   \n",
       "3                   3 BHK in Siri, Perungudi   \n",
       "4   2 BHK in Parijatham illam, West Mambalam   \n",
       "\n",
       "                                             Address Rent(Rs)  Deposit(Rs)  \\\n",
       "0  Loyola College, Nelson Manickam Road, Nungamba...    31000       250000   \n",
       "1                  Appaswamy Platina, Porur, Chennai    35000       200000   \n",
       "2  No, 04, Rajan Kuppam Road, Gangai Amman Koil S...    17000       150000   \n",
       "3  Omr Road, Kottivakkam, Near Indian Oil Petrol ...    30000       100000   \n",
       "4  Ramakrishnapuram Near B K Sweets ( Lakshmi Vil...    14500        96000   \n",
       "\n",
       "   Size(Acres)      Furnishing       Property age Available for  bhk  \n",
       "0         1200  Semi Furnished         >10 years            All    2  \n",
       "1         1708  Semi Furnished  Newly Constructed        Family    3  \n",
       "2         1350  Semi Furnished  Newly Constructed           All    3  \n",
       "3         1600  Semi Furnished         3-5 years         Family    3  \n",
       "4          700  Semi Furnished         >10 years         Family    2  "
      ]
     },
     "execution_count": 31,
     "metadata": {},
     "output_type": "execute_result"
    }
   ],
   "source": [
    "df.head()"
   ]
  },
  {
   "cell_type": "code",
   "execution_count": 32,
   "metadata": {
    "colab": {
     "base_uri": "https://localhost:8080/"
    },
    "id": "jMBfo099zcLz",
    "outputId": "bfd6eb7d-8842-4973-ef7b-01db10a0eba2"
   },
   "outputs": [
    {
     "data": {
      "text/plain": [
       "Title            object\n",
       "Address          object\n",
       "Rent(Rs)         object\n",
       "Deposit(Rs)       int64\n",
       "Size(Acres)       int64\n",
       "Furnishing       object\n",
       "Property age     object\n",
       "Available for    object\n",
       "bhk               int64\n",
       "dtype: object"
      ]
     },
     "execution_count": 32,
     "metadata": {},
     "output_type": "execute_result"
    }
   ],
   "source": [
    "df.dtypes"
   ]
  },
  {
   "cell_type": "code",
   "execution_count": 33,
   "metadata": {
    "colab": {
     "base_uri": "https://localhost:8080/"
    },
    "id": "yoVPd2kFzcL0",
    "outputId": "906002c0-a014-4c62-9c9b-08ffe48ca170"
   },
   "outputs": [
    {
     "name": "stdout",
     "output_type": "stream",
     "text": [
      "count       969.000000\n",
      "mean     132358.410733\n",
      "std      182229.250182\n",
      "min           1.000000\n",
      "25%       50000.000000\n",
      "50%       90000.000000\n",
      "75%      150000.000000\n",
      "max     2000000.000000\n",
      "Name: Deposit(Rs), dtype: float64\n"
     ]
    }
   ],
   "source": [
    "with pd.option_context('float_format','{:f}'.format): print(df[\"Deposit(Rs)\"].describe())"
   ]
  },
  {
   "cell_type": "code",
   "execution_count": 34,
   "metadata": {
    "id": "Bisv6J8NzcL0"
   },
   "outputs": [],
   "source": [
    "#some of the values are \"-\" in the rent values \n",
    "count=0\n",
    "for i in range(len(df['Rent(Rs)'])):\n",
    "    if(df.iloc[i,2]=='-'):\n",
    "        count+=1\n",
    "        "
   ]
  },
  {
   "cell_type": "code",
   "execution_count": 35,
   "metadata": {
    "colab": {
     "base_uri": "https://localhost:8080/"
    },
    "id": "ctK7PgdYzcL0",
    "outputId": "772f1ba7-0e16-46f1-c6a3-2935966daf60"
   },
   "outputs": [
    {
     "data": {
      "text/plain": [
       "23"
      ]
     },
     "execution_count": 35,
     "metadata": {},
     "output_type": "execute_result"
    }
   ],
   "source": [
    "count"
   ]
  },
  {
   "cell_type": "code",
   "execution_count": 36,
   "metadata": {
    "colab": {
     "base_uri": "https://localhost:8080/"
    },
    "id": "L8ePcblLzcL0",
    "outputId": "bdcd4b36-7ba2-494c-d98c-c867f03781fc"
   },
   "outputs": [
    {
     "name": "stderr",
     "output_type": "stream",
     "text": [
      "/usr/local/lib/python3.7/dist-packages/pandas/core/indexing.py:1817: SettingWithCopyWarning: \n",
      "A value is trying to be set on a copy of a slice from a DataFrame.\n",
      "Try using .loc[row_indexer,col_indexer] = value instead\n",
      "\n",
      "See the caveats in the documentation: https://pandas.pydata.org/pandas-docs/stable/user_guide/indexing.html#returning-a-view-versus-a-copy\n",
      "  self._setitem_single_column(loc, value, pi)\n"
     ]
    }
   ],
   "source": [
    "#making all intergers\n",
    "for i in range(len(df['Rent(Rs)'])):\n",
    "    if(df.iloc[i,2]=='-'):\n",
    "        df.iloc[i,2]=0"
   ]
  },
  {
   "cell_type": "code",
   "execution_count": 37,
   "metadata": {
    "colab": {
     "base_uri": "https://localhost:8080/"
    },
    "id": "SJfnQ4rTzcL1",
    "outputId": "32bd969a-3e8a-4a84-e3ad-108e1b72bbe7"
   },
   "outputs": [
    {
     "name": "stderr",
     "output_type": "stream",
     "text": [
      "/usr/local/lib/python3.7/dist-packages/ipykernel_launcher.py:1: SettingWithCopyWarning: \n",
      "A value is trying to be set on a copy of a slice from a DataFrame.\n",
      "Try using .loc[row_indexer,col_indexer] = value instead\n",
      "\n",
      "See the caveats in the documentation: https://pandas.pydata.org/pandas-docs/stable/user_guide/indexing.html#returning-a-view-versus-a-copy\n",
      "  \"\"\"Entry point for launching an IPython kernel.\n"
     ]
    }
   ],
   "source": [
    "df['Rent(Rs)']=df['Rent(Rs)'].astype(str).astype('int64')"
   ]
  },
  {
   "cell_type": "code",
   "execution_count": 38,
   "metadata": {
    "colab": {
     "base_uri": "https://localhost:8080/"
    },
    "id": "ZL3WfHxIzcL1",
    "outputId": "8e41992a-ce5f-4a88-c348-4ab6d8eb43a5"
   },
   "outputs": [
    {
     "data": {
      "text/plain": [
       "Title            object\n",
       "Address          object\n",
       "Rent(Rs)          int64\n",
       "Deposit(Rs)       int64\n",
       "Size(Acres)       int64\n",
       "Furnishing       object\n",
       "Property age     object\n",
       "Available for    object\n",
       "bhk               int64\n",
       "dtype: object"
      ]
     },
     "execution_count": 38,
     "metadata": {},
     "output_type": "execute_result"
    }
   ],
   "source": [
    "df.dtypes"
   ]
  },
  {
   "cell_type": "code",
   "execution_count": 39,
   "metadata": {
    "colab": {
     "base_uri": "https://localhost:8080/"
    },
    "id": "fr1KvH7fzcL1",
    "outputId": "41c06265-3983-467b-f26c-3bc190d06f14"
   },
   "outputs": [
    {
     "data": {
      "text/plain": [
       "16898"
      ]
     },
     "execution_count": 39,
     "metadata": {},
     "output_type": "execute_result"
    }
   ],
   "source": [
    "#now lets replace 0 by the mean of the series\n",
    "round(df['Rent(Rs)'].mean())"
   ]
  },
  {
   "cell_type": "code",
   "execution_count": 40,
   "metadata": {
    "colab": {
     "base_uri": "https://localhost:8080/"
    },
    "id": "Z2k6Jb73zcL1",
    "outputId": "99f6b9e3-4d7b-43ec-ca28-e527c27c13fa"
   },
   "outputs": [
    {
     "name": "stderr",
     "output_type": "stream",
     "text": [
      "/usr/local/lib/python3.7/dist-packages/pandas/core/indexing.py:1817: SettingWithCopyWarning: \n",
      "A value is trying to be set on a copy of a slice from a DataFrame.\n",
      "Try using .loc[row_indexer,col_indexer] = value instead\n",
      "\n",
      "See the caveats in the documentation: https://pandas.pydata.org/pandas-docs/stable/user_guide/indexing.html#returning-a-view-versus-a-copy\n",
      "  self._setitem_single_column(loc, value, pi)\n"
     ]
    }
   ],
   "source": [
    "for i in range(len(df['Rent(Rs)'])):\n",
    "    if(df.iloc[i,2]==0):\n",
    "        df.iloc[i,2]=17363"
   ]
  },
  {
   "cell_type": "code",
   "execution_count": 41,
   "metadata": {
    "colab": {
     "base_uri": "https://localhost:8080/",
     "height": 658
    },
    "id": "X9nBBnZyzcL1",
    "outputId": "5a112310-33c3-4357-edb2-103459707db3"
   },
   "outputs": [
    {
     "data": {
      "text/html": [
       "\n",
       "  <div id=\"df-cd11360f-81cf-4c31-9441-a3dc55d0b00f\">\n",
       "    <div class=\"colab-df-container\">\n",
       "      <div>\n",
       "<style scoped>\n",
       "    .dataframe tbody tr th:only-of-type {\n",
       "        vertical-align: middle;\n",
       "    }\n",
       "\n",
       "    .dataframe tbody tr th {\n",
       "        vertical-align: top;\n",
       "    }\n",
       "\n",
       "    .dataframe thead th {\n",
       "        text-align: right;\n",
       "    }\n",
       "</style>\n",
       "<table border=\"1\" class=\"dataframe\">\n",
       "  <thead>\n",
       "    <tr style=\"text-align: right;\">\n",
       "      <th></th>\n",
       "      <th>Title</th>\n",
       "      <th>Address</th>\n",
       "      <th>Rent(Rs)</th>\n",
       "      <th>Deposit(Rs)</th>\n",
       "      <th>Size(Acres)</th>\n",
       "      <th>Furnishing</th>\n",
       "      <th>Property age</th>\n",
       "      <th>Available for</th>\n",
       "      <th>bhk</th>\n",
       "    </tr>\n",
       "  </thead>\n",
       "  <tbody>\n",
       "    <tr>\n",
       "      <th>0</th>\n",
       "      <td>2 BHK in Adhisri Apartments, Nungambakkam</td>\n",
       "      <td>Loyola College, Nelson Manickam Road, Nungamba...</td>\n",
       "      <td>31000</td>\n",
       "      <td>250000</td>\n",
       "      <td>1200</td>\n",
       "      <td>Semi Furnished</td>\n",
       "      <td>&gt;10 years</td>\n",
       "      <td>All</td>\n",
       "      <td>2</td>\n",
       "    </tr>\n",
       "    <tr>\n",
       "      <th>1</th>\n",
       "      <td>3 BHK in Appaswamy Platina, Porur</td>\n",
       "      <td>Appaswamy Platina, Porur, Chennai</td>\n",
       "      <td>35000</td>\n",
       "      <td>200000</td>\n",
       "      <td>1708</td>\n",
       "      <td>Semi Furnished</td>\n",
       "      <td>Newly Constructed</td>\n",
       "      <td>Family</td>\n",
       "      <td>3</td>\n",
       "    </tr>\n",
       "    <tr>\n",
       "      <th>2</th>\n",
       "      <td>3 BHK in Sham SGS Apartment, Vaanagaram</td>\n",
       "      <td>No, 04, Rajan Kuppam Road, Gangai Amman Koil S...</td>\n",
       "      <td>17000</td>\n",
       "      <td>150000</td>\n",
       "      <td>1350</td>\n",
       "      <td>Semi Furnished</td>\n",
       "      <td>Newly Constructed</td>\n",
       "      <td>All</td>\n",
       "      <td>3</td>\n",
       "    </tr>\n",
       "    <tr>\n",
       "      <th>3</th>\n",
       "      <td>3 BHK in Siri, Perungudi</td>\n",
       "      <td>Omr Road, Kottivakkam, Near Indian Oil Petrol ...</td>\n",
       "      <td>30000</td>\n",
       "      <td>100000</td>\n",
       "      <td>1600</td>\n",
       "      <td>Semi Furnished</td>\n",
       "      <td>3-5 years</td>\n",
       "      <td>Family</td>\n",
       "      <td>3</td>\n",
       "    </tr>\n",
       "    <tr>\n",
       "      <th>4</th>\n",
       "      <td>2 BHK in Parijatham illam, West Mambalam</td>\n",
       "      <td>Ramakrishnapuram Near B K Sweets ( Lakshmi Vil...</td>\n",
       "      <td>14500</td>\n",
       "      <td>96000</td>\n",
       "      <td>700</td>\n",
       "      <td>Semi Furnished</td>\n",
       "      <td>&gt;10 years</td>\n",
       "      <td>Family</td>\n",
       "      <td>2</td>\n",
       "    </tr>\n",
       "    <tr>\n",
       "      <th>...</th>\n",
       "      <td>...</td>\n",
       "      <td>...</td>\n",
       "      <td>...</td>\n",
       "      <td>...</td>\n",
       "      <td>...</td>\n",
       "      <td>...</td>\n",
       "      <td>...</td>\n",
       "      <td>...</td>\n",
       "      <td>...</td>\n",
       "    </tr>\n",
       "    <tr>\n",
       "      <th>993</th>\n",
       "      <td>2 BHK in standalone bulding, Vyasarpadi</td>\n",
       "      <td>Rathinam Street Nagammai Nagar, Near Hyderabad...</td>\n",
       "      <td>8500</td>\n",
       "      <td>51000</td>\n",
       "      <td>700</td>\n",
       "      <td>Semi Furnished</td>\n",
       "      <td>5-10 years</td>\n",
       "      <td>Family</td>\n",
       "      <td>2</td>\n",
       "    </tr>\n",
       "    <tr>\n",
       "      <th>994</th>\n",
       "      <td>3 BHK in Not Disclosed, Chromepet</td>\n",
       "      <td>Hastinapuram ,balaji Nagar, South Street Near ...</td>\n",
       "      <td>15000</td>\n",
       "      <td>50000</td>\n",
       "      <td>1100</td>\n",
       "      <td>Semi Furnished</td>\n",
       "      <td>5-10 years</td>\n",
       "      <td>Family</td>\n",
       "      <td>3</td>\n",
       "    </tr>\n",
       "    <tr>\n",
       "      <th>995</th>\n",
       "      <td>2 BHK in Maha Flats, Velachery</td>\n",
       "      <td>Bhuvaneshwari Nagar, Velachery, Chennai, Tamil...</td>\n",
       "      <td>20000</td>\n",
       "      <td>100000</td>\n",
       "      <td>810</td>\n",
       "      <td>Semi Furnished</td>\n",
       "      <td>&gt;10 years</td>\n",
       "      <td>All</td>\n",
       "      <td>2</td>\n",
       "    </tr>\n",
       "    <tr>\n",
       "      <th>996</th>\n",
       "      <td>3 BHK in Medavakkam</td>\n",
       "      <td>Independent House, Green Court,near Jeyachandr...</td>\n",
       "      <td>15000</td>\n",
       "      <td>45000</td>\n",
       "      <td>1500</td>\n",
       "      <td>UnFurnished</td>\n",
       "      <td>&gt;10 years</td>\n",
       "      <td>Family</td>\n",
       "      <td>3</td>\n",
       "    </tr>\n",
       "    <tr>\n",
       "      <th>997</th>\n",
       "      <td>2 BHK in Ashok Nagar</td>\n",
       "      <td>Standalone Building, Ashok Pillar, Indira Colo...</td>\n",
       "      <td>15000</td>\n",
       "      <td>100000</td>\n",
       "      <td>900</td>\n",
       "      <td>UnFurnished</td>\n",
       "      <td>&gt;10 years</td>\n",
       "      <td>All</td>\n",
       "      <td>2</td>\n",
       "    </tr>\n",
       "  </tbody>\n",
       "</table>\n",
       "<p>969 rows × 9 columns</p>\n",
       "</div>\n",
       "      <button class=\"colab-df-convert\" onclick=\"convertToInteractive('df-cd11360f-81cf-4c31-9441-a3dc55d0b00f')\"\n",
       "              title=\"Convert this dataframe to an interactive table.\"\n",
       "              style=\"display:none;\">\n",
       "        \n",
       "  <svg xmlns=\"http://www.w3.org/2000/svg\" height=\"24px\"viewBox=\"0 0 24 24\"\n",
       "       width=\"24px\">\n",
       "    <path d=\"M0 0h24v24H0V0z\" fill=\"none\"/>\n",
       "    <path d=\"M18.56 5.44l.94 2.06.94-2.06 2.06-.94-2.06-.94-.94-2.06-.94 2.06-2.06.94zm-11 1L8.5 8.5l.94-2.06 2.06-.94-2.06-.94L8.5 2.5l-.94 2.06-2.06.94zm10 10l.94 2.06.94-2.06 2.06-.94-2.06-.94-.94-2.06-.94 2.06-2.06.94z\"/><path d=\"M17.41 7.96l-1.37-1.37c-.4-.4-.92-.59-1.43-.59-.52 0-1.04.2-1.43.59L10.3 9.45l-7.72 7.72c-.78.78-.78 2.05 0 2.83L4 21.41c.39.39.9.59 1.41.59.51 0 1.02-.2 1.41-.59l7.78-7.78 2.81-2.81c.8-.78.8-2.07 0-2.86zM5.41 20L4 18.59l7.72-7.72 1.47 1.35L5.41 20z\"/>\n",
       "  </svg>\n",
       "      </button>\n",
       "      \n",
       "  <style>\n",
       "    .colab-df-container {\n",
       "      display:flex;\n",
       "      flex-wrap:wrap;\n",
       "      gap: 12px;\n",
       "    }\n",
       "\n",
       "    .colab-df-convert {\n",
       "      background-color: #E8F0FE;\n",
       "      border: none;\n",
       "      border-radius: 50%;\n",
       "      cursor: pointer;\n",
       "      display: none;\n",
       "      fill: #1967D2;\n",
       "      height: 32px;\n",
       "      padding: 0 0 0 0;\n",
       "      width: 32px;\n",
       "    }\n",
       "\n",
       "    .colab-df-convert:hover {\n",
       "      background-color: #E2EBFA;\n",
       "      box-shadow: 0px 1px 2px rgba(60, 64, 67, 0.3), 0px 1px 3px 1px rgba(60, 64, 67, 0.15);\n",
       "      fill: #174EA6;\n",
       "    }\n",
       "\n",
       "    [theme=dark] .colab-df-convert {\n",
       "      background-color: #3B4455;\n",
       "      fill: #D2E3FC;\n",
       "    }\n",
       "\n",
       "    [theme=dark] .colab-df-convert:hover {\n",
       "      background-color: #434B5C;\n",
       "      box-shadow: 0px 1px 3px 1px rgba(0, 0, 0, 0.15);\n",
       "      filter: drop-shadow(0px 1px 2px rgba(0, 0, 0, 0.3));\n",
       "      fill: #FFFFFF;\n",
       "    }\n",
       "  </style>\n",
       "\n",
       "      <script>\n",
       "        const buttonEl =\n",
       "          document.querySelector('#df-cd11360f-81cf-4c31-9441-a3dc55d0b00f button.colab-df-convert');\n",
       "        buttonEl.style.display =\n",
       "          google.colab.kernel.accessAllowed ? 'block' : 'none';\n",
       "\n",
       "        async function convertToInteractive(key) {\n",
       "          const element = document.querySelector('#df-cd11360f-81cf-4c31-9441-a3dc55d0b00f');\n",
       "          const dataTable =\n",
       "            await google.colab.kernel.invokeFunction('convertToInteractive',\n",
       "                                                     [key], {});\n",
       "          if (!dataTable) return;\n",
       "\n",
       "          const docLinkHtml = 'Like what you see? Visit the ' +\n",
       "            '<a target=\"_blank\" href=https://colab.research.google.com/notebooks/data_table.ipynb>data table notebook</a>'\n",
       "            + ' to learn more about interactive tables.';\n",
       "          element.innerHTML = '';\n",
       "          dataTable['output_type'] = 'display_data';\n",
       "          await google.colab.output.renderOutput(dataTable, element);\n",
       "          const docLink = document.createElement('div');\n",
       "          docLink.innerHTML = docLinkHtml;\n",
       "          element.appendChild(docLink);\n",
       "        }\n",
       "      </script>\n",
       "    </div>\n",
       "  </div>\n",
       "  "
      ],
      "text/plain": [
       "                                         Title  \\\n",
       "0    2 BHK in Adhisri Apartments, Nungambakkam   \n",
       "1            3 BHK in Appaswamy Platina, Porur   \n",
       "2      3 BHK in Sham SGS Apartment, Vaanagaram   \n",
       "3                     3 BHK in Siri, Perungudi   \n",
       "4     2 BHK in Parijatham illam, West Mambalam   \n",
       "..                                         ...   \n",
       "993    2 BHK in standalone bulding, Vyasarpadi   \n",
       "994          3 BHK in Not Disclosed, Chromepet   \n",
       "995             2 BHK in Maha Flats, Velachery   \n",
       "996                        3 BHK in Medavakkam   \n",
       "997                       2 BHK in Ashok Nagar   \n",
       "\n",
       "                                               Address  Rent(Rs)  Deposit(Rs)  \\\n",
       "0    Loyola College, Nelson Manickam Road, Nungamba...     31000       250000   \n",
       "1                    Appaswamy Platina, Porur, Chennai     35000       200000   \n",
       "2    No, 04, Rajan Kuppam Road, Gangai Amman Koil S...     17000       150000   \n",
       "3    Omr Road, Kottivakkam, Near Indian Oil Petrol ...     30000       100000   \n",
       "4    Ramakrishnapuram Near B K Sweets ( Lakshmi Vil...     14500        96000   \n",
       "..                                                 ...       ...          ...   \n",
       "993  Rathinam Street Nagammai Nagar, Near Hyderabad...      8500        51000   \n",
       "994  Hastinapuram ,balaji Nagar, South Street Near ...     15000        50000   \n",
       "995  Bhuvaneshwari Nagar, Velachery, Chennai, Tamil...     20000       100000   \n",
       "996  Independent House, Green Court,near Jeyachandr...     15000        45000   \n",
       "997  Standalone Building, Ashok Pillar, Indira Colo...     15000       100000   \n",
       "\n",
       "     Size(Acres)      Furnishing       Property age Available for  bhk  \n",
       "0           1200  Semi Furnished         >10 years            All    2  \n",
       "1           1708  Semi Furnished  Newly Constructed        Family    3  \n",
       "2           1350  Semi Furnished  Newly Constructed           All    3  \n",
       "3           1600  Semi Furnished         3-5 years         Family    3  \n",
       "4            700  Semi Furnished         >10 years         Family    2  \n",
       "..           ...             ...                ...           ...  ...  \n",
       "993          700  Semi Furnished        5-10 years         Family    2  \n",
       "994         1100  Semi Furnished        5-10 years         Family    3  \n",
       "995          810  Semi Furnished         >10 years            All    2  \n",
       "996         1500     UnFurnished         >10 years         Family    3  \n",
       "997          900     UnFurnished         >10 years            All    2  \n",
       "\n",
       "[969 rows x 9 columns]"
      ]
     },
     "execution_count": 41,
     "metadata": {},
     "output_type": "execute_result"
    }
   ],
   "source": [
    "df"
   ]
  },
  {
   "cell_type": "markdown",
   "metadata": {
    "id": "1sGkCc6d3aRY"
   },
   "source": [
    "#Essential Visulalizations of the data"
   ]
  },
  {
   "cell_type": "code",
   "execution_count": 42,
   "metadata": {
    "colab": {
     "base_uri": "https://localhost:8080/",
     "height": 345
    },
    "id": "wOHKUtNRzcL2",
    "outputId": "d5694148-3812-4ea0-bbc5-d61ed7615430"
   },
   "outputs": [
    {
     "name": "stderr",
     "output_type": "stream",
     "text": [
      "/usr/local/lib/python3.7/dist-packages/seaborn/distributions.py:2619: FutureWarning: `distplot` is a deprecated function and will be removed in a future version. Please adapt your code to use either `displot` (a figure-level function with similar flexibility) or `histplot` (an axes-level function for histograms).\n",
      "  warnings.warn(msg, FutureWarning)\n"
     ]
    },
    {
     "data": {
      "image/png": "[encoded data removed]",
      "text/plain": [
       "<Figure size 432x288 with 1 Axes>"
      ]
     },
     "metadata": {
      "needs_background": "light"
     },
     "output_type": "display_data"
    }
   ],
   "source": [
    "import seaborn as sns\n",
    "import matplotlib.pyplot as plt\n",
    "sns.distplot(df[\"Rent(Rs)\"]);"
   ]
  },
  {
   "cell_type": "code",
   "execution_count": 43,
   "metadata": {
    "colab": {
     "base_uri": "https://localhost:8080/",
     "height": 499
    },
    "id": "WKfXEsoXzcL2",
    "outputId": "bcf5c84b-fb13-46c5-e50f-83a27225b843"
   },
   "outputs": [
    {
     "data": {
      "image/png": "[encoded data removed]",
      "text/plain": [
       "<Figure size 720x576 with 4 Axes>"
      ]
     },
     "metadata": {
      "needs_background": "light"
     },
     "output_type": "display_data"
    }
   ],
   "source": [
    "df.hist(bins=50, figsize=(10, 8))\n",
    "plt.show()"
   ]
  },
  {
   "cell_type": "code",
   "execution_count": 44,
   "metadata": {
    "colab": {
     "base_uri": "https://localhost:8080/",
     "height": 309
    },
    "id": "bq_2jNXTzcL2",
    "outputId": "54fb08e3-b7d3-40dc-9df4-8782d5a48275"
   },
   "outputs": [
    {
     "data": {
      "text/plain": [
       "<function seaborn.utils.despine>"
      ]
     },
     "execution_count": 44,
     "metadata": {},
     "output_type": "execute_result"
    },
    {
     "data": {
      "image/png": "[encoded data removed]",
      "text/plain": [
       "<Figure size 432x288 with 1 Axes>"
      ]
     },
     "metadata": {
      "needs_background": "light"
     },
     "output_type": "display_data"
    }
   ],
   "source": [
    "import matplotlib.pyplot as plt \n",
    "df['bhk'].value_counts().plot(kind='bar')\n",
    "plt.title('number of Bedroom')\n",
    "plt.xlabel('Bedrooms')\n",
    "plt.ylabel('Count')\n",
    "sns.despine"
   ]
  },
  {
   "cell_type": "code",
   "execution_count": 45,
   "metadata": {
    "colab": {
     "base_uri": "https://localhost:8080/",
     "height": 331
    },
    "id": "uH8yYMTbzcL2",
    "outputId": "502a2cff-5a4d-4f76-daf6-3f5d305789da"
   },
   "outputs": [
    {
     "data": {
      "image/png": "[encoded data removed]",
      "text/plain": [
       "<Figure size 1152x360 with 1 Axes>"
      ]
     },
     "metadata": {
      "needs_background": "light"
     },
     "output_type": "display_data"
    }
   ],
   "source": [
    "import matplotlib.pyplot as plt \n",
    "df[\"Deposit(Rs)\"].plot.box(figsize=(16,5))\n",
    "plt.show()"
   ]
  },
  {
   "cell_type": "code",
   "execution_count": 46,
   "metadata": {
    "colab": {
     "base_uri": "https://localhost:8080/",
     "height": 320
    },
    "id": "wYJTk1fKzcL2",
    "outputId": "de6a0492-b5de-47d6-dc8f-7990835ba09b"
   },
   "outputs": [
    {
     "data": {
      "image/png": "[encoded data removed]",
      "text/plain": [
       "<Figure size 1152x360 with 1 Axes>"
      ]
     },
     "metadata": {
      "needs_background": "light"
     },
     "output_type": "display_data"
    }
   ],
   "source": [
    "df[\"Size(Acres)\"].plot.box(figsize=(16,5))\n",
    "plt.show()"
   ]
  },
  {
   "cell_type": "code",
   "execution_count": 47,
   "metadata": {
    "colab": {
     "base_uri": "https://localhost:8080/",
     "height": 497
    },
    "id": "KSQRbMfQzcL3",
    "outputId": "0d2671b3-6dda-42fc-f865-503681182d8f"
   },
   "outputs": [
    {
     "data": {
      "image/png": "[encoded data removed]",
      "text/plain": [
       "<Figure size 1008x576 with 2 Axes>"
      ]
     },
     "metadata": {
      "needs_background": "light"
     },
     "output_type": "display_data"
    }
   ],
   "source": [
    "plt.figure(figsize=(14, 8))\n",
    "\n",
    "plt.subplot(1,2,1)\n",
    "plt.scatter(x=df[\"Deposit(Rs)\"], y=df[\"Rent(Rs)\"])\n",
    "plt.xlabel(\"Deposit\")\n",
    "plt.ylabel(\"Rent\")\n",
    "\n",
    "plt.subplot(1,2,2)\n",
    "plt.scatter(x=df[\"Size(Acres)\"], y=df[\"Rent(Rs)\"])\n",
    "plt.xlabel(\"Size\")\n",
    "plt.ylabel(\"Rent\")\n",
    "\n",
    "plt.show()"
   ]
  },
  {
   "cell_type": "code",
   "execution_count": 48,
   "metadata": {
    "colab": {
     "base_uri": "https://localhost:8080/",
     "height": 350
    },
    "id": "D_2QCvsGzcL3",
    "outputId": "29d9c082-1fa1-457b-cf60-10eec516d8b9"
   },
   "outputs": [
    {
     "data": {
      "image/png": "[encoded data removed]",
      "text/plain": [
       "<Figure size 720x360 with 1 Axes>"
      ]
     },
     "metadata": {
      "needs_background": "light"
     },
     "output_type": "display_data"
    }
   ],
   "source": [
    "fig = plt.figure(figsize = (10, 5))\n",
    " \n",
    "# creating the bar plot\n",
    "plt.bar(df['bhk'],df['Size(Acres)'], color ='red',width = 0.4)\n",
    "\n",
    "plt.xlabel(\"Bhk\")\n",
    "plt.ylabel(\"Size\")\n",
    "plt.title(\"Size vs Bhk\")\n",
    "plt.show()"
   ]
  },
  {
   "cell_type": "code",
   "execution_count": 49,
   "metadata": {
    "colab": {
     "base_uri": "https://localhost:8080/",
     "height": 350
    },
    "id": "1OF-rNHzzcL3",
    "outputId": "6c445f85-1e3e-4b10-b3d4-d1b8fd2281f3"
   },
   "outputs": [
    {
     "data": {
      "image/png": "[encoded data removed]",
      "text/plain": [
       "<Figure size 720x360 with 1 Axes>"
      ]
     },
     "metadata": {
      "needs_background": "light"
     },
     "output_type": "display_data"
    }
   ],
   "source": [
    "fig = plt.figure(figsize = (10, 5))\n",
    " \n",
    "# creating the bar plot\n",
    "plt.bar(df['bhk'],df['Rent(Rs)'], color ='blue',width = 0.4)\n",
    "\n",
    "plt.xlabel(\"Bhk\")\n",
    "plt.ylabel(\"Rent\")\n",
    "plt.title(\"Size vs Rent\")\n",
    "plt.show()"
   ]
  },
  {
   "cell_type": "code",
   "execution_count": 50,
   "metadata": {
    "colab": {
     "base_uri": "https://localhost:8080/",
     "height": 143
    },
    "id": "SJ-QMeyLzcL3",
    "outputId": "4ab1cbce-6945-4014-b189-8a8aa89e45af"
   },
   "outputs": [
    {
     "data": {
      "text/html": [
       "\n",
       "  <div id=\"df-0e7410b0-bf7f-4cd1-a817-e3da5d39c500\">\n",
       "    <div class=\"colab-df-container\">\n",
       "      <div>\n",
       "<style scoped>\n",
       "    .dataframe tbody tr th:only-of-type {\n",
       "        vertical-align: middle;\n",
       "    }\n",
       "\n",
       "    .dataframe tbody tr th {\n",
       "        vertical-align: top;\n",
       "    }\n",
       "\n",
       "    .dataframe thead th {\n",
       "        text-align: right;\n",
       "    }\n",
       "</style>\n",
       "<table border=\"1\" class=\"dataframe\">\n",
       "  <thead>\n",
       "    <tr style=\"text-align: right;\">\n",
       "      <th></th>\n",
       "      <th>Deposit(Rs)</th>\n",
       "      <th>Size(Acres)</th>\n",
       "      <th>Rent(Rs)</th>\n",
       "    </tr>\n",
       "  </thead>\n",
       "  <tbody>\n",
       "    <tr>\n",
       "      <th>Deposit(Rs)</th>\n",
       "      <td>1.000000</td>\n",
       "      <td>0.391001</td>\n",
       "      <td>0.624032</td>\n",
       "    </tr>\n",
       "    <tr>\n",
       "      <th>Size(Acres)</th>\n",
       "      <td>0.391001</td>\n",
       "      <td>1.000000</td>\n",
       "      <td>0.685739</td>\n",
       "    </tr>\n",
       "    <tr>\n",
       "      <th>Rent(Rs)</th>\n",
       "      <td>0.624032</td>\n",
       "      <td>0.685739</td>\n",
       "      <td>1.000000</td>\n",
       "    </tr>\n",
       "  </tbody>\n",
       "</table>\n",
       "</div>\n",
       "      <button class=\"colab-df-convert\" onclick=\"convertToInteractive('df-0e7410b0-bf7f-4cd1-a817-e3da5d39c500')\"\n",
       "              title=\"Convert this dataframe to an interactive table.\"\n",
       "              style=\"display:none;\">\n",
       "        \n",
       "  <svg xmlns=\"http://www.w3.org/2000/svg\" height=\"24px\"viewBox=\"0 0 24 24\"\n",
       "       width=\"24px\">\n",
       "    <path d=\"M0 0h24v24H0V0z\" fill=\"none\"/>\n",
       "    <path d=\"M18.56 5.44l.94 2.06.94-2.06 2.06-.94-2.06-.94-.94-2.06-.94 2.06-2.06.94zm-11 1L8.5 8.5l.94-2.06 2.06-.94-2.06-.94L8.5 2.5l-.94 2.06-2.06.94zm10 10l.94 2.06.94-2.06 2.06-.94-2.06-.94-.94-2.06-.94 2.06-2.06.94z\"/><path d=\"M17.41 7.96l-1.37-1.37c-.4-.4-.92-.59-1.43-.59-.52 0-1.04.2-1.43.59L10.3 9.45l-7.72 7.72c-.78.78-.78 2.05 0 2.83L4 21.41c.39.39.9.59 1.41.59.51 0 1.02-.2 1.41-.59l7.78-7.78 2.81-2.81c.8-.78.8-2.07 0-2.86zM5.41 20L4 18.59l7.72-7.72 1.47 1.35L5.41 20z\"/>\n",
       "  </svg>\n",
       "      </button>\n",
       "      \n",
       "  <style>\n",
       "    .colab-df-container {\n",
       "      display:flex;\n",
       "      flex-wrap:wrap;\n",
       "      gap: 12px;\n",
       "    }\n",
       "\n",
       "    .colab-df-convert {\n",
       "      background-color: #E8F0FE;\n",
       "      border: none;\n",
       "      border-radius: 50%;\n",
       "      cursor: pointer;\n",
       "      display: none;\n",
       "      fill: #1967D2;\n",
       "      height: 32px;\n",
       "      padding: 0 0 0 0;\n",
       "      width: 32px;\n",
       "    }\n",
       "\n",
       "    .colab-df-convert:hover {\n",
       "      background-color: #E2EBFA;\n",
       "      box-shadow: 0px 1px 2px rgba(60, 64, 67, 0.3), 0px 1px 3px 1px rgba(60, 64, 67, 0.15);\n",
       "      fill: #174EA6;\n",
       "    }\n",
       "\n",
       "    [theme=dark] .colab-df-convert {\n",
       "      background-color: #3B4455;\n",
       "      fill: #D2E3FC;\n",
       "    }\n",
       "\n",
       "    [theme=dark] .colab-df-convert:hover {\n",
       "      background-color: #434B5C;\n",
       "      box-shadow: 0px 1px 3px 1px rgba(0, 0, 0, 0.15);\n",
       "      filter: drop-shadow(0px 1px 2px rgba(0, 0, 0, 0.3));\n",
       "      fill: #FFFFFF;\n",
       "    }\n",
       "  </style>\n",
       "\n",
       "      <script>\n",
       "        const buttonEl =\n",
       "          document.querySelector('#df-0e7410b0-bf7f-4cd1-a817-e3da5d39c500 button.colab-df-convert');\n",
       "        buttonEl.style.display =\n",
       "          google.colab.kernel.accessAllowed ? 'block' : 'none';\n",
       "\n",
       "        async function convertToInteractive(key) {\n",
       "          const element = document.querySelector('#df-0e7410b0-bf7f-4cd1-a817-e3da5d39c500');\n",
       "          const dataTable =\n",
       "            await google.colab.kernel.invokeFunction('convertToInteractive',\n",
       "                                                     [key], {});\n",
       "          if (!dataTable) return;\n",
       "\n",
       "          const docLinkHtml = 'Like what you see? Visit the ' +\n",
       "            '<a target=\"_blank\" href=https://colab.research.google.com/notebooks/data_table.ipynb>data table notebook</a>'\n",
       "            + ' to learn more about interactive tables.';\n",
       "          element.innerHTML = '';\n",
       "          dataTable['output_type'] = 'display_data';\n",
       "          await google.colab.output.renderOutput(dataTable, element);\n",
       "          const docLink = document.createElement('div');\n",
       "          docLink.innerHTML = docLinkHtml;\n",
       "          element.appendChild(docLink);\n",
       "        }\n",
       "      </script>\n",
       "    </div>\n",
       "  </div>\n",
       "  "
      ],
      "text/plain": [
       "             Deposit(Rs)  Size(Acres)  Rent(Rs)\n",
       "Deposit(Rs)     1.000000     0.391001  0.624032\n",
       "Size(Acres)     0.391001     1.000000  0.685739\n",
       "Rent(Rs)        0.624032     0.685739  1.000000"
      ]
     },
     "execution_count": 50,
     "metadata": {},
     "output_type": "execute_result"
    }
   ],
   "source": [
    "corr = df[[\"Deposit(Rs)\", \"Size(Acres)\",\"Rent(Rs)\"]].corr()\n",
    "corr"
   ]
  },
  {
   "cell_type": "code",
   "execution_count": 51,
   "metadata": {
    "colab": {
     "base_uri": "https://localhost:8080/",
     "height": 378
    },
    "id": "3f6DfHzQzcL4",
    "outputId": "686e74be-20c4-45aa-ab66-e803c2ee0a9d"
   },
   "outputs": [
    {
     "data": {
      "image/png": "[encoded data removed]",
      "text/plain": [
       "<Figure size 288x432 with 2 Axes>"
      ]
     },
     "metadata": {
      "needs_background": "light"
     },
     "output_type": "display_data"
    }
   ],
   "source": [
    "plt.subplots(figsize=(4,6))\n",
    "fig = sns.heatmap(corr, \n",
    "            xticklabels=corr.columns.values,\n",
    "            yticklabels=corr.columns.values)\n",
    "\n",
    "fig.get_figure().savefig(\"corr_heatmap.png\", bbox_inches=\"tight\") "
   ]
  },
  {
   "cell_type": "code",
   "execution_count": 52,
   "metadata": {
    "colab": {
     "base_uri": "https://localhost:8080/",
     "height": 350
    },
    "id": "GbDYhOO5zcL4",
    "outputId": "3fb486f0-e60d-490a-e18b-f2891377171b"
   },
   "outputs": [
    {
     "data": {
      "image/png": "[encoded data removed]",
      "text/plain": [
       "<Figure size 720x360 with 1 Axes>"
      ]
     },
     "metadata": {
      "needs_background": "light"
     },
     "output_type": "display_data"
    }
   ],
   "source": [
    "fig = plt.figure(figsize = (10, 5))\n",
    " \n",
    "# creating the bar plot\n",
    "plt.bar(df['Property age'],df['Rent(Rs)'], color ='orange',width = 0.4)\n",
    "\n",
    "plt.xlabel(\"Age\")\n",
    "plt.ylabel(\"Rent\")\n",
    "plt.title(\"Age vs Rent\")\n",
    "plt.show()"
   ]
  },
  {
   "cell_type": "code",
   "execution_count": 53,
   "metadata": {
    "colab": {
     "base_uri": "https://localhost:8080/",
     "height": 350
    },
    "id": "bRt5Z28RzcL4",
    "outputId": "2dd3a48e-e49b-4f43-bfbd-f6e1027b532d"
   },
   "outputs": [
    {
     "data": {
      "image/png": "[encoded data removed]",
      "text/plain": [
       "<Figure size 720x360 with 1 Axes>"
      ]
     },
     "metadata": {
      "needs_background": "light"
     },
     "output_type": "display_data"
    }
   ],
   "source": [
    "fig = plt.figure(figsize = (10, 5))\n",
    " \n",
    "# creating the bar plot\n",
    "plt.bar(df['Property age'],df['Rent(Rs)'], color ='orange',width = 0.4)\n",
    "\n",
    "plt.xlabel(\"Age\")\n",
    "plt.ylabel(\"Rent\")\n",
    "plt.title(\"Age vs Rent\")\n",
    "plt.show()"
   ]
  },
  {
   "cell_type": "code",
   "execution_count": 54,
   "metadata": {
    "colab": {
     "base_uri": "https://localhost:8080/",
     "height": 312
    },
    "id": "K20QpWkzzcL4",
    "outputId": "5bf2daaa-e211-409e-d3b0-5967d986de11"
   },
   "outputs": [
    {
     "data": {
      "text/plain": [
       "Text(0.5, 1.0, 'Furnishing vs Size')"
      ]
     },
     "execution_count": 54,
     "metadata": {},
     "output_type": "execute_result"
    },
    {
     "data": {
      "image/png": "[encoded data removed]",
      "text/plain": [
       "<Figure size 432x288 with 1 Axes>"
      ]
     },
     "metadata": {
      "needs_background": "light"
     },
     "output_type": "display_data"
    }
   ],
   "source": [
    "plt.scatter(df['Furnishing'],df['Size(Acres)'])\n",
    "plt.xlabel(\"Furnishing\")\n",
    "plt.ylabel('Size')\n",
    "plt.title(\"Furnishing vs Size\")"
   ]
  },
  {
   "cell_type": "code",
   "execution_count": 55,
   "metadata": {
    "colab": {
     "base_uri": "https://localhost:8080/",
     "height": 667
    },
    "id": "VZ_TGmw2zcL5",
    "outputId": "1f212606-eafa-4f41-d961-8082645c2f45"
   },
   "outputs": [
    {
     "name": "stderr",
     "output_type": "stream",
     "text": [
      "/usr/local/lib/python3.7/dist-packages/seaborn/distributions.py:2619: FutureWarning: `distplot` is a deprecated function and will be removed in a future version. Please adapt your code to use either `displot` (a figure-level function with similar flexibility) or `histplot` (an axes-level function for histograms).\n",
      "  warnings.warn(msg, FutureWarning)\n",
      "/usr/local/lib/python3.7/dist-packages/seaborn/_decorators.py:43: FutureWarning: Pass the following variable as a keyword arg: x. From version 0.12, the only valid positional argument will be `data`, and passing other arguments without an explicit keyword will result in an error or misinterpretation.\n",
      "  FutureWarning\n",
      "/usr/local/lib/python3.7/dist-packages/seaborn/distributions.py:2619: FutureWarning: `distplot` is a deprecated function and will be removed in a future version. Please adapt your code to use either `displot` (a figure-level function with similar flexibility) or `histplot` (an axes-level function for histograms).\n",
      "  warnings.warn(msg, FutureWarning)\n",
      "/usr/local/lib/python3.7/dist-packages/seaborn/_decorators.py:43: FutureWarning: Pass the following variable as a keyword arg: x. From version 0.12, the only valid positional argument will be `data`, and passing other arguments without an explicit keyword will result in an error or misinterpretation.\n",
      "  FutureWarning\n"
     ]
    },
    {
     "data": {
      "image/png": "[encoded data removed]",
      "text/plain": [
       "<Figure size 1152x576 with 4 Axes>"
      ]
     },
     "metadata": {
      "needs_background": "light"
     },
     "output_type": "display_data"
    }
   ],
   "source": [
    "plt.figure(figsize=(16,8))\n",
    "plt.subplot(2,2,1)\n",
    "sns.color_palette(\"Paired\")\n",
    "sns.distplot(df['Rent(Rs)'],color='purple')\n",
    "plt.subplot(2,2,2)\n",
    "sns.boxplot(df['Rent(Rs)'],color='olive')\n",
    "plt.subplot(2,2,3)\n",
    "sns.distplot(df['Deposit(Rs)'],color = 'purple')\n",
    "plt.subplot(2,2,4)\n",
    "sns.boxplot(df['Deposit(Rs)'],color='olive')\n",
    "plt.show()"
   ]
  },
  {
   "cell_type": "code",
   "execution_count": 56,
   "metadata": {
    "colab": {
     "base_uri": "https://localhost:8080/",
     "height": 311
    },
    "id": "BoBMxJKPzcL5",
    "outputId": "a1e84865-a1fd-48bd-bf6c-186189dbc866"
   },
   "outputs": [
    {
     "data": {
      "text/plain": [
       "<matplotlib.axes._subplots.AxesSubplot at 0x7f11dd1a18d0>"
      ]
     },
     "execution_count": 56,
     "metadata": {},
     "output_type": "execute_result"
    },
    {
     "data": {
      "image/png": "[encoded data removed]",
      "text/plain": [
       "<Figure size 288x288 with 2 Axes>"
      ]
     },
     "metadata": {
      "needs_background": "light"
     },
     "output_type": "display_data"
    }
   ],
   "source": [
    "df.corr()\n",
    "f, ax = plt.subplots(figsize=(4,4))\n",
    "sns.heatmap(df.corr(), annot=True, linewidths=0.5, square=True, vmax=0.3, center=0, cmap=sns.cubehelix_palette())"
   ]
  },
  {
   "cell_type": "code",
   "execution_count": 57,
   "metadata": {
    "colab": {
     "base_uri": "https://localhost:8080/",
     "height": 726
    },
    "id": "sywQf5DzzcL5",
    "outputId": "6db723dd-084f-450d-ea78-7d6c45383bb6"
   },
   "outputs": [
    {
     "data": {
      "image/png": "[encoded data removed]",
      "text/plain": [
       "<Figure size 720x720 with 20 Axes>"
      ]
     },
     "metadata": {
      "needs_background": "light"
     },
     "output_type": "display_data"
    }
   ],
   "source": [
    "sns.pairplot(df);"
   ]
  },
  {
   "cell_type": "markdown",
   "metadata": {
    "id": "Qed_EZiCzcL6"
   },
   "source": [
    "#One - Hot Encoding \n",
    "\n",
    "\n"
   ]
  },
  {
   "cell_type": "markdown",
   "metadata": {
    "id": "ESCU3wrP0q33"
   },
   "source": [
    "Before we build our model, we need to create some dummy variables for these 4 variables: \"avaliable for\", \"Furnishing\", \"Property age\",\"bhk\". We need to perform one hot encoding for the categorical variables by using pandas get_dummies() function."
   ]
  },
  {
   "cell_type": "code",
   "execution_count": 60,
   "metadata": {
    "colab": {
     "base_uri": "https://localhost:8080/",
     "height": 0
    },
    "id": "pxtA1cTpzcL6",
    "outputId": "f8b15aab-398b-4699-a77c-d04c9ee5c2cf"
   },
   "outputs": [
    {
     "data": {
      "text/html": [
       "\n",
       "  <div id=\"df-867d4e70-ccad-40c2-92f0-5488691d323a\">\n",
       "    <div class=\"colab-df-container\">\n",
       "      <div>\n",
       "<style scoped>\n",
       "    .dataframe tbody tr th:only-of-type {\n",
       "        vertical-align: middle;\n",
       "    }\n",
       "\n",
       "    .dataframe tbody tr th {\n",
       "        vertical-align: top;\n",
       "    }\n",
       "\n",
       "    .dataframe thead th {\n",
       "        text-align: right;\n",
       "    }\n",
       "</style>\n",
       "<table border=\"1\" class=\"dataframe\">\n",
       "  <thead>\n",
       "    <tr style=\"text-align: right;\">\n",
       "      <th></th>\n",
       "      <th>Title</th>\n",
       "      <th>Address</th>\n",
       "      <th>Rent(Rs)</th>\n",
       "      <th>Deposit(Rs)</th>\n",
       "      <th>Size(Acres)</th>\n",
       "      <th>Furnishing</th>\n",
       "      <th>Property age</th>\n",
       "      <th>Available for</th>\n",
       "      <th>bhk</th>\n",
       "    </tr>\n",
       "  </thead>\n",
       "  <tbody>\n",
       "    <tr>\n",
       "      <th>0</th>\n",
       "      <td>2 BHK in Adhisri Apartments, Nungambakkam</td>\n",
       "      <td>Loyola College, Nelson Manickam Road, Nungamba...</td>\n",
       "      <td>31000</td>\n",
       "      <td>250000</td>\n",
       "      <td>1200</td>\n",
       "      <td>Semi Furnished</td>\n",
       "      <td>&gt;10 years</td>\n",
       "      <td>All</td>\n",
       "      <td>2</td>\n",
       "    </tr>\n",
       "    <tr>\n",
       "      <th>1</th>\n",
       "      <td>3 BHK in Appaswamy Platina, Porur</td>\n",
       "      <td>Appaswamy Platina, Porur, Chennai</td>\n",
       "      <td>35000</td>\n",
       "      <td>200000</td>\n",
       "      <td>1708</td>\n",
       "      <td>Semi Furnished</td>\n",
       "      <td>Newly Constructed</td>\n",
       "      <td>Family</td>\n",
       "      <td>3</td>\n",
       "    </tr>\n",
       "    <tr>\n",
       "      <th>2</th>\n",
       "      <td>3 BHK in Sham SGS Apartment, Vaanagaram</td>\n",
       "      <td>No, 04, Rajan Kuppam Road, Gangai Amman Koil S...</td>\n",
       "      <td>17000</td>\n",
       "      <td>150000</td>\n",
       "      <td>1350</td>\n",
       "      <td>Semi Furnished</td>\n",
       "      <td>Newly Constructed</td>\n",
       "      <td>All</td>\n",
       "      <td>3</td>\n",
       "    </tr>\n",
       "    <tr>\n",
       "      <th>3</th>\n",
       "      <td>3 BHK in Siri, Perungudi</td>\n",
       "      <td>Omr Road, Kottivakkam, Near Indian Oil Petrol ...</td>\n",
       "      <td>30000</td>\n",
       "      <td>100000</td>\n",
       "      <td>1600</td>\n",
       "      <td>Semi Furnished</td>\n",
       "      <td>3-5 years</td>\n",
       "      <td>Family</td>\n",
       "      <td>3</td>\n",
       "    </tr>\n",
       "    <tr>\n",
       "      <th>4</th>\n",
       "      <td>2 BHK in Parijatham illam, West Mambalam</td>\n",
       "      <td>Ramakrishnapuram Near B K Sweets ( Lakshmi Vil...</td>\n",
       "      <td>14500</td>\n",
       "      <td>96000</td>\n",
       "      <td>700</td>\n",
       "      <td>Semi Furnished</td>\n",
       "      <td>&gt;10 years</td>\n",
       "      <td>Family</td>\n",
       "      <td>2</td>\n",
       "    </tr>\n",
       "  </tbody>\n",
       "</table>\n",
       "</div>\n",
       "      <button class=\"colab-df-convert\" onclick=\"convertToInteractive('df-867d4e70-ccad-40c2-92f0-5488691d323a')\"\n",
       "              title=\"Convert this dataframe to an interactive table.\"\n",
       "              style=\"display:none;\">\n",
       "        \n",
       "  <svg xmlns=\"http://www.w3.org/2000/svg\" height=\"24px\"viewBox=\"0 0 24 24\"\n",
       "       width=\"24px\">\n",
       "    <path d=\"M0 0h24v24H0V0z\" fill=\"none\"/>\n",
       "    <path d=\"M18.56 5.44l.94 2.06.94-2.06 2.06-.94-2.06-.94-.94-2.06-.94 2.06-2.06.94zm-11 1L8.5 8.5l.94-2.06 2.06-.94-2.06-.94L8.5 2.5l-.94 2.06-2.06.94zm10 10l.94 2.06.94-2.06 2.06-.94-2.06-.94-.94-2.06-.94 2.06-2.06.94z\"/><path d=\"M17.41 7.96l-1.37-1.37c-.4-.4-.92-.59-1.43-.59-.52 0-1.04.2-1.43.59L10.3 9.45l-7.72 7.72c-.78.78-.78 2.05 0 2.83L4 21.41c.39.39.9.59 1.41.59.51 0 1.02-.2 1.41-.59l7.78-7.78 2.81-2.81c.8-.78.8-2.07 0-2.86zM5.41 20L4 18.59l7.72-7.72 1.47 1.35L5.41 20z\"/>\n",
       "  </svg>\n",
       "      </button>\n",
       "      \n",
       "  <style>\n",
       "    .colab-df-container {\n",
       "      display:flex;\n",
       "      flex-wrap:wrap;\n",
       "      gap: 12px;\n",
       "    }\n",
       "\n",
       "    .colab-df-convert {\n",
       "      background-color: #E8F0FE;\n",
       "      border: none;\n",
       "      border-radius: 50%;\n",
       "      cursor: pointer;\n",
       "      display: none;\n",
       "      fill: #1967D2;\n",
       "      height: 32px;\n",
       "      padding: 0 0 0 0;\n",
       "      width: 32px;\n",
       "    }\n",
       "\n",
       "    .colab-df-convert:hover {\n",
       "      background-color: #E2EBFA;\n",
       "      box-shadow: 0px 1px 2px rgba(60, 64, 67, 0.3), 0px 1px 3px 1px rgba(60, 64, 67, 0.15);\n",
       "      fill: #174EA6;\n",
       "    }\n",
       "\n",
       "    [theme=dark] .colab-df-convert {\n",
       "      background-color: #3B4455;\n",
       "      fill: #D2E3FC;\n",
       "    }\n",
       "\n",
       "    [theme=dark] .colab-df-convert:hover {\n",
       "      background-color: #434B5C;\n",
       "      box-shadow: 0px 1px 3px 1px rgba(0, 0, 0, 0.15);\n",
       "      filter: drop-shadow(0px 1px 2px rgba(0, 0, 0, 0.3));\n",
       "      fill: #FFFFFF;\n",
       "    }\n",
       "  </style>\n",
       "\n",
       "      <script>\n",
       "        const buttonEl =\n",
       "          document.querySelector('#df-867d4e70-ccad-40c2-92f0-5488691d323a button.colab-df-convert');\n",
       "        buttonEl.style.display =\n",
       "          google.colab.kernel.accessAllowed ? 'block' : 'none';\n",
       "\n",
       "        async function convertToInteractive(key) {\n",
       "          const element = document.querySelector('#df-867d4e70-ccad-40c2-92f0-5488691d323a');\n",
       "          const dataTable =\n",
       "            await google.colab.kernel.invokeFunction('convertToInteractive',\n",
       "                                                     [key], {});\n",
       "          if (!dataTable) return;\n",
       "\n",
       "          const docLinkHtml = 'Like what you see? Visit the ' +\n",
       "            '<a target=\"_blank\" href=https://colab.research.google.com/notebooks/data_table.ipynb>data table notebook</a>'\n",
       "            + ' to learn more about interactive tables.';\n",
       "          element.innerHTML = '';\n",
       "          dataTable['output_type'] = 'display_data';\n",
       "          await google.colab.output.renderOutput(dataTable, element);\n",
       "          const docLink = document.createElement('div');\n",
       "          docLink.innerHTML = docLinkHtml;\n",
       "          element.appendChild(docLink);\n",
       "        }\n",
       "      </script>\n",
       "    </div>\n",
       "  </div>\n",
       "  "
      ],
      "text/plain": [
       "                                       Title  \\\n",
       "0  2 BHK in Adhisri Apartments, Nungambakkam   \n",
       "1          3 BHK in Appaswamy Platina, Porur   \n",
       "2    3 BHK in Sham SGS Apartment, Vaanagaram   \n",
       "3                   3 BHK in Siri, Perungudi   \n",
       "4   2 BHK in Parijatham illam, West Mambalam   \n",
       "\n",
       "                                             Address  Rent(Rs)  Deposit(Rs)  \\\n",
       "0  Loyola College, Nelson Manickam Road, Nungamba...     31000       250000   \n",
       "1                  Appaswamy Platina, Porur, Chennai     35000       200000   \n",
       "2  No, 04, Rajan Kuppam Road, Gangai Amman Koil S...     17000       150000   \n",
       "3  Omr Road, Kottivakkam, Near Indian Oil Petrol ...     30000       100000   \n",
       "4  Ramakrishnapuram Near B K Sweets ( Lakshmi Vil...     14500        96000   \n",
       "\n",
       "   Size(Acres)      Furnishing       Property age Available for  bhk  \n",
       "0         1200  Semi Furnished         >10 years            All    2  \n",
       "1         1708  Semi Furnished  Newly Constructed        Family    3  \n",
       "2         1350  Semi Furnished  Newly Constructed           All    3  \n",
       "3         1600  Semi Furnished         3-5 years         Family    3  \n",
       "4          700  Semi Furnished         >10 years         Family    2  "
      ]
     },
     "execution_count": 60,
     "metadata": {},
     "output_type": "execute_result"
    }
   ],
   "source": [
    "df.head()"
   ]
  },
  {
   "cell_type": "code",
   "execution_count": 61,
   "metadata": {
    "id": "tsbguGoszcL6"
   },
   "outputs": [],
   "source": [
    "df1=pd.get_dummies(df, prefix=['Furnishing', 'Property age','Available for','bhk'], columns=['Furnishing', 'Property age','Available for','bhk'])"
   ]
  },
  {
   "cell_type": "code",
   "execution_count": 62,
   "metadata": {
    "colab": {
     "base_uri": "https://localhost:8080/",
     "height": 0
    },
    "id": "QwWeiilJzcL6",
    "outputId": "c3fc7e37-4dde-4e7d-e82e-d5d0f02c934f"
   },
   "outputs": [
    {
     "data": {
      "text/html": [
       "\n",
       "  <div id=\"df-ebe85912-53bb-4162-a8cf-49b3c30039b5\">\n",
       "    <div class=\"colab-df-container\">\n",
       "      <div>\n",
       "<style scoped>\n",
       "    .dataframe tbody tr th:only-of-type {\n",
       "        vertical-align: middle;\n",
       "    }\n",
       "\n",
       "    .dataframe tbody tr th {\n",
       "        vertical-align: top;\n",
       "    }\n",
       "\n",
       "    .dataframe thead th {\n",
       "        text-align: right;\n",
       "    }\n",
       "</style>\n",
       "<table border=\"1\" class=\"dataframe\">\n",
       "  <thead>\n",
       "    <tr style=\"text-align: right;\">\n",
       "      <th></th>\n",
       "      <th>Title</th>\n",
       "      <th>Address</th>\n",
       "      <th>Rent(Rs)</th>\n",
       "      <th>Deposit(Rs)</th>\n",
       "      <th>Size(Acres)</th>\n",
       "      <th>Furnishing_Full Furnished</th>\n",
       "      <th>Furnishing_Semi Furnished</th>\n",
       "      <th>Furnishing_UnFurnished</th>\n",
       "      <th>Property age_1-3 years</th>\n",
       "      <th>Property age_3-5 years</th>\n",
       "      <th>...</th>\n",
       "      <th>Property age_Newly Constructed</th>\n",
       "      <th>Property age_Under Construction</th>\n",
       "      <th>Available for_All</th>\n",
       "      <th>Available for_Bachelors</th>\n",
       "      <th>Available for_Company</th>\n",
       "      <th>Available for_Family</th>\n",
       "      <th>bhk_1</th>\n",
       "      <th>bhk_2</th>\n",
       "      <th>bhk_3</th>\n",
       "      <th>bhk_4</th>\n",
       "    </tr>\n",
       "  </thead>\n",
       "  <tbody>\n",
       "    <tr>\n",
       "      <th>0</th>\n",
       "      <td>2 BHK in Adhisri Apartments, Nungambakkam</td>\n",
       "      <td>Loyola College, Nelson Manickam Road, Nungamba...</td>\n",
       "      <td>31000</td>\n",
       "      <td>250000</td>\n",
       "      <td>1200</td>\n",
       "      <td>0</td>\n",
       "      <td>1</td>\n",
       "      <td>0</td>\n",
       "      <td>0</td>\n",
       "      <td>0</td>\n",
       "      <td>...</td>\n",
       "      <td>0</td>\n",
       "      <td>0</td>\n",
       "      <td>1</td>\n",
       "      <td>0</td>\n",
       "      <td>0</td>\n",
       "      <td>0</td>\n",
       "      <td>0</td>\n",
       "      <td>1</td>\n",
       "      <td>0</td>\n",
       "      <td>0</td>\n",
       "    </tr>\n",
       "    <tr>\n",
       "      <th>1</th>\n",
       "      <td>3 BHK in Appaswamy Platina, Porur</td>\n",
       "      <td>Appaswamy Platina, Porur, Chennai</td>\n",
       "      <td>35000</td>\n",
       "      <td>200000</td>\n",
       "      <td>1708</td>\n",
       "      <td>0</td>\n",
       "      <td>1</td>\n",
       "      <td>0</td>\n",
       "      <td>0</td>\n",
       "      <td>0</td>\n",
       "      <td>...</td>\n",
       "      <td>1</td>\n",
       "      <td>0</td>\n",
       "      <td>0</td>\n",
       "      <td>0</td>\n",
       "      <td>0</td>\n",
       "      <td>1</td>\n",
       "      <td>0</td>\n",
       "      <td>0</td>\n",
       "      <td>1</td>\n",
       "      <td>0</td>\n",
       "    </tr>\n",
       "    <tr>\n",
       "      <th>2</th>\n",
       "      <td>3 BHK in Sham SGS Apartment, Vaanagaram</td>\n",
       "      <td>No, 04, Rajan Kuppam Road, Gangai Amman Koil S...</td>\n",
       "      <td>17000</td>\n",
       "      <td>150000</td>\n",
       "      <td>1350</td>\n",
       "      <td>0</td>\n",
       "      <td>1</td>\n",
       "      <td>0</td>\n",
       "      <td>0</td>\n",
       "      <td>0</td>\n",
       "      <td>...</td>\n",
       "      <td>1</td>\n",
       "      <td>0</td>\n",
       "      <td>1</td>\n",
       "      <td>0</td>\n",
       "      <td>0</td>\n",
       "      <td>0</td>\n",
       "      <td>0</td>\n",
       "      <td>0</td>\n",
       "      <td>1</td>\n",
       "      <td>0</td>\n",
       "    </tr>\n",
       "    <tr>\n",
       "      <th>3</th>\n",
       "      <td>3 BHK in Siri, Perungudi</td>\n",
       "      <td>Omr Road, Kottivakkam, Near Indian Oil Petrol ...</td>\n",
       "      <td>30000</td>\n",
       "      <td>100000</td>\n",
       "      <td>1600</td>\n",
       "      <td>0</td>\n",
       "      <td>1</td>\n",
       "      <td>0</td>\n",
       "      <td>0</td>\n",
       "      <td>1</td>\n",
       "      <td>...</td>\n",
       "      <td>0</td>\n",
       "      <td>0</td>\n",
       "      <td>0</td>\n",
       "      <td>0</td>\n",
       "      <td>0</td>\n",
       "      <td>1</td>\n",
       "      <td>0</td>\n",
       "      <td>0</td>\n",
       "      <td>1</td>\n",
       "      <td>0</td>\n",
       "    </tr>\n",
       "    <tr>\n",
       "      <th>4</th>\n",
       "      <td>2 BHK in Parijatham illam, West Mambalam</td>\n",
       "      <td>Ramakrishnapuram Near B K Sweets ( Lakshmi Vil...</td>\n",
       "      <td>14500</td>\n",
       "      <td>96000</td>\n",
       "      <td>700</td>\n",
       "      <td>0</td>\n",
       "      <td>1</td>\n",
       "      <td>0</td>\n",
       "      <td>0</td>\n",
       "      <td>0</td>\n",
       "      <td>...</td>\n",
       "      <td>0</td>\n",
       "      <td>0</td>\n",
       "      <td>0</td>\n",
       "      <td>0</td>\n",
       "      <td>0</td>\n",
       "      <td>1</td>\n",
       "      <td>0</td>\n",
       "      <td>1</td>\n",
       "      <td>0</td>\n",
       "      <td>0</td>\n",
       "    </tr>\n",
       "  </tbody>\n",
       "</table>\n",
       "<p>5 rows × 22 columns</p>\n",
       "</div>\n",
       "      <button class=\"colab-df-convert\" onclick=\"convertToInteractive('df-ebe85912-53bb-4162-a8cf-49b3c30039b5')\"\n",
       "              title=\"Convert this dataframe to an interactive table.\"\n",
       "              style=\"display:none;\">\n",
       "        \n",
       "  <svg xmlns=\"http://www.w3.org/2000/svg\" height=\"24px\"viewBox=\"0 0 24 24\"\n",
       "       width=\"24px\">\n",
       "    <path d=\"M0 0h24v24H0V0z\" fill=\"none\"/>\n",
       "    <path d=\"M18.56 5.44l.94 2.06.94-2.06 2.06-.94-2.06-.94-.94-2.06-.94 2.06-2.06.94zm-11 1L8.5 8.5l.94-2.06 2.06-.94-2.06-.94L8.5 2.5l-.94 2.06-2.06.94zm10 10l.94 2.06.94-2.06 2.06-.94-2.06-.94-.94-2.06-.94 2.06-2.06.94z\"/><path d=\"M17.41 7.96l-1.37-1.37c-.4-.4-.92-.59-1.43-.59-.52 0-1.04.2-1.43.59L10.3 9.45l-7.72 7.72c-.78.78-.78 2.05 0 2.83L4 21.41c.39.39.9.59 1.41.59.51 0 1.02-.2 1.41-.59l7.78-7.78 2.81-2.81c.8-.78.8-2.07 0-2.86zM5.41 20L4 18.59l7.72-7.72 1.47 1.35L5.41 20z\"/>\n",
       "  </svg>\n",
       "      </button>\n",
       "      \n",
       "  <style>\n",
       "    .colab-df-container {\n",
       "      display:flex;\n",
       "      flex-wrap:wrap;\n",
       "      gap: 12px;\n",
       "    }\n",
       "\n",
       "    .colab-df-convert {\n",
       "      background-color: #E8F0FE;\n",
       "      border: none;\n",
       "      border-radius: 50%;\n",
       "      cursor: pointer;\n",
       "      display: none;\n",
       "      fill: #1967D2;\n",
       "      height: 32px;\n",
       "      padding: 0 0 0 0;\n",
       "      width: 32px;\n",
       "    }\n",
       "\n",
       "    .colab-df-convert:hover {\n",
       "      background-color: #E2EBFA;\n",
       "      box-shadow: 0px 1px 2px rgba(60, 64, 67, 0.3), 0px 1px 3px 1px rgba(60, 64, 67, 0.15);\n",
       "      fill: #174EA6;\n",
       "    }\n",
       "\n",
       "    [theme=dark] .colab-df-convert {\n",
       "      background-color: #3B4455;\n",
       "      fill: #D2E3FC;\n",
       "    }\n",
       "\n",
       "    [theme=dark] .colab-df-convert:hover {\n",
       "      background-color: #434B5C;\n",
       "      box-shadow: 0px 1px 3px 1px rgba(0, 0, 0, 0.15);\n",
       "      filter: drop-shadow(0px 1px 2px rgba(0, 0, 0, 0.3));\n",
       "      fill: #FFFFFF;\n",
       "    }\n",
       "  </style>\n",
       "\n",
       "      <script>\n",
       "        const buttonEl =\n",
       "          document.querySelector('#df-ebe85912-53bb-4162-a8cf-49b3c30039b5 button.colab-df-convert');\n",
       "        buttonEl.style.display =\n",
       "          google.colab.kernel.accessAllowed ? 'block' : 'none';\n",
       "\n",
       "        async function convertToInteractive(key) {\n",
       "          const element = document.querySelector('#df-ebe85912-53bb-4162-a8cf-49b3c30039b5');\n",
       "          const dataTable =\n",
       "            await google.colab.kernel.invokeFunction('convertToInteractive',\n",
       "                                                     [key], {});\n",
       "          if (!dataTable) return;\n",
       "\n",
       "          const docLinkHtml = 'Like what you see? Visit the ' +\n",
       "            '<a target=\"_blank\" href=https://colab.research.google.com/notebooks/data_table.ipynb>data table notebook</a>'\n",
       "            + ' to learn more about interactive tables.';\n",
       "          element.innerHTML = '';\n",
       "          dataTable['output_type'] = 'display_data';\n",
       "          await google.colab.output.renderOutput(dataTable, element);\n",
       "          const docLink = document.createElement('div');\n",
       "          docLink.innerHTML = docLinkHtml;\n",
       "          element.appendChild(docLink);\n",
       "        }\n",
       "      </script>\n",
       "    </div>\n",
       "  </div>\n",
       "  "
      ],
      "text/plain": [
       "                                       Title  \\\n",
       "0  2 BHK in Adhisri Apartments, Nungambakkam   \n",
       "1          3 BHK in Appaswamy Platina, Porur   \n",
       "2    3 BHK in Sham SGS Apartment, Vaanagaram   \n",
       "3                   3 BHK in Siri, Perungudi   \n",
       "4   2 BHK in Parijatham illam, West Mambalam   \n",
       "\n",
       "                                             Address  Rent(Rs)  Deposit(Rs)  \\\n",
       "0  Loyola College, Nelson Manickam Road, Nungamba...     31000       250000   \n",
       "1                  Appaswamy Platina, Porur, Chennai     35000       200000   \n",
       "2  No, 04, Rajan Kuppam Road, Gangai Amman Koil S...     17000       150000   \n",
       "3  Omr Road, Kottivakkam, Near Indian Oil Petrol ...     30000       100000   \n",
       "4  Ramakrishnapuram Near B K Sweets ( Lakshmi Vil...     14500        96000   \n",
       "\n",
       "   Size(Acres)  Furnishing_Full Furnished  Furnishing_Semi Furnished  \\\n",
       "0         1200                          0                          1   \n",
       "1         1708                          0                          1   \n",
       "2         1350                          0                          1   \n",
       "3         1600                          0                          1   \n",
       "4          700                          0                          1   \n",
       "\n",
       "   Furnishing_UnFurnished  Property age_1-3 years   Property age_3-5 years   \\\n",
       "0                       0                        0                        0   \n",
       "1                       0                        0                        0   \n",
       "2                       0                        0                        0   \n",
       "3                       0                        0                        1   \n",
       "4                       0                        0                        0   \n",
       "\n",
       "   ...  Property age_Newly Constructed  Property age_Under Construction  \\\n",
       "0  ...                               0                                0   \n",
       "1  ...                               1                                0   \n",
       "2  ...                               1                                0   \n",
       "3  ...                               0                                0   \n",
       "4  ...                               0                                0   \n",
       "\n",
       "   Available for_All  Available for_Bachelors  Available for_Company  \\\n",
       "0                  1                        0                      0   \n",
       "1                  0                        0                      0   \n",
       "2                  1                        0                      0   \n",
       "3                  0                        0                      0   \n",
       "4                  0                        0                      0   \n",
       "\n",
       "   Available for_Family  bhk_1  bhk_2  bhk_3  bhk_4  \n",
       "0                     0      0      1      0      0  \n",
       "1                     1      0      0      1      0  \n",
       "2                     0      0      0      1      0  \n",
       "3                     1      0      0      1      0  \n",
       "4                     1      0      1      0      0  \n",
       "\n",
       "[5 rows x 22 columns]"
      ]
     },
     "execution_count": 62,
     "metadata": {},
     "output_type": "execute_result"
    }
   ],
   "source": [
    "df1.head()"
   ]
  },
  {
   "cell_type": "code",
   "execution_count": 63,
   "metadata": {
    "colab": {
     "base_uri": "https://localhost:8080/"
    },
    "id": "rppQiNnhzcL6",
    "outputId": "532a9ec7-e7f0-4e7c-dacb-9a23db644321"
   },
   "outputs": [
    {
     "name": "stdout",
     "output_type": "stream",
     "text": [
      "(969, 22) \n",
      "\n",
      "<class 'pandas.core.frame.DataFrame'>\n",
      "Int64Index: 969 entries, 0 to 997\n",
      "Data columns (total 22 columns):\n",
      " #   Column                           Non-Null Count  Dtype \n",
      "---  ------                           --------------  ----- \n",
      " 0   Title                            969 non-null    object\n",
      " 1   Address                          969 non-null    object\n",
      " 2   Rent(Rs)                         969 non-null    int64 \n",
      " 3   Deposit(Rs)                      969 non-null    int64 \n",
      " 4   Size(Acres)                      969 non-null    int64 \n",
      " 5   Furnishing_Full Furnished        969 non-null    uint8 \n",
      " 6   Furnishing_Semi Furnished        969 non-null    uint8 \n",
      " 7   Furnishing_UnFurnished           969 non-null    uint8 \n",
      " 8   Property age_1-3 years           969 non-null    uint8 \n",
      " 9   Property age_3-5 years           969 non-null    uint8 \n",
      " 10  Property age_5-10 years          969 non-null    uint8 \n",
      " 11  Property age_>10 years           969 non-null    uint8 \n",
      " 12  Property age_Newly Constructed   969 non-null    uint8 \n",
      " 13  Property age_Under Construction  969 non-null    uint8 \n",
      " 14  Available for_All                969 non-null    uint8 \n",
      " 15  Available for_Bachelors          969 non-null    uint8 \n",
      " 16  Available for_Company            969 non-null    uint8 \n",
      " 17  Available for_Family             969 non-null    uint8 \n",
      " 18  bhk_1                            969 non-null    uint8 \n",
      " 19  bhk_2                            969 non-null    uint8 \n",
      " 20  bhk_3                            969 non-null    uint8 \n",
      " 21  bhk_4                            969 non-null    uint8 \n",
      "dtypes: int64(3), object(2), uint8(17)\n",
      "memory usage: 93.8+ KB\n"
     ]
    }
   ],
   "source": [
    "print(df1.shape, \"\\n\")\n",
    "df1.info()"
   ]
  },
  {
   "cell_type": "code",
   "execution_count": 64,
   "metadata": {
    "colab": {
     "base_uri": "https://localhost:8080/"
    },
    "id": "ZS8SIrP0zcL6",
    "outputId": "d7f9fe0b-2ee5-4a31-c917-149815053baf"
   },
   "outputs": [
    {
     "data": {
      "text/plain": [
       "Index(['Title', 'Address', 'Rent(Rs)', 'Deposit(Rs)', 'Size(Acres)',\n",
       "       'Furnishing_Full Furnished', 'Furnishing_Semi Furnished',\n",
       "       'Furnishing_UnFurnished', 'Property age_1-3 years ',\n",
       "       'Property age_3-5 years ', 'Property age_5-10 years ',\n",
       "       'Property age_>10 years ', 'Property age_Newly Constructed',\n",
       "       'Property age_Under Construction', 'Available for_All',\n",
       "       'Available for_Bachelors', 'Available for_Company',\n",
       "       'Available for_Family', 'bhk_1', 'bhk_2', 'bhk_3', 'bhk_4'],\n",
       "      dtype='object')"
      ]
     },
     "execution_count": 64,
     "metadata": {},
     "output_type": "execute_result"
    }
   ],
   "source": [
    "df1.columns"
   ]
  },
  {
   "cell_type": "code",
   "execution_count": 65,
   "metadata": {
    "id": "ipwNCtqozcL7"
   },
   "outputs": [],
   "source": [
    "X = df1.drop(columns=[\"Rent(Rs)\",\"Title\",\"Address\"])\n",
    "Y = df1[\"Rent(Rs)\"]\n"
   ]
  },
  {
   "cell_type": "code",
   "execution_count": 66,
   "metadata": {
    "colab": {
     "base_uri": "https://localhost:8080/",
     "height": 0
    },
    "id": "QdAU6Sl1zcL7",
    "outputId": "6801dd69-7fbc-4a22-e456-10b5304795ff"
   },
   "outputs": [
    {
     "data": {
      "text/html": [
       "\n",
       "  <div id=\"df-569f253c-c9c3-47ce-9bd5-83fce30fd7a4\">\n",
       "    <div class=\"colab-df-container\">\n",
       "      <div>\n",
       "<style scoped>\n",
       "    .dataframe tbody tr th:only-of-type {\n",
       "        vertical-align: middle;\n",
       "    }\n",
       "\n",
       "    .dataframe tbody tr th {\n",
       "        vertical-align: top;\n",
       "    }\n",
       "\n",
       "    .dataframe thead th {\n",
       "        text-align: right;\n",
       "    }\n",
       "</style>\n",
       "<table border=\"1\" class=\"dataframe\">\n",
       "  <thead>\n",
       "    <tr style=\"text-align: right;\">\n",
       "      <th></th>\n",
       "      <th>Deposit(Rs)</th>\n",
       "      <th>Size(Acres)</th>\n",
       "      <th>Furnishing_Full Furnished</th>\n",
       "      <th>Furnishing_Semi Furnished</th>\n",
       "      <th>Furnishing_UnFurnished</th>\n",
       "      <th>Property age_1-3 years</th>\n",
       "      <th>Property age_3-5 years</th>\n",
       "      <th>Property age_5-10 years</th>\n",
       "      <th>Property age_&gt;10 years</th>\n",
       "      <th>Property age_Newly Constructed</th>\n",
       "      <th>Property age_Under Construction</th>\n",
       "      <th>Available for_All</th>\n",
       "      <th>Available for_Bachelors</th>\n",
       "      <th>Available for_Company</th>\n",
       "      <th>Available for_Family</th>\n",
       "      <th>bhk_1</th>\n",
       "      <th>bhk_2</th>\n",
       "      <th>bhk_3</th>\n",
       "      <th>bhk_4</th>\n",
       "    </tr>\n",
       "  </thead>\n",
       "  <tbody>\n",
       "    <tr>\n",
       "      <th>0</th>\n",
       "      <td>250000</td>\n",
       "      <td>1200</td>\n",
       "      <td>0</td>\n",
       "      <td>1</td>\n",
       "      <td>0</td>\n",
       "      <td>0</td>\n",
       "      <td>0</td>\n",
       "      <td>0</td>\n",
       "      <td>1</td>\n",
       "      <td>0</td>\n",
       "      <td>0</td>\n",
       "      <td>1</td>\n",
       "      <td>0</td>\n",
       "      <td>0</td>\n",
       "      <td>0</td>\n",
       "      <td>0</td>\n",
       "      <td>1</td>\n",
       "      <td>0</td>\n",
       "      <td>0</td>\n",
       "    </tr>\n",
       "    <tr>\n",
       "      <th>1</th>\n",
       "      <td>200000</td>\n",
       "      <td>1708</td>\n",
       "      <td>0</td>\n",
       "      <td>1</td>\n",
       "      <td>0</td>\n",
       "      <td>0</td>\n",
       "      <td>0</td>\n",
       "      <td>0</td>\n",
       "      <td>0</td>\n",
       "      <td>1</td>\n",
       "      <td>0</td>\n",
       "      <td>0</td>\n",
       "      <td>0</td>\n",
       "      <td>0</td>\n",
       "      <td>1</td>\n",
       "      <td>0</td>\n",
       "      <td>0</td>\n",
       "      <td>1</td>\n",
       "      <td>0</td>\n",
       "    </tr>\n",
       "    <tr>\n",
       "      <th>2</th>\n",
       "      <td>150000</td>\n",
       "      <td>1350</td>\n",
       "      <td>0</td>\n",
       "      <td>1</td>\n",
       "      <td>0</td>\n",
       "      <td>0</td>\n",
       "      <td>0</td>\n",
       "      <td>0</td>\n",
       "      <td>0</td>\n",
       "      <td>1</td>\n",
       "      <td>0</td>\n",
       "      <td>1</td>\n",
       "      <td>0</td>\n",
       "      <td>0</td>\n",
       "      <td>0</td>\n",
       "      <td>0</td>\n",
       "      <td>0</td>\n",
       "      <td>1</td>\n",
       "      <td>0</td>\n",
       "    </tr>\n",
       "    <tr>\n",
       "      <th>3</th>\n",
       "      <td>100000</td>\n",
       "      <td>1600</td>\n",
       "      <td>0</td>\n",
       "      <td>1</td>\n",
       "      <td>0</td>\n",
       "      <td>0</td>\n",
       "      <td>1</td>\n",
       "      <td>0</td>\n",
       "      <td>0</td>\n",
       "      <td>0</td>\n",
       "      <td>0</td>\n",
       "      <td>0</td>\n",
       "      <td>0</td>\n",
       "      <td>0</td>\n",
       "      <td>1</td>\n",
       "      <td>0</td>\n",
       "      <td>0</td>\n",
       "      <td>1</td>\n",
       "      <td>0</td>\n",
       "    </tr>\n",
       "    <tr>\n",
       "      <th>4</th>\n",
       "      <td>96000</td>\n",
       "      <td>700</td>\n",
       "      <td>0</td>\n",
       "      <td>1</td>\n",
       "      <td>0</td>\n",
       "      <td>0</td>\n",
       "      <td>0</td>\n",
       "      <td>0</td>\n",
       "      <td>1</td>\n",
       "      <td>0</td>\n",
       "      <td>0</td>\n",
       "      <td>0</td>\n",
       "      <td>0</td>\n",
       "      <td>0</td>\n",
       "      <td>1</td>\n",
       "      <td>0</td>\n",
       "      <td>1</td>\n",
       "      <td>0</td>\n",
       "      <td>0</td>\n",
       "    </tr>\n",
       "    <tr>\n",
       "      <th>...</th>\n",
       "      <td>...</td>\n",
       "      <td>...</td>\n",
       "      <td>...</td>\n",
       "      <td>...</td>\n",
       "      <td>...</td>\n",
       "      <td>...</td>\n",
       "      <td>...</td>\n",
       "      <td>...</td>\n",
       "      <td>...</td>\n",
       "      <td>...</td>\n",
       "      <td>...</td>\n",
       "      <td>...</td>\n",
       "      <td>...</td>\n",
       "      <td>...</td>\n",
       "      <td>...</td>\n",
       "      <td>...</td>\n",
       "      <td>...</td>\n",
       "      <td>...</td>\n",
       "      <td>...</td>\n",
       "    </tr>\n",
       "    <tr>\n",
       "      <th>993</th>\n",
       "      <td>51000</td>\n",
       "      <td>700</td>\n",
       "      <td>0</td>\n",
       "      <td>1</td>\n",
       "      <td>0</td>\n",
       "      <td>0</td>\n",
       "      <td>0</td>\n",
       "      <td>1</td>\n",
       "      <td>0</td>\n",
       "      <td>0</td>\n",
       "      <td>0</td>\n",
       "      <td>0</td>\n",
       "      <td>0</td>\n",
       "      <td>0</td>\n",
       "      <td>1</td>\n",
       "      <td>0</td>\n",
       "      <td>1</td>\n",
       "      <td>0</td>\n",
       "      <td>0</td>\n",
       "    </tr>\n",
       "    <tr>\n",
       "      <th>994</th>\n",
       "      <td>50000</td>\n",
       "      <td>1100</td>\n",
       "      <td>0</td>\n",
       "      <td>1</td>\n",
       "      <td>0</td>\n",
       "      <td>0</td>\n",
       "      <td>0</td>\n",
       "      <td>1</td>\n",
       "      <td>0</td>\n",
       "      <td>0</td>\n",
       "      <td>0</td>\n",
       "      <td>0</td>\n",
       "      <td>0</td>\n",
       "      <td>0</td>\n",
       "      <td>1</td>\n",
       "      <td>0</td>\n",
       "      <td>0</td>\n",
       "      <td>1</td>\n",
       "      <td>0</td>\n",
       "    </tr>\n",
       "    <tr>\n",
       "      <th>995</th>\n",
       "      <td>100000</td>\n",
       "      <td>810</td>\n",
       "      <td>0</td>\n",
       "      <td>1</td>\n",
       "      <td>0</td>\n",
       "      <td>0</td>\n",
       "      <td>0</td>\n",
       "      <td>0</td>\n",
       "      <td>1</td>\n",
       "      <td>0</td>\n",
       "      <td>0</td>\n",
       "      <td>1</td>\n",
       "      <td>0</td>\n",
       "      <td>0</td>\n",
       "      <td>0</td>\n",
       "      <td>0</td>\n",
       "      <td>1</td>\n",
       "      <td>0</td>\n",
       "      <td>0</td>\n",
       "    </tr>\n",
       "    <tr>\n",
       "      <th>996</th>\n",
       "      <td>45000</td>\n",
       "      <td>1500</td>\n",
       "      <td>0</td>\n",
       "      <td>0</td>\n",
       "      <td>1</td>\n",
       "      <td>0</td>\n",
       "      <td>0</td>\n",
       "      <td>0</td>\n",
       "      <td>1</td>\n",
       "      <td>0</td>\n",
       "      <td>0</td>\n",
       "      <td>0</td>\n",
       "      <td>0</td>\n",
       "      <td>0</td>\n",
       "      <td>1</td>\n",
       "      <td>0</td>\n",
       "      <td>0</td>\n",
       "      <td>1</td>\n",
       "      <td>0</td>\n",
       "    </tr>\n",
       "    <tr>\n",
       "      <th>997</th>\n",
       "      <td>100000</td>\n",
       "      <td>900</td>\n",
       "      <td>0</td>\n",
       "      <td>0</td>\n",
       "      <td>1</td>\n",
       "      <td>0</td>\n",
       "      <td>0</td>\n",
       "      <td>0</td>\n",
       "      <td>1</td>\n",
       "      <td>0</td>\n",
       "      <td>0</td>\n",
       "      <td>1</td>\n",
       "      <td>0</td>\n",
       "      <td>0</td>\n",
       "      <td>0</td>\n",
       "      <td>0</td>\n",
       "      <td>1</td>\n",
       "      <td>0</td>\n",
       "      <td>0</td>\n",
       "    </tr>\n",
       "  </tbody>\n",
       "</table>\n",
       "<p>969 rows × 19 columns</p>\n",
       "</div>\n",
       "      <button class=\"colab-df-convert\" onclick=\"convertToInteractive('df-569f253c-c9c3-47ce-9bd5-83fce30fd7a4')\"\n",
       "              title=\"Convert this dataframe to an interactive table.\"\n",
       "              style=\"display:none;\">\n",
       "        \n",
       "  <svg xmlns=\"http://www.w3.org/2000/svg\" height=\"24px\"viewBox=\"0 0 24 24\"\n",
       "       width=\"24px\">\n",
       "    <path d=\"M0 0h24v24H0V0z\" fill=\"none\"/>\n",
       "    <path d=\"M18.56 5.44l.94 2.06.94-2.06 2.06-.94-2.06-.94-.94-2.06-.94 2.06-2.06.94zm-11 1L8.5 8.5l.94-2.06 2.06-.94-2.06-.94L8.5 2.5l-.94 2.06-2.06.94zm10 10l.94 2.06.94-2.06 2.06-.94-2.06-.94-.94-2.06-.94 2.06-2.06.94z\"/><path d=\"M17.41 7.96l-1.37-1.37c-.4-.4-.92-.59-1.43-.59-.52 0-1.04.2-1.43.59L10.3 9.45l-7.72 7.72c-.78.78-.78 2.05 0 2.83L4 21.41c.39.39.9.59 1.41.59.51 0 1.02-.2 1.41-.59l7.78-7.78 2.81-2.81c.8-.78.8-2.07 0-2.86zM5.41 20L4 18.59l7.72-7.72 1.47 1.35L5.41 20z\"/>\n",
       "  </svg>\n",
       "      </button>\n",
       "      \n",
       "  <style>\n",
       "    .colab-df-container {\n",
       "      display:flex;\n",
       "      flex-wrap:wrap;\n",
       "      gap: 12px;\n",
       "    }\n",
       "\n",
       "    .colab-df-convert {\n",
       "      background-color: #E8F0FE;\n",
       "      border: none;\n",
       "      border-radius: 50%;\n",
       "      cursor: pointer;\n",
       "      display: none;\n",
       "      fill: #1967D2;\n",
       "      height: 32px;\n",
       "      padding: 0 0 0 0;\n",
       "      width: 32px;\n",
       "    }\n",
       "\n",
       "    .colab-df-convert:hover {\n",
       "      background-color: #E2EBFA;\n",
       "      box-shadow: 0px 1px 2px rgba(60, 64, 67, 0.3), 0px 1px 3px 1px rgba(60, 64, 67, 0.15);\n",
       "      fill: #174EA6;\n",
       "    }\n",
       "\n",
       "    [theme=dark] .colab-df-convert {\n",
       "      background-color: #3B4455;\n",
       "      fill: #D2E3FC;\n",
       "    }\n",
       "\n",
       "    [theme=dark] .colab-df-convert:hover {\n",
       "      background-color: #434B5C;\n",
       "      box-shadow: 0px 1px 3px 1px rgba(0, 0, 0, 0.15);\n",
       "      filter: drop-shadow(0px 1px 2px rgba(0, 0, 0, 0.3));\n",
       "      fill: #FFFFFF;\n",
       "    }\n",
       "  </style>\n",
       "\n",
       "      <script>\n",
       "        const buttonEl =\n",
       "          document.querySelector('#df-569f253c-c9c3-47ce-9bd5-83fce30fd7a4 button.colab-df-convert');\n",
       "        buttonEl.style.display =\n",
       "          google.colab.kernel.accessAllowed ? 'block' : 'none';\n",
       "\n",
       "        async function convertToInteractive(key) {\n",
       "          const element = document.querySelector('#df-569f253c-c9c3-47ce-9bd5-83fce30fd7a4');\n",
       "          const dataTable =\n",
       "            await google.colab.kernel.invokeFunction('convertToInteractive',\n",
       "                                                     [key], {});\n",
       "          if (!dataTable) return;\n",
       "\n",
       "          const docLinkHtml = 'Like what you see? Visit the ' +\n",
       "            '<a target=\"_blank\" href=https://colab.research.google.com/notebooks/data_table.ipynb>data table notebook</a>'\n",
       "            + ' to learn more about interactive tables.';\n",
       "          element.innerHTML = '';\n",
       "          dataTable['output_type'] = 'display_data';\n",
       "          await google.colab.output.renderOutput(dataTable, element);\n",
       "          const docLink = document.createElement('div');\n",
       "          docLink.innerHTML = docLinkHtml;\n",
       "          element.appendChild(docLink);\n",
       "        }\n",
       "      </script>\n",
       "    </div>\n",
       "  </div>\n",
       "  "
      ],
      "text/plain": [
       "     Deposit(Rs)  Size(Acres)  Furnishing_Full Furnished  \\\n",
       "0         250000         1200                          0   \n",
       "1         200000         1708                          0   \n",
       "2         150000         1350                          0   \n",
       "3         100000         1600                          0   \n",
       "4          96000          700                          0   \n",
       "..           ...          ...                        ...   \n",
       "993        51000          700                          0   \n",
       "994        50000         1100                          0   \n",
       "995       100000          810                          0   \n",
       "996        45000         1500                          0   \n",
       "997       100000          900                          0   \n",
       "\n",
       "     Furnishing_Semi Furnished  Furnishing_UnFurnished  \\\n",
       "0                            1                       0   \n",
       "1                            1                       0   \n",
       "2                            1                       0   \n",
       "3                            1                       0   \n",
       "4                            1                       0   \n",
       "..                         ...                     ...   \n",
       "993                          1                       0   \n",
       "994                          1                       0   \n",
       "995                          1                       0   \n",
       "996                          0                       1   \n",
       "997                          0                       1   \n",
       "\n",
       "     Property age_1-3 years   Property age_3-5 years   \\\n",
       "0                          0                        0   \n",
       "1                          0                        0   \n",
       "2                          0                        0   \n",
       "3                          0                        1   \n",
       "4                          0                        0   \n",
       "..                       ...                      ...   \n",
       "993                        0                        0   \n",
       "994                        0                        0   \n",
       "995                        0                        0   \n",
       "996                        0                        0   \n",
       "997                        0                        0   \n",
       "\n",
       "     Property age_5-10 years   Property age_>10 years   \\\n",
       "0                           0                        1   \n",
       "1                           0                        0   \n",
       "2                           0                        0   \n",
       "3                           0                        0   \n",
       "4                           0                        1   \n",
       "..                        ...                      ...   \n",
       "993                         1                        0   \n",
       "994                         1                        0   \n",
       "995                         0                        1   \n",
       "996                         0                        1   \n",
       "997                         0                        1   \n",
       "\n",
       "     Property age_Newly Constructed  Property age_Under Construction  \\\n",
       "0                                 0                                0   \n",
       "1                                 1                                0   \n",
       "2                                 1                                0   \n",
       "3                                 0                                0   \n",
       "4                                 0                                0   \n",
       "..                              ...                              ...   \n",
       "993                               0                                0   \n",
       "994                               0                                0   \n",
       "995                               0                                0   \n",
       "996                               0                                0   \n",
       "997                               0                                0   \n",
       "\n",
       "     Available for_All  Available for_Bachelors  Available for_Company  \\\n",
       "0                    1                        0                      0   \n",
       "1                    0                        0                      0   \n",
       "2                    1                        0                      0   \n",
       "3                    0                        0                      0   \n",
       "4                    0                        0                      0   \n",
       "..                 ...                      ...                    ...   \n",
       "993                  0                        0                      0   \n",
       "994                  0                        0                      0   \n",
       "995                  1                        0                      0   \n",
       "996                  0                        0                      0   \n",
       "997                  1                        0                      0   \n",
       "\n",
       "     Available for_Family  bhk_1  bhk_2  bhk_3  bhk_4  \n",
       "0                       0      0      1      0      0  \n",
       "1                       1      0      0      1      0  \n",
       "2                       0      0      0      1      0  \n",
       "3                       1      0      0      1      0  \n",
       "4                       1      0      1      0      0  \n",
       "..                    ...    ...    ...    ...    ...  \n",
       "993                     1      0      1      0      0  \n",
       "994                     1      0      0      1      0  \n",
       "995                     0      0      1      0      0  \n",
       "996                     1      0      0      1      0  \n",
       "997                     0      0      1      0      0  \n",
       "\n",
       "[969 rows x 19 columns]"
      ]
     },
     "execution_count": 66,
     "metadata": {},
     "output_type": "execute_result"
    }
   ],
   "source": [
    "X"
   ]
  },
  {
   "cell_type": "code",
   "execution_count": 67,
   "metadata": {
    "colab": {
     "base_uri": "https://localhost:8080/"
    },
    "id": "eK_AlZN8zcL7",
    "outputId": "a1d39e3c-e8a0-4552-e667-3a39a4c193f2"
   },
   "outputs": [
    {
     "data": {
      "text/plain": [
       "0      31000\n",
       "1      35000\n",
       "2      17000\n",
       "3      30000\n",
       "4      14500\n",
       "       ...  \n",
       "993     8500\n",
       "994    15000\n",
       "995    20000\n",
       "996    15000\n",
       "997    15000\n",
       "Name: Rent(Rs), Length: 969, dtype: int64"
      ]
     },
     "execution_count": 67,
     "metadata": {},
     "output_type": "execute_result"
    }
   ],
   "source": [
    "Y"
   ]
  },
  {
   "cell_type": "code",
   "execution_count": 68,
   "metadata": {
    "id": "pzZnpgSnzcL7"
   },
   "outputs": [],
   "source": [
    "from sklearn.model_selection import train_test_split\n",
    "\n",
    "X_train, X_test, y_train, y_test = train_test_split(X, Y, test_size=0.25, random_state=0)"
   ]
  },
  {
   "cell_type": "markdown",
   "metadata": {
    "id": "dkAfr4nvwbiH"
   },
   "source": [
    "#Models"
   ]
  },
  {
   "cell_type": "markdown",
   "metadata": {
    "id": "Tu_w3J2y1ewv"
   },
   "source": [
    "We will build several models to predict \"Rent\" as target variable using serveral features like \"Deposue\", \"NoOfBathroom\", \"NoOfBedroom\", \"NoOfParking\", \"State\", \"Furnishing\", and \"PropertyType\"."
   ]
  },
  {
   "cell_type": "markdown",
   "metadata": {
    "id": "zllQ-RHszcL7"
   },
   "source": [
    "# Linear Regression"
   ]
  },
  {
   "cell_type": "markdown",
   "metadata": {
    "id": "zPLy_p6x0Jwf"
   },
   "source": [
    "* Find the attribute that affects the price of a house.\n",
    "* then we have to create  linear model related to the house price with variables like furnishing,property age, etc.\n",
    "* Now we find the accuracy of a model, that means how well the variables can predict the prices of a house"
   ]
  },
  {
   "cell_type": "code",
   "execution_count": 69,
   "metadata": {
    "colab": {
     "base_uri": "https://localhost:8080/"
    },
    "id": "oDIY1S3MzcL7",
    "outputId": "9a056691-d259-4b28-c8b2-a5a4f171d654"
   },
   "outputs": [
    {
     "data": {
      "text/plain": [
       "LinearRegression()"
      ]
     },
     "execution_count": 69,
     "metadata": {},
     "output_type": "execute_result"
    }
   ],
   "source": [
    "from sklearn.linear_model import LinearRegression\n",
    "regressor = LinearRegression()\n",
    "regressor.fit(X_train, y_train)"
   ]
  },
  {
   "cell_type": "code",
   "execution_count": 70,
   "metadata": {
    "id": "nYU_tkFzzcL8"
   },
   "outputs": [],
   "source": [
    "y_pred = regressor.predict(X_test)"
   ]
  },
  {
   "cell_type": "code",
   "execution_count": 71,
   "metadata": {
    "colab": {
     "base_uri": "https://localhost:8080/"
    },
    "id": "zOjt061TzcL8",
    "outputId": "01fa4b4a-71ee-4c22-d9c4-87a2ba07390e"
   },
   "outputs": [
    {
     "name": "stdout",
     "output_type": "stream",
     "text": [
      "Liner Regression R-squared: 0.6672201274363028\n"
     ]
    }
   ],
   "source": [
    "# calculate R-squared(goodness of a fit)\n",
    "r2_lin=regressor.score(X_test, y_test)\n",
    "print(\"Liner Regression R-squared:\",r2_lin)"
   ]
  },
  {
   "cell_type": "code",
   "execution_count": 72,
   "metadata": {
    "colab": {
     "base_uri": "https://localhost:8080/"
    },
    "id": "NNMR8OV3zcL8",
    "outputId": "09ee4f09-5fc9-439a-93eb-f1f6b825cd9f"
   },
   "outputs": [
    {
     "name": "stdout",
     "output_type": "stream",
     "text": [
      "Liner Regression RMSE: 7333.254174888635\n"
     ]
    }
   ],
   "source": [
    "# calculate root mean squared error (RMSE)\n",
    "import numpy as np\n",
    "from sklearn.metrics import mean_squared_error\n",
    "mse = mean_squared_error(y_pred, y_test)\n",
    "rmse = np.sqrt(mse)\n",
    "print(\"Liner Regression RMSE: {}\".format(rmse))"
   ]
  },
  {
   "cell_type": "code",
   "execution_count": 73,
   "metadata": {
    "colab": {
     "base_uri": "https://localhost:8080/"
    },
    "id": "FleJLRN7zcL8",
    "outputId": "63ce006e-4b92-46a6-ab57-65b46aede9bb"
   },
   "outputs": [
    {
     "name": "stdout",
     "output_type": "stream",
     "text": [
      "Liner Regression MAE: 4059.040746723094\n"
     ]
    }
   ],
   "source": [
    "# calculate mean absolute error (MAE)\n",
    "from sklearn.metrics import mean_absolute_error\n",
    "\n",
    "lin_mae = mean_absolute_error(y_pred, y_test)\n",
    "print(\"Liner Regression MAE: {}\".format(lin_mae))"
   ]
  },
  {
   "cell_type": "code",
   "execution_count": 74,
   "metadata": {
    "colab": {
     "base_uri": "https://localhost:8080/"
    },
    "id": "DmynUCl-zcL8",
    "outputId": "5775d651-5dab-45b6-f517-a58f792dd7a1"
   },
   "outputs": [
    {
     "data": {
      "text/plain": [
       "array([ 2.98035194e-02,  1.43615707e+01,  5.30991841e+03, -2.10673884e+03,\n",
       "       -3.20317957e+03, -6.74780487e+02, -2.54590434e+03, -8.70382139e+02,\n",
       "        1.78427583e+03, -8.52180202e+02,  3.15897133e+03, -4.15162862e+03,\n",
       "       -2.40898516e+03,  1.04423181e+04, -3.88170435e+03, -1.15768177e+03,\n",
       "       -2.00616044e+03, -1.70348999e+03,  4.86733221e+03])"
      ]
     },
     "execution_count": 74,
     "metadata": {},
     "output_type": "execute_result"
    }
   ],
   "source": [
    "regressor.coef_"
   ]
  },
  {
   "cell_type": "code",
   "execution_count": 75,
   "metadata": {
    "colab": {
     "base_uri": "https://localhost:8080/",
     "height": 0
    },
    "id": "0OcbodhEzcL9",
    "outputId": "6e267ffb-3828-4f04-83a5-19c4fd73b9c3"
   },
   "outputs": [
    {
     "name": "stdout",
     "output_type": "stream",
     "text": [
      "Deposit(Rs) : 0.02980351935064624\n",
      "Size(Acres) : 14.361570669957164\n",
      "Furnishing_Full Furnished : 5309.918410075174\n",
      "Furnishing_Semi Furnished : -2106.7388443484897\n",
      "Furnishing_UnFurnished : -3203.179565726689\n",
      "Property age_1-3 years  : -674.7804865156386\n",
      "Property age_3-5 years  : -2545.9043355704925\n",
      "Property age_5-10 years  : -870.3821385401116\n",
      "Property age_>10 years  : 1784.275831763334\n",
      "Property age_Newly Constructed : -852.1802015782288\n",
      "Property age_Under Construction : 3158.9713304411075\n",
      "Available for_All : -4151.628615058092\n",
      "Available for_Bachelors : -2408.9851571394174\n",
      "Available for_Company : 10442.318127123672\n",
      "Available for_Family : -3881.704354926163\n",
      "bhk_1 : -1157.6817711964418\n",
      "bhk_2 : -2006.1604416948842\n",
      "bhk_3 : -1703.4899925473208\n",
      "bhk_4 : 4867.332205438649\n"
     ]
    },
    {
     "data": {
      "image/png": "[encoded data removed]",
      "text/plain": [
       "<Figure size 432x288 with 1 Axes>"
      ]
     },
     "metadata": {
      "needs_background": "light"
     },
     "output_type": "display_data"
    }
   ],
   "source": [
    "importance = regressor.coef_\n",
    "\n",
    "for i,v in enumerate(importance):\n",
    "    print(X_train.columns[i],\":\",v)\n",
    "plt.bar([x for x in range(len(importance))], importance)\n",
    "plt.show()"
   ]
  },
  {
   "cell_type": "markdown",
   "metadata": {
    "id": "B7KDubcfzcL9"
   },
   "source": [
    "# Random Forest"
   ]
  },
  {
   "cell_type": "markdown",
   "metadata": {
    "id": "p-DQjYT-5icL"
   },
   "source": [
    "* It combines many different individual trees into an ensemble,\n",
    "and introduces random variation while building each decision tree. \n",
    "* a subset of the data like \"Property_age\" is randomly chosen. now it ll find each tree, and now the  features are completely random in each split test as well. \n",
    "* The average result of all trees  to produce an overall prediction, which reduces overfitting.\n",
    "* they are usually efficient on large data sets,but to compare with our other models, we used this too, to check which gives better accuracy"
   ]
  },
  {
   "cell_type": "code",
   "execution_count": 76,
   "metadata": {
    "id": "Uj3ArivQzcL9"
   },
   "outputs": [],
   "source": [
    "from sklearn.ensemble import RandomForestRegressor\n",
    "rf = RandomForestRegressor()"
   ]
  },
  {
   "cell_type": "code",
   "execution_count": 77,
   "metadata": {
    "colab": {
     "base_uri": "https://localhost:8080/"
    },
    "id": "J5pJWIVRzcL9",
    "outputId": "ebf8f00f-8204-49ec-bb4e-71d71bd03ba5"
   },
   "outputs": [
    {
     "data": {
      "text/plain": [
       "RandomForestRegressor()"
      ]
     },
     "execution_count": 77,
     "metadata": {},
     "output_type": "execute_result"
    }
   ],
   "source": [
    "# fit the model\n",
    "rf.fit(X_train, y_train)"
   ]
  },
  {
   "cell_type": "code",
   "execution_count": 78,
   "metadata": {
    "id": "v39Vqu4szcL9"
   },
   "outputs": [],
   "source": [
    "# make predictions \n",
    "y_pred = rf.predict(X_test)"
   ]
  },
  {
   "cell_type": "code",
   "execution_count": 79,
   "metadata": {
    "colab": {
     "base_uri": "https://localhost:8080/"
    },
    "id": "i7rsaYFrzcL-",
    "outputId": "a6997d4c-ea1a-4ce2-a4d9-4d17ea8a74fa"
   },
   "outputs": [
    {
     "name": "stdout",
     "output_type": "stream",
     "text": [
      "Random Forest R-squared: 0.7317225656457098\n"
     ]
    }
   ],
   "source": [
    "# calculate R-squared\n",
    "rf_r2=rf.score(X_test, y_test)\n",
    "print(\"Random Forest R-squared: {}\".format(rf_r2))"
   ]
  },
  {
   "cell_type": "code",
   "execution_count": 80,
   "metadata": {
    "colab": {
     "base_uri": "https://localhost:8080/"
    },
    "id": "cEYrUbdfzcL-",
    "outputId": "5db7e9f4-ebc1-458d-e42f-25b18821cec4"
   },
   "outputs": [
    {
     "name": "stdout",
     "output_type": "stream",
     "text": [
      "Random Forest Regression RMSE: 6584.310224574248\n"
     ]
    }
   ],
   "source": [
    "from sklearn.metrics import mean_squared_error\n",
    "\n",
    "forest_mse = mean_squared_error(y_pred, y_test)\n",
    "forest_rmse = np.sqrt(forest_mse)\n",
    "print(\"Random Forest Regression RMSE: {}\".format(forest_rmse))"
   ]
  },
  {
   "cell_type": "code",
   "execution_count": 81,
   "metadata": {
    "colab": {
     "base_uri": "https://localhost:8080/"
    },
    "id": "0lPw6soozcL-",
    "outputId": "3800c239-0511-4bec-8e05-d2099151f8f8"
   },
   "outputs": [
    {
     "name": "stdout",
     "output_type": "stream",
     "text": [
      "Randome forest MAE: 3613.09429159318\n"
     ]
    }
   ],
   "source": [
    "forest_mae = mean_absolute_error(y_pred, y_test)\n",
    "print(\"Randome forest MAE: {}\".format(forest_mae))"
   ]
  },
  {
   "cell_type": "code",
   "execution_count": 82,
   "metadata": {
    "colab": {
     "base_uri": "https://localhost:8080/",
     "height": 595
    },
    "id": "eEPaQjznzcL-",
    "outputId": "7ad17e64-dcf3-4b68-b170-83aea20234a0"
   },
   "outputs": [
    {
     "name": "stdout",
     "output_type": "stream",
     "text": [
      "Deposit(Rs) : 0.5852755193294997\n",
      "Size(Acres) : 0.3539184142557879\n",
      "Furnishing_Full Furnished : 0.003473900275065373\n",
      "Furnishing_Semi Furnished : 0.004432668787837648\n",
      "Furnishing_UnFurnished : 0.003748878981070874\n",
      "Property age_1-3 years  : 0.001855889613588865\n",
      "Property age_3-5 years  : 0.002900353495248503\n",
      "Property age_5-10 years  : 0.0037189514398725033\n",
      "Property age_>10 years  : 0.01176754893468552\n",
      "Property age_Newly Constructed : 0.003573914995006218\n",
      "Property age_Under Construction : 0.0016500826282878256\n",
      "Available for_All : 0.0035554364425592357\n",
      "Available for_Bachelors : 0.0007589131380601702\n",
      "Available for_Company : 0.002771002061433904\n",
      "Available for_Family : 0.005098488166971318\n",
      "bhk_1 : 0.002207033449942656\n",
      "bhk_2 : 0.0026632262752000345\n",
      "bhk_3 : 0.0029256190882022315\n",
      "bhk_4 : 0.003704158641679591\n"
     ]
    },
    {
     "data": {
      "image/png": "[encoded data removed]",
      "text/plain": [
       "<Figure size 432x288 with 1 Axes>"
      ]
     },
     "metadata": {
      "needs_background": "light"
     },
     "output_type": "display_data"
    }
   ],
   "source": [
    "importance = rf.feature_importances_\n",
    "for i,v in enumerate(importance):\n",
    "    print(X_train.columns[i],\":\",v)\n",
    "plt.bar([x for x in range(len(importance))], importance)\n",
    "plt.show()"
   ]
  },
  {
   "cell_type": "code",
   "execution_count": 83,
   "metadata": {
    "id": "qbLcVZnNzcL-"
   },
   "outputs": [],
   "source": [
    "from sklearn.model_selection import GridSearchCV"
   ]
  },
  {
   "cell_type": "code",
   "execution_count": 84,
   "metadata": {
    "id": "9-0o4WOIzcL-"
   },
   "outputs": [],
   "source": [
    "params = {'max_depth': list(range(20, 30, 2)), 'n_estimators': list(range(30, 40, 2))}\n",
    "rf = RandomForestRegressor(random_state=0)"
   ]
  },
  {
   "cell_type": "code",
   "execution_count": 85,
   "metadata": {
    "id": "fvF44jhkzcL_"
   },
   "outputs": [],
   "source": [
    "rf1 = GridSearchCV(rf, params, cv=5)"
   ]
  },
  {
   "cell_type": "code",
   "execution_count": 86,
   "metadata": {
    "colab": {
     "base_uri": "https://localhost:8080/"
    },
    "id": "aUjKJH6LzcL_",
    "outputId": "1b446d6f-b05c-410d-f56a-fc42721621da"
   },
   "outputs": [
    {
     "data": {
      "text/plain": [
       "GridSearchCV(cv=5, estimator=RandomForestRegressor(random_state=0),\n",
       "             param_grid={'max_depth': [20, 22, 24, 26, 28],\n",
       "                         'n_estimators': [30, 32, 34, 36, 38]})"
      ]
     },
     "execution_count": 86,
     "metadata": {},
     "output_type": "execute_result"
    }
   ],
   "source": [
    "rf1.fit(X_train, y_train)"
   ]
  },
  {
   "cell_type": "code",
   "execution_count": 87,
   "metadata": {
    "colab": {
     "base_uri": "https://localhost:8080/"
    },
    "id": "oRSDPwP8zcL_",
    "outputId": "9dcd191a-1d91-4e2a-a5fa-846902f94dbe"
   },
   "outputs": [
    {
     "data": {
      "text/plain": [
       "RandomForestRegressor(max_depth=20, n_estimators=30, random_state=0)"
      ]
     },
     "execution_count": 87,
     "metadata": {},
     "output_type": "execute_result"
    }
   ],
   "source": [
    "rf1.best_estimator_"
   ]
  },
  {
   "cell_type": "code",
   "execution_count": 88,
   "metadata": {
    "colab": {
     "base_uri": "https://localhost:8080/"
    },
    "id": "1ag0TyMezcL_",
    "outputId": "7a33f332-dc90-493b-8f55-ab1336da07ca"
   },
   "outputs": [
    {
     "name": "stdout",
     "output_type": "stream",
     "text": [
      "Best Params: {'max_depth': 20, 'n_estimators': 30}\n"
     ]
    }
   ],
   "source": [
    "print(\"Best Params:\", rf1.best_params_)"
   ]
  },
  {
   "cell_type": "code",
   "execution_count": 89,
   "metadata": {
    "colab": {
     "base_uri": "https://localhost:8080/"
    },
    "id": "9wc8Xg4szcMA",
    "outputId": "b4439d79-14f2-4e22-b6c7-4485e6c18e5d"
   },
   "outputs": [
    {
     "name": "stdout",
     "output_type": "stream",
     "text": [
      "Random Forest Regression RMSE: 6584.310224574248\n"
     ]
    }
   ],
   "source": [
    "from sklearn.metrics import mean_squared_error\n",
    "rf1_mse = mean_squared_error(y_pred, y_test)\n",
    "rf1_rmse = np.sqrt(forest_mse)\n",
    "print(\"Random Forest Regression RMSE: {}\".format(rf1_rmse))"
   ]
  },
  {
   "cell_type": "markdown",
   "metadata": {
    "id": "ICATT5RZzcMA"
   },
   "source": [
    "# Gradient Boosting "
   ]
  },
  {
   "cell_type": "markdown",
   "metadata": {
    "id": "5qDcL4gEANBq"
   },
   "source": [
    "* Gradient Boosting basically uses standard method to build regression trees, like Mean Squared Error or a similar one to determine the best split for the tree.\n",
    "* The algorithm calculates MSE for every possible node split and then picks the one with the lowest MSE as the one to use in the tree."
   ]
  },
  {
   "cell_type": "code",
   "execution_count": 90,
   "metadata": {
    "id": "grgRdbJOzcMA"
   },
   "outputs": [],
   "source": [
    "from sklearn.ensemble import GradientBoostingRegressor\n"
   ]
  },
  {
   "cell_type": "code",
   "execution_count": 91,
   "metadata": {
    "colab": {
     "base_uri": "https://localhost:8080/"
    },
    "id": "D4AIa4RxzcMA",
    "outputId": "f517d0fb-9fbc-4508-ec87-bc8278b663aa"
   },
   "outputs": [
    {
     "data": {
      "text/plain": [
       "GradientBoostingRegressor(random_state=101)"
      ]
     },
     "execution_count": 91,
     "metadata": {},
     "output_type": "execute_result"
    }
   ],
   "source": [
    "gbm1 = GradientBoostingRegressor(learning_rate=0.1, n_estimators=100, min_samples_split=2, \n",
    "                                 min_samples_leaf=1, max_depth=3, subsample=1.0, max_features= None, \n",
    "                                 random_state=101)\n",
    "\n",
    "gbm1.fit(X_train, y_train)"
   ]
  },
  {
   "cell_type": "code",
   "execution_count": 92,
   "metadata": {
    "id": "JbKNqKk1zcMA"
   },
   "outputs": [],
   "source": [
    "y_pred = gbm1.predict(X_test)"
   ]
  },
  {
   "cell_type": "code",
   "execution_count": 93,
   "metadata": {
    "colab": {
     "base_uri": "https://localhost:8080/"
    },
    "id": "4PmFs2vXzcMB",
    "outputId": "16c9a977-aa86-4bd6-9ab7-bd52cd0d0c0e"
   },
   "outputs": [
    {
     "name": "stdout",
     "output_type": "stream",
     "text": [
      "Gradient Boosting Regressor R-squared: 0.7280211644463148\n"
     ]
    }
   ],
   "source": [
    "gbm_r2=gbm1.score(X_test, y_test)\n",
    "print(\"Gradient Boosting Regressor R-squared:\",gbm_r2)"
   ]
  },
  {
   "cell_type": "code",
   "execution_count": 94,
   "metadata": {
    "colab": {
     "base_uri": "https://localhost:8080/"
    },
    "id": "03QgcT_lzcMB",
    "outputId": "9da1af87-9ead-4ecf-d3cd-787f62796490"
   },
   "outputs": [
    {
     "name": "stdout",
     "output_type": "stream",
     "text": [
      "Gradient Boosting Regressor Regression RMSE: 6629.576213877472\n"
     ]
    }
   ],
   "source": [
    "gbr_mse = mean_squared_error(y_pred, y_test)\n",
    "gbr_rmse = np.sqrt(gbr_mse)\n",
    "print(\"Gradient Boosting Regressor Regression RMSE: {}\".format(gbr_rmse))"
   ]
  },
  {
   "cell_type": "code",
   "execution_count": 95,
   "metadata": {
    "colab": {
     "base_uri": "https://localhost:8080/"
    },
    "id": "3l8mpe-RzcMB",
    "outputId": "72381667-f0eb-44e9-fec9-50344ec24dbb"
   },
   "outputs": [
    {
     "name": "stdout",
     "output_type": "stream",
     "text": [
      "Gradient Boosting Regressor Regression MAE: 3437.79667220485\n"
     ]
    }
   ],
   "source": [
    "gbr_mae = mean_absolute_error(y_pred, y_test)\n",
    "print(\"Gradient Boosting Regressor Regression MAE: {}\".format(gbr_mae))"
   ]
  },
  {
   "cell_type": "code",
   "execution_count": 96,
   "metadata": {
    "id": "YPngdiaYzcMB"
   },
   "outputs": [],
   "source": [
    "from sklearn.ensemble import GradientBoostingRegressor\n",
    "from sklearn.model_selection import GridSearchCV"
   ]
  },
  {
   "cell_type": "code",
   "execution_count": 97,
   "metadata": {
    "id": "TkRknxmDzcMB"
   },
   "outputs": [],
   "source": [
    "param_grid = {\"n_estimators\": [300], #, 250, 300\n",
    "              \"max_features\": [10], #2, 4, 6, 8, \n",
    "              \"max_depth\": [10]} #, 15, 20\n",
    "                                \n",
    "gbr = GradientBoostingRegressor(random_state=0)"
   ]
  },
  {
   "cell_type": "code",
   "execution_count": 98,
   "metadata": {
    "id": "-NSkw7L2zcMC"
   },
   "outputs": [],
   "source": [
    "gbreg = GridSearchCV(estimator=gbr, param_grid=param_grid, n_jobs=1, cv=5)"
   ]
  },
  {
   "cell_type": "code",
   "execution_count": 99,
   "metadata": {
    "colab": {
     "base_uri": "https://localhost:8080/"
    },
    "id": "mAlbdtbBzcMC",
    "outputId": "29e626d3-ca59-44c9-9d1c-cd00e86d9f08"
   },
   "outputs": [
    {
     "data": {
      "text/plain": [
       "GridSearchCV(cv=5, estimator=GradientBoostingRegressor(random_state=0),\n",
       "             n_jobs=1,\n",
       "             param_grid={'max_depth': [10], 'max_features': [10],\n",
       "                         'n_estimators': [300]})"
      ]
     },
     "execution_count": 99,
     "metadata": {},
     "output_type": "execute_result"
    }
   ],
   "source": [
    "gbreg.fit(X_train, y_train)"
   ]
  },
  {
   "cell_type": "code",
   "execution_count": 100,
   "metadata": {
    "colab": {
     "base_uri": "https://localhost:8080/"
    },
    "id": "tFz1IeQBzcMC",
    "outputId": "2ef187d2-2906-4437-a30d-79597b962019"
   },
   "outputs": [
    {
     "data": {
      "text/plain": [
       "GradientBoostingRegressor(max_depth=10, max_features=10, n_estimators=300,\n",
       "                          random_state=0)"
      ]
     },
     "execution_count": 100,
     "metadata": {},
     "output_type": "execute_result"
    }
   ],
   "source": [
    "gbreg.best_estimator_"
   ]
  },
  {
   "cell_type": "code",
   "execution_count": 101,
   "metadata": {
    "colab": {
     "base_uri": "https://localhost:8080/"
    },
    "id": "mVXHec06zcMC",
    "outputId": "67c31138-1b1f-413f-c518-d40ad4dffaa6"
   },
   "outputs": [
    {
     "name": "stdout",
     "output_type": "stream",
     "text": [
      "Best Params: {'max_depth': 10, 'max_features': 10, 'n_estimators': 300}\n"
     ]
    }
   ],
   "source": [
    "print(\"Best Params:\", gbreg.best_params_)\n"
   ]
  },
  {
   "cell_type": "code",
   "execution_count": 102,
   "metadata": {
    "colab": {
     "base_uri": "https://localhost:8080/"
    },
    "id": "vSH_nDsVzcMC",
    "outputId": "0d3919c0-9873-48e3-a7b4-632308dc14cb"
   },
   "outputs": [
    {
     "name": "stdout",
     "output_type": "stream",
     "text": [
      "Best CV Score: 0.6219046028250944\n"
     ]
    }
   ],
   "source": [
    "print(\"Best CV Score:\", gbreg.best_score_)"
   ]
  },
  {
   "cell_type": "code",
   "execution_count": 103,
   "metadata": {
    "id": "txHyaBbmzcMD"
   },
   "outputs": [],
   "source": [
    "y_pred = gbreg.predict(X_test)"
   ]
  },
  {
   "cell_type": "code",
   "execution_count": 104,
   "metadata": {
    "colab": {
     "base_uri": "https://localhost:8080/"
    },
    "id": "u6aGr-DwzcMD",
    "outputId": "46c98c07-f2b8-47c4-a93f-099a5aaecda9"
   },
   "outputs": [
    {
     "name": "stdout",
     "output_type": "stream",
     "text": [
      "Available for_Bachelors : 0.0005312020641408669\n",
      "bhk_1 : 0.0014547302494202234\n",
      "Property age_Under Construction : 0.0016744127279612836\n",
      "bhk_2 : 0.0026312296109911666\n",
      "Property age_3-5 years  : 0.0031837649512664293\n",
      "Available for_Family : 0.0044323393243375035\n",
      "Available for_Company : 0.0047378041442946136\n",
      "Property age_Newly Constructed : 0.004813744985705062\n",
      "Property age_5-10 years  : 0.005283830873019067\n",
      "Property age_1-3 years  : 0.0052904573103418175\n",
      "Furnishing_Full Furnished : 0.0054935897293229355\n",
      "Available for_All : 0.007043008728794219\n",
      "Furnishing_UnFurnished : 0.007243864170208748\n",
      "Property age_>10 years  : 0.010132950577390306\n",
      "Furnishing_Semi Furnished : 0.02183871789217267\n",
      "bhk_4 : 0.031226854233756537\n",
      "bhk_3 : 0.038678800880153366\n",
      "Size(Acres) : 0.39288561816707507\n",
      "Deposit(Rs) : 0.45142307937964815\n"
     ]
    }
   ],
   "source": [
    "importance = gbreg.best_estimator_.feature_importances_\n",
    "feature_importance = importance.argsort()\n",
    "for i in feature_importance:\n",
    "    print('{} : {}'.format(X_train.columns[i], (importance[i] )))"
   ]
  },
  {
   "cell_type": "code",
   "execution_count": 105,
   "metadata": {
    "colab": {
     "base_uri": "https://localhost:8080/",
     "height": 0
    },
    "id": "5uzLk3nnzcMD",
    "outputId": "434aa0b7-4ac4-4f5a-d43a-a89e9112e4be"
   },
   "outputs": [
    {
     "data": {
      "text/plain": [
       "<matplotlib.axes._subplots.AxesSubplot at 0x7f11d6199410>"
      ]
     },
     "execution_count": 105,
     "metadata": {},
     "output_type": "execute_result"
    },
    {
     "data": {
      "image/png": "[encoded data removed]",
      "text/plain": [
       "<Figure size 720x432 with 1 Axes>"
      ]
     },
     "metadata": {
      "needs_background": "light"
     },
     "output_type": "display_data"
    }
   ],
   "source": [
    "plt.figure(figsize=(10,6))\n",
    "plt.title(\"Feature Importances\")\n",
    "feat_importances = pd.Series(gbreg.best_estimator_.feature_importances_, index=X_train.columns)\n",
    "feat_importances.sort_values().plot(kind=\"bar\")"
   ]
  },
  {
   "cell_type": "markdown",
   "metadata": {
    "id": "VMYtevH9zcMD"
   },
   "source": [
    "# XGBoost "
   ]
  },
  {
   "cell_type": "markdown",
   "metadata": {
    "id": "KZ2rL2jU8yEd"
   },
   "source": [
    "* Extreme Gradient Boosting : it Contrary to regular Gradient Boosting, XGBoost uses its own method of building trees where the Similarity Score and Gain determine the best node splits.\n",
    "* XGBoost also has a Gamma hyperparameter, which you can set manually. It allows you to prune nodes that have minimal Gain. Pruning happens where Gain — Gamma < 0."
   ]
  },
  {
   "cell_type": "code",
   "execution_count": 106,
   "metadata": {
    "id": "aWxMs-fNzcMD"
   },
   "outputs": [],
   "source": [
    "from xgboost import XGBRegressor"
   ]
  },
  {
   "cell_type": "code",
   "execution_count": 107,
   "metadata": {
    "colab": {
     "base_uri": "https://localhost:8080/"
    },
    "id": "OYj1v0lDzcMD",
    "outputId": "b131fe42-9dcd-40fe-c428-100d8b696927"
   },
   "outputs": [
    {
     "name": "stdout",
     "output_type": "stream",
     "text": [
      "[07:39:54] WARNING: /workspace/src/objective/regression_obj.cu:152: reg:linear is now deprecated in favor of reg:squarederror.\n"
     ]
    },
    {
     "data": {
      "text/plain": [
       "XGBRegressor(random_state=101, subsample=1.0)"
      ]
     },
     "execution_count": 107,
     "metadata": {},
     "output_type": "execute_result"
    }
   ],
   "source": [
    "xgb1 = XGBRegressor(learning_rate=0.1, n_estimators=100,  \n",
    "                    max_depth=3, subsample=1.0, random_state=101)\n",
    "\n",
    "xgb1.fit(X_train, y_train)"
   ]
  },
  {
   "cell_type": "code",
   "execution_count": 108,
   "metadata": {
    "id": "6AZHOZLrzcME"
   },
   "outputs": [],
   "source": [
    "xgb1_pred = xgb1.predict(X_test)"
   ]
  },
  {
   "cell_type": "code",
   "execution_count": 109,
   "metadata": {
    "colab": {
     "base_uri": "https://localhost:8080/"
    },
    "id": "lCsj8fVjzcME",
    "outputId": "645d17f4-30c5-4297-a103-f0814a6b8c9a"
   },
   "outputs": [
    {
     "name": "stdout",
     "output_type": "stream",
     "text": [
      "XGBoost Regressor R-squared: 0.7518295501561364\n"
     ]
    }
   ],
   "source": [
    "r2_sgb=xgb1.score(X_test, y_test)\n",
    "print(\"XGBoost Regressor R-squared: {}\".format(r2_sgb))"
   ]
  },
  {
   "cell_type": "code",
   "execution_count": 110,
   "metadata": {
    "colab": {
     "base_uri": "https://localhost:8080/"
    },
    "id": "0ZDrmg7JzcME",
    "outputId": "f6247059-e642-4e30-8e2f-9755b6cf2abe"
   },
   "outputs": [
    {
     "name": "stdout",
     "output_type": "stream",
     "text": [
      "MAE: 3347.2431158371915\n"
     ]
    }
   ],
   "source": [
    "xgb_mae=mean_absolute_error(y_test, xgb1_pred)\n",
    "print('MAE:',xgb_mae)"
   ]
  },
  {
   "cell_type": "code",
   "execution_count": 111,
   "metadata": {
    "colab": {
     "base_uri": "https://localhost:8080/"
    },
    "id": "Yta8kb_XzcME",
    "outputId": "e8e086ac-6cb7-47f2-9133-b09e3a56ab3b"
   },
   "outputs": [
    {
     "name": "stdout",
     "output_type": "stream",
     "text": [
      "RMSE: 6332.763167097823\n"
     ]
    }
   ],
   "source": [
    "xgb_rmse=np.sqrt(mean_squared_error(y_test, xgb1_pred))\n",
    "print('RMSE:',xgb_rmse )"
   ]
  },
  {
   "cell_type": "code",
   "execution_count": 112,
   "metadata": {
    "colab": {
     "base_uri": "https://localhost:8080/",
     "height": 999
    },
    "id": "Bcns7L4SzcME",
    "outputId": "0294b331-ec89-4e22-91f5-672fc7e93422"
   },
   "outputs": [
    {
     "data": {
      "text/plain": [
       "<matplotlib.axes._subplots.AxesSubplot at 0x7f11d60cab50>"
      ]
     },
     "execution_count": 112,
     "metadata": {},
     "output_type": "execute_result"
    },
    {
     "data": {
      "image/png": "[encoded data removed]",
      "text/plain": [
       "<Figure size 1440x1080 with 1 Axes>"
      ]
     },
     "metadata": {
      "needs_background": "light"
     },
     "output_type": "display_data"
    }
   ],
   "source": [
    "feature_important = xgb1.get_booster().get_score(importance_type='weight')\n",
    "keys = list(feature_important.keys())\n",
    "values = list(feature_important.values())\n",
    "\n",
    "data = pd.DataFrame(data=values, index=keys, columns=[\"score\"]).sort_values(by = \"score\", ascending=False)\n",
    "data.nlargest(10, columns=\"score\").plot(kind='bar', figsize = (20,15))"
   ]
  },
  {
   "cell_type": "markdown",
   "metadata": {
    "id": "IQXV1AKHz3ZG"
   },
   "source": [
    "#COMPARISIONS"
   ]
  },
  {
   "cell_type": "code",
   "execution_count": 113,
   "metadata": {
    "colab": {
     "base_uri": "https://localhost:8080/",
     "height": 0
    },
    "id": "YxD6obJKzcMF",
    "outputId": "254dfe72-5b7e-4325-fe5d-9ab254a76b20"
   },
   "outputs": [
    {
     "data": {
      "text/html": [
       "\n",
       "  <div id=\"df-7da2646e-5d4c-4738-9f9f-c89b46bbcf0c\">\n",
       "    <div class=\"colab-df-container\">\n",
       "      <div>\n",
       "<style scoped>\n",
       "    .dataframe tbody tr th:only-of-type {\n",
       "        vertical-align: middle;\n",
       "    }\n",
       "\n",
       "    .dataframe tbody tr th {\n",
       "        vertical-align: top;\n",
       "    }\n",
       "\n",
       "    .dataframe thead th {\n",
       "        text-align: right;\n",
       "    }\n",
       "</style>\n",
       "<table border=\"1\" class=\"dataframe\">\n",
       "  <thead>\n",
       "    <tr style=\"text-align: right;\">\n",
       "      <th></th>\n",
       "      <th>Model</th>\n",
       "      <th>Score</th>\n",
       "      <th>RMSE</th>\n",
       "      <th>MAE</th>\n",
       "    </tr>\n",
       "  </thead>\n",
       "  <tbody>\n",
       "    <tr>\n",
       "      <th>0</th>\n",
       "      <td>Linear Regression</td>\n",
       "      <td>0.667220</td>\n",
       "      <td>7333.254175</td>\n",
       "      <td>4059.040747</td>\n",
       "    </tr>\n",
       "    <tr>\n",
       "      <th>1</th>\n",
       "      <td>Random Forest</td>\n",
       "      <td>0.731723</td>\n",
       "      <td>6584.310225</td>\n",
       "      <td>3613.094292</td>\n",
       "    </tr>\n",
       "    <tr>\n",
       "      <th>2</th>\n",
       "      <td>Gradient Boosting</td>\n",
       "      <td>0.728021</td>\n",
       "      <td>6629.576214</td>\n",
       "      <td>3437.796672</td>\n",
       "    </tr>\n",
       "    <tr>\n",
       "      <th>3</th>\n",
       "      <td>XGBOOST</td>\n",
       "      <td>0.751830</td>\n",
       "      <td>6332.763167</td>\n",
       "      <td>3347.243116</td>\n",
       "    </tr>\n",
       "  </tbody>\n",
       "</table>\n",
       "</div>\n",
       "      <button class=\"colab-df-convert\" onclick=\"convertToInteractive('df-7da2646e-5d4c-4738-9f9f-c89b46bbcf0c')\"\n",
       "              title=\"Convert this dataframe to an interactive table.\"\n",
       "              style=\"display:none;\">\n",
       "        \n",
       "  <svg xmlns=\"http://www.w3.org/2000/svg\" height=\"24px\"viewBox=\"0 0 24 24\"\n",
       "       width=\"24px\">\n",
       "    <path d=\"M0 0h24v24H0V0z\" fill=\"none\"/>\n",
       "    <path d=\"M18.56 5.44l.94 2.06.94-2.06 2.06-.94-2.06-.94-.94-2.06-.94 2.06-2.06.94zm-11 1L8.5 8.5l.94-2.06 2.06-.94-2.06-.94L8.5 2.5l-.94 2.06-2.06.94zm10 10l.94 2.06.94-2.06 2.06-.94-2.06-.94-.94-2.06-.94 2.06-2.06.94z\"/><path d=\"M17.41 7.96l-1.37-1.37c-.4-.4-.92-.59-1.43-.59-.52 0-1.04.2-1.43.59L10.3 9.45l-7.72 7.72c-.78.78-.78 2.05 0 2.83L4 21.41c.39.39.9.59 1.41.59.51 0 1.02-.2 1.41-.59l7.78-7.78 2.81-2.81c.8-.78.8-2.07 0-2.86zM5.41 20L4 18.59l7.72-7.72 1.47 1.35L5.41 20z\"/>\n",
       "  </svg>\n",
       "      </button>\n",
       "      \n",
       "  <style>\n",
       "    .colab-df-container {\n",
       "      display:flex;\n",
       "      flex-wrap:wrap;\n",
       "      gap: 12px;\n",
       "    }\n",
       "\n",
       "    .colab-df-convert {\n",
       "      background-color: #E8F0FE;\n",
       "      border: none;\n",
       "      border-radius: 50%;\n",
       "      cursor: pointer;\n",
       "      display: none;\n",
       "      fill: #1967D2;\n",
       "      height: 32px;\n",
       "      padding: 0 0 0 0;\n",
       "      width: 32px;\n",
       "    }\n",
       "\n",
       "    .colab-df-convert:hover {\n",
       "      background-color: #E2EBFA;\n",
       "      box-shadow: 0px 1px 2px rgba(60, 64, 67, 0.3), 0px 1px 3px 1px rgba(60, 64, 67, 0.15);\n",
       "      fill: #174EA6;\n",
       "    }\n",
       "\n",
       "    [theme=dark] .colab-df-convert {\n",
       "      background-color: #3B4455;\n",
       "      fill: #D2E3FC;\n",
       "    }\n",
       "\n",
       "    [theme=dark] .colab-df-convert:hover {\n",
       "      background-color: #434B5C;\n",
       "      box-shadow: 0px 1px 3px 1px rgba(0, 0, 0, 0.15);\n",
       "      filter: drop-shadow(0px 1px 2px rgba(0, 0, 0, 0.3));\n",
       "      fill: #FFFFFF;\n",
       "    }\n",
       "  </style>\n",
       "\n",
       "      <script>\n",
       "        const buttonEl =\n",
       "          document.querySelector('#df-7da2646e-5d4c-4738-9f9f-c89b46bbcf0c button.colab-df-convert');\n",
       "        buttonEl.style.display =\n",
       "          google.colab.kernel.accessAllowed ? 'block' : 'none';\n",
       "\n",
       "        async function convertToInteractive(key) {\n",
       "          const element = document.querySelector('#df-7da2646e-5d4c-4738-9f9f-c89b46bbcf0c');\n",
       "          const dataTable =\n",
       "            await google.colab.kernel.invokeFunction('convertToInteractive',\n",
       "                                                     [key], {});\n",
       "          if (!dataTable) return;\n",
       "\n",
       "          const docLinkHtml = 'Like what you see? Visit the ' +\n",
       "            '<a target=\"_blank\" href=https://colab.research.google.com/notebooks/data_table.ipynb>data table notebook</a>'\n",
       "            + ' to learn more about interactive tables.';\n",
       "          element.innerHTML = '';\n",
       "          dataTable['output_type'] = 'display_data';\n",
       "          await google.colab.output.renderOutput(dataTable, element);\n",
       "          const docLink = document.createElement('div');\n",
       "          docLink.innerHTML = docLinkHtml;\n",
       "          element.appendChild(docLink);\n",
       "        }\n",
       "      </script>\n",
       "    </div>\n",
       "  </div>\n",
       "  "
      ],
      "text/plain": [
       "               Model     Score         RMSE          MAE\n",
       "0  Linear Regression  0.667220  7333.254175  4059.040747\n",
       "1      Random Forest  0.731723  6584.310225  3613.094292\n",
       "2  Gradient Boosting  0.728021  6629.576214  3437.796672\n",
       "3            XGBOOST  0.751830  6332.763167  3347.243116"
      ]
     },
     "execution_count": 113,
     "metadata": {},
     "output_type": "execute_result"
    }
   ],
   "source": [
    "data = {\"Model\": [\"Linear Regression\", \"Random Forest\", \"Gradient Boosting\", \"XGBOOST\"],                 \n",
    "        \"Score\": [r2_lin, rf_r2,gbm_r2, r2_sgb],\n",
    "        \"RMSE\": [rmse,forest_rmse,gbr_rmse, xgb_rmse],\n",
    "        \"MAE\": [lin_mae, forest_mae,gbr_mae, xgb_mae]}\n",
    "\n",
    "results = pd.DataFrame(data=data)\n",
    "results"
   ]
  },
  {
   "cell_type": "code",
   "execution_count": 114,
   "metadata": {
    "colab": {
     "base_uri": "https://localhost:8080/",
     "height": 0
    },
    "id": "2BGe3QGmzcMF",
    "outputId": "b75768d2-60c7-4d6b-8da6-e0ef1e668fe6"
   },
   "outputs": [
    {
     "data": {
      "image/png": "[encoded data removed]",
      "text/plain": [
       "<Figure size 720x360 with 1 Axes>"
      ]
     },
     "metadata": {
      "needs_background": "light"
     },
     "output_type": "display_data"
    }
   ],
   "source": [
    "plt.figure(figsize=(10,5))\n",
    "g1 = sns.barplot(x=\"Model\", y=\"Score\", data=results)\n",
    "plt.ylim(0, 0.9)\n",
    "for p in g1.patches:\n",
    "    height = p.get_height()\n",
    "    g1.text(p.get_x()+p.get_width()/2., height+0.01, \"{:1.2f}\".format(height), ha=\"center\", fontsize=14) "
   ]
  },
  {
   "cell_type": "code",
   "execution_count": 115,
   "metadata": {
    "colab": {
     "base_uri": "https://localhost:8080/",
     "height": 0
    },
    "id": "8WEuMVW-zcMF",
    "outputId": "9f5e137d-395e-4a0e-9e1d-96b44788e280"
   },
   "outputs": [
    {
     "data": {
      "image/png": "[encoded data removed]",
      "text/plain": [
       "<Figure size 720x360 with 1 Axes>"
      ]
     },
     "metadata": {
      "needs_background": "light"
     },
     "output_type": "display_data"
    }
   ],
   "source": [
    "plt.figure(figsize=(10,5))\n",
    "g1 = sns.barplot(x=\"Model\", y=\"RMSE\", data=results)\n",
    "for p in g1.patches:\n",
    "    height = p.get_height()\n",
    "    g1.text(p.get_x()+p.get_width()/2., height+0.01, \"{:1.2f}\".format(height), ha=\"center\", fontsize=14) "
   ]
  },
  {
   "cell_type": "code",
   "execution_count": 116,
   "metadata": {
    "colab": {
     "base_uri": "https://localhost:8080/",
     "height": 0
    },
    "id": "DtdmigIXzcMF",
    "outputId": "79da85a9-20c3-478a-9ec0-a90f960f995c"
   },
   "outputs": [
    {
     "data": {
      "image/png": "[encoded data removed]",
      "text/plain": [
       "<Figure size 720x360 with 1 Axes>"
      ]
     },
     "metadata": {
      "needs_background": "light"
     },
     "output_type": "display_data"
    }
   ],
   "source": [
    "plt.figure(figsize=(10,5))\n",
    "g1 = sns.barplot(x=\"Model\", y=\"MAE\", data=results)\n",
    "for p in g1.patches:\n",
    "    height = p.get_height()\n",
    "    g1.text(p.get_x()+p.get_width()/2., height+0.01, \"{:1.2f}\".format(height), ha=\"center\", fontsize=14) "
   ]
  },
  {
   "cell_type": "code",
   "execution_count": 117,
   "metadata": {
    "colab": {
     "base_uri": "https://localhost:8080/"
    },
    "id": "s-OMJJG7zcMG",
    "outputId": "41fb1cc5-580d-47f4-b960-7b33bdcd98dc"
   },
   "outputs": [
    {
     "data": {
      "text/plain": [
       "Deposit(Rs)                        200000\n",
       "Size(Acres)                          1708\n",
       "Furnishing_Full Furnished               0\n",
       "Furnishing_Semi Furnished               1\n",
       "Furnishing_UnFurnished                  0\n",
       "Property age_1-3 years                  0\n",
       "Property age_3-5 years                  0\n",
       "Property age_5-10 years                 0\n",
       "Property age_>10 years                  0\n",
       "Property age_Newly Constructed          1\n",
       "Property age_Under Construction         0\n",
       "Available for_All                       0\n",
       "Available for_Bachelors                 0\n",
       "Available for_Company                   0\n",
       "Available for_Family                    1\n",
       "bhk_1                                   0\n",
       "bhk_2                                   0\n",
       "bhk_3                                   1\n",
       "bhk_4                                   0\n",
       "Name: 1, dtype: int64"
      ]
     },
     "execution_count": 117,
     "metadata": {},
     "output_type": "execute_result"
    }
   ],
   "source": [
    "X.iloc[1]"
   ]
  },
  {
   "cell_type": "code",
   "execution_count": 118,
   "metadata": {
    "colab": {
     "base_uri": "https://localhost:8080/"
    },
    "id": "lyNLO4cizcMG",
    "outputId": "ff7ee312-f9bb-4457-f8c0-9ba6ec1fdd6e"
   },
   "outputs": [
    {
     "data": {
      "text/plain": [
       "(19,)"
      ]
     },
     "execution_count": 118,
     "metadata": {},
     "output_type": "execute_result"
    }
   ],
   "source": [
    "X.iloc[1].values.shape"
   ]
  },
  {
   "cell_type": "code",
   "execution_count": 119,
   "metadata": {
    "id": "mHWStJjizcMG"
   },
   "outputs": [],
   "source": [
    "arr= pd.DataFrame(X.iloc[1]).T"
   ]
  },
  {
   "cell_type": "code",
   "execution_count": 120,
   "metadata": {
    "colab": {
     "base_uri": "https://localhost:8080/"
    },
    "id": "v2-Lzm6GzcMG",
    "outputId": "8dce87f9-cdce-4ca8-c7a6-9ddbc5856a21"
   },
   "outputs": [
    {
     "data": {
      "text/plain": [
       "(1, 19)"
      ]
     },
     "execution_count": 120,
     "metadata": {},
     "output_type": "execute_result"
    }
   ],
   "source": [
    "arr.shape"
   ]
  },
  {
   "cell_type": "code",
   "execution_count": 121,
   "metadata": {
    "id": "KTL-4AIrzcMH"
   },
   "outputs": [],
   "source": [
    "arrpred= xgb1.predict(arr)"
   ]
  },
  {
   "cell_type": "code",
   "execution_count": 122,
   "metadata": {
    "colab": {
     "base_uri": "https://localhost:8080/"
    },
    "id": "OUFqwOMGzcMH",
    "outputId": "e833978b-916a-4e47-b515-8e7945c5aff4"
   },
   "outputs": [
    {
     "data": {
      "text/plain": [
       "array([29694.037], dtype=float32)"
      ]
     },
     "execution_count": 122,
     "metadata": {},
     "output_type": "execute_result"
    }
   ],
   "source": [
    "arrpred"
   ]
  },
  {
   "cell_type": "markdown",
   "metadata": {
    "id": "okeOC8BnzcMH"
   },
   "source": [
    "#Prediciction"
   ]
  },
  {
   "cell_type": "code",
   "execution_count": 125,
   "metadata": {
    "colab": {
     "base_uri": "https://localhost:8080/"
    },
    "id": "u0hdPtxtzcMH",
    "outputId": "f50c1e54-668a-4199-c812-a1865306bc9d"
   },
   "outputs": [
    {
     "name": "stdout",
     "output_type": "stream",
     "text": [
      "Enter the deposit:10000\n",
      "Enter the size:100\n",
      "Enter the BHK <=4:2\n"
     ]
    }
   ],
   "source": [
    "des = int(input(\"Enter the deposit:\"))\n",
    "size= int(input(\"Enter the size:\"))\n",
    "bed=int(input(\"Enter the BHK <=4:\"))"
   ]
  },
  {
   "cell_type": "code",
   "execution_count": 126,
   "metadata": {
    "id": "c_725cWnxh7d"
   },
   "outputs": [],
   "source": [
    "def let_user_pick(options):\n",
    "    print(\"Please choose:\")\n",
    "    for idx, element in enumerate(options):\n",
    "        print(\"{}) {}\".format(idx + 1, element))\n",
    "    i = input(\"Enter number: \")\n",
    "    try:\n",
    "        if 0 < int(i) <= len(options):\n",
    "            return int(i) - 1\n",
    "    except:\n",
    "        pass\n",
    "    return None"
   ]
  },
  {
   "cell_type": "code",
   "execution_count": 127,
   "metadata": {
    "colab": {
     "base_uri": "https://localhost:8080/"
    },
    "id": "EtR9aL33zcMI",
    "outputId": "bac7d348-7839-4426-ad87-f20ae7244c53"
   },
   "outputs": [
    {
     "name": "stdout",
     "output_type": "stream",
     "text": [
      "Please choose:\n",
      "1) Full Furnished\n",
      "2) Semi Furnished\n",
      "3) UnFurnished\n",
      "Enter number: 2\n"
     ]
    }
   ],
   "source": [
    "options = [\"Full Furnished\", \"Semi Furnished\", \"UnFurnished\"]\n",
    "res = let_user_pick(options)\n",
    "furn = options[res]"
   ]
  },
  {
   "cell_type": "code",
   "execution_count": 128,
   "metadata": {
    "colab": {
     "base_uri": "https://localhost:8080/"
    },
    "id": "kGXh_IBRzcMI",
    "outputId": "ae0a3227-8cc9-4c3b-d1ff-6eedaced1332"
   },
   "outputs": [
    {
     "name": "stdout",
     "output_type": "stream",
     "text": [
      "Please choose:\n",
      "1) >10 years\n",
      "2) Newly Constructed\n",
      "3) 3-5 years\n",
      "4) 1-3 years\n",
      "5) 5-10 years\n",
      "Enter number: 2\n"
     ]
    }
   ],
   "source": [
    "options = [\">10 years\", \"Newly Constructed\", \"3-5 years\",\"1-3 years\",\"5-10 years\"]\n",
    "res = let_user_pick(options)\n",
    "years = options[res]"
   ]
  },
  {
   "cell_type": "code",
   "execution_count": 129,
   "metadata": {
    "colab": {
     "base_uri": "https://localhost:8080/"
    },
    "id": "HyF2nR_HzcMJ",
    "outputId": "a17079cc-989d-47cc-9d1e-a0c899566039"
   },
   "outputs": [
    {
     "name": "stdout",
     "output_type": "stream",
     "text": [
      "Please choose:\n",
      "1) Family\n",
      "2) All\n",
      "3) 3-5 years\n",
      "4) Company\n",
      "5) Bachelors\n",
      "Enter number: 2\n"
     ]
    }
   ],
   "source": [
    "options = [\"Family\", \"All\", \"3-5 years\",\"Company\",\"Bachelors\"]\n",
    "res = let_user_pick(options)\n",
    "af = options[res]"
   ]
  },
  {
   "cell_type": "code",
   "execution_count": 130,
   "metadata": {
    "id": "vUKyUx1JzcMJ"
   },
   "outputs": [],
   "source": [
    "ls=[\"\",\"\",des,size,furn,]"
   ]
  },
  {
   "cell_type": "code",
   "execution_count": 131,
   "metadata": {
    "id": "vrESDasWzcMJ"
   },
   "outputs": [],
   "source": [
    "df2=df.copy()"
   ]
  },
  {
   "cell_type": "code",
   "execution_count": 132,
   "metadata": {
    "id": "kzJsLSmzzcMJ"
   },
   "outputs": [],
   "source": [
    "df2 = df2.drop(columns=[\"Rent(Rs)\"])"
   ]
  },
  {
   "cell_type": "code",
   "execution_count": 133,
   "metadata": {
    "colab": {
     "base_uri": "https://localhost:8080/",
     "height": 658
    },
    "id": "QnOJf7LczcMJ",
    "outputId": "5f235bad-f1ba-489d-edbd-5c66473be9fc"
   },
   "outputs": [
    {
     "data": {
      "text/html": [
       "\n",
       "  <div id=\"df-b1808dc3-7e52-4f4b-998f-a040fdb35ce0\">\n",
       "    <div class=\"colab-df-container\">\n",
       "      <div>\n",
       "<style scoped>\n",
       "    .dataframe tbody tr th:only-of-type {\n",
       "        vertical-align: middle;\n",
       "    }\n",
       "\n",
       "    .dataframe tbody tr th {\n",
       "        vertical-align: top;\n",
       "    }\n",
       "\n",
       "    .dataframe thead th {\n",
       "        text-align: right;\n",
       "    }\n",
       "</style>\n",
       "<table border=\"1\" class=\"dataframe\">\n",
       "  <thead>\n",
       "    <tr style=\"text-align: right;\">\n",
       "      <th></th>\n",
       "      <th>Title</th>\n",
       "      <th>Address</th>\n",
       "      <th>Deposit(Rs)</th>\n",
       "      <th>Size(Acres)</th>\n",
       "      <th>Furnishing</th>\n",
       "      <th>Property age</th>\n",
       "      <th>Available for</th>\n",
       "      <th>bhk</th>\n",
       "    </tr>\n",
       "  </thead>\n",
       "  <tbody>\n",
       "    <tr>\n",
       "      <th>0</th>\n",
       "      <td>2 BHK in Adhisri Apartments, Nungambakkam</td>\n",
       "      <td>Loyola College, Nelson Manickam Road, Nungamba...</td>\n",
       "      <td>250000</td>\n",
       "      <td>1200</td>\n",
       "      <td>Semi Furnished</td>\n",
       "      <td>&gt;10 years</td>\n",
       "      <td>All</td>\n",
       "      <td>2</td>\n",
       "    </tr>\n",
       "    <tr>\n",
       "      <th>1</th>\n",
       "      <td>3 BHK in Appaswamy Platina, Porur</td>\n",
       "      <td>Appaswamy Platina, Porur, Chennai</td>\n",
       "      <td>200000</td>\n",
       "      <td>1708</td>\n",
       "      <td>Semi Furnished</td>\n",
       "      <td>Newly Constructed</td>\n",
       "      <td>Family</td>\n",
       "      <td>3</td>\n",
       "    </tr>\n",
       "    <tr>\n",
       "      <th>2</th>\n",
       "      <td>3 BHK in Sham SGS Apartment, Vaanagaram</td>\n",
       "      <td>No, 04, Rajan Kuppam Road, Gangai Amman Koil S...</td>\n",
       "      <td>150000</td>\n",
       "      <td>1350</td>\n",
       "      <td>Semi Furnished</td>\n",
       "      <td>Newly Constructed</td>\n",
       "      <td>All</td>\n",
       "      <td>3</td>\n",
       "    </tr>\n",
       "    <tr>\n",
       "      <th>3</th>\n",
       "      <td>3 BHK in Siri, Perungudi</td>\n",
       "      <td>Omr Road, Kottivakkam, Near Indian Oil Petrol ...</td>\n",
       "      <td>100000</td>\n",
       "      <td>1600</td>\n",
       "      <td>Semi Furnished</td>\n",
       "      <td>3-5 years</td>\n",
       "      <td>Family</td>\n",
       "      <td>3</td>\n",
       "    </tr>\n",
       "    <tr>\n",
       "      <th>4</th>\n",
       "      <td>2 BHK in Parijatham illam, West Mambalam</td>\n",
       "      <td>Ramakrishnapuram Near B K Sweets ( Lakshmi Vil...</td>\n",
       "      <td>96000</td>\n",
       "      <td>700</td>\n",
       "      <td>Semi Furnished</td>\n",
       "      <td>&gt;10 years</td>\n",
       "      <td>Family</td>\n",
       "      <td>2</td>\n",
       "    </tr>\n",
       "    <tr>\n",
       "      <th>...</th>\n",
       "      <td>...</td>\n",
       "      <td>...</td>\n",
       "      <td>...</td>\n",
       "      <td>...</td>\n",
       "      <td>...</td>\n",
       "      <td>...</td>\n",
       "      <td>...</td>\n",
       "      <td>...</td>\n",
       "    </tr>\n",
       "    <tr>\n",
       "      <th>993</th>\n",
       "      <td>2 BHK in standalone bulding, Vyasarpadi</td>\n",
       "      <td>Rathinam Street Nagammai Nagar, Near Hyderabad...</td>\n",
       "      <td>51000</td>\n",
       "      <td>700</td>\n",
       "      <td>Semi Furnished</td>\n",
       "      <td>5-10 years</td>\n",
       "      <td>Family</td>\n",
       "      <td>2</td>\n",
       "    </tr>\n",
       "    <tr>\n",
       "      <th>994</th>\n",
       "      <td>3 BHK in Not Disclosed, Chromepet</td>\n",
       "      <td>Hastinapuram ,balaji Nagar, South Street Near ...</td>\n",
       "      <td>50000</td>\n",
       "      <td>1100</td>\n",
       "      <td>Semi Furnished</td>\n",
       "      <td>5-10 years</td>\n",
       "      <td>Family</td>\n",
       "      <td>3</td>\n",
       "    </tr>\n",
       "    <tr>\n",
       "      <th>995</th>\n",
       "      <td>2 BHK in Maha Flats, Velachery</td>\n",
       "      <td>Bhuvaneshwari Nagar, Velachery, Chennai, Tamil...</td>\n",
       "      <td>100000</td>\n",
       "      <td>810</td>\n",
       "      <td>Semi Furnished</td>\n",
       "      <td>&gt;10 years</td>\n",
       "      <td>All</td>\n",
       "      <td>2</td>\n",
       "    </tr>\n",
       "    <tr>\n",
       "      <th>996</th>\n",
       "      <td>3 BHK in Medavakkam</td>\n",
       "      <td>Independent House, Green Court,near Jeyachandr...</td>\n",
       "      <td>45000</td>\n",
       "      <td>1500</td>\n",
       "      <td>UnFurnished</td>\n",
       "      <td>&gt;10 years</td>\n",
       "      <td>Family</td>\n",
       "      <td>3</td>\n",
       "    </tr>\n",
       "    <tr>\n",
       "      <th>997</th>\n",
       "      <td>2 BHK in Ashok Nagar</td>\n",
       "      <td>Standalone Building, Ashok Pillar, Indira Colo...</td>\n",
       "      <td>100000</td>\n",
       "      <td>900</td>\n",
       "      <td>UnFurnished</td>\n",
       "      <td>&gt;10 years</td>\n",
       "      <td>All</td>\n",
       "      <td>2</td>\n",
       "    </tr>\n",
       "  </tbody>\n",
       "</table>\n",
       "<p>969 rows × 8 columns</p>\n",
       "</div>\n",
       "      <button class=\"colab-df-convert\" onclick=\"convertToInteractive('df-b1808dc3-7e52-4f4b-998f-a040fdb35ce0')\"\n",
       "              title=\"Convert this dataframe to an interactive table.\"\n",
       "              style=\"display:none;\">\n",
       "        \n",
       "  <svg xmlns=\"http://www.w3.org/2000/svg\" height=\"24px\"viewBox=\"0 0 24 24\"\n",
       "       width=\"24px\">\n",
       "    <path d=\"M0 0h24v24H0V0z\" fill=\"none\"/>\n",
       "    <path d=\"M18.56 5.44l.94 2.06.94-2.06 2.06-.94-2.06-.94-.94-2.06-.94 2.06-2.06.94zm-11 1L8.5 8.5l.94-2.06 2.06-.94-2.06-.94L8.5 2.5l-.94 2.06-2.06.94zm10 10l.94 2.06.94-2.06 2.06-.94-2.06-.94-.94-2.06-.94 2.06-2.06.94z\"/><path d=\"M17.41 7.96l-1.37-1.37c-.4-.4-.92-.59-1.43-.59-.52 0-1.04.2-1.43.59L10.3 9.45l-7.72 7.72c-.78.78-.78 2.05 0 2.83L4 21.41c.39.39.9.59 1.41.59.51 0 1.02-.2 1.41-.59l7.78-7.78 2.81-2.81c.8-.78.8-2.07 0-2.86zM5.41 20L4 18.59l7.72-7.72 1.47 1.35L5.41 20z\"/>\n",
       "  </svg>\n",
       "      </button>\n",
       "      \n",
       "  <style>\n",
       "    .colab-df-container {\n",
       "      display:flex;\n",
       "      flex-wrap:wrap;\n",
       "      gap: 12px;\n",
       "    }\n",
       "\n",
       "    .colab-df-convert {\n",
       "      background-color: #E8F0FE;\n",
       "      border: none;\n",
       "      border-radius: 50%;\n",
       "      cursor: pointer;\n",
       "      display: none;\n",
       "      fill: #1967D2;\n",
       "      height: 32px;\n",
       "      padding: 0 0 0 0;\n",
       "      width: 32px;\n",
       "    }\n",
       "\n",
       "    .colab-df-convert:hover {\n",
       "      background-color: #E2EBFA;\n",
       "      box-shadow: 0px 1px 2px rgba(60, 64, 67, 0.3), 0px 1px 3px 1px rgba(60, 64, 67, 0.15);\n",
       "      fill: #174EA6;\n",
       "    }\n",
       "\n",
       "    [theme=dark] .colab-df-convert {\n",
       "      background-color: #3B4455;\n",
       "      fill: #D2E3FC;\n",
       "    }\n",
       "\n",
       "    [theme=dark] .colab-df-convert:hover {\n",
       "      background-color: #434B5C;\n",
       "      box-shadow: 0px 1px 3px 1px rgba(0, 0, 0, 0.15);\n",
       "      filter: drop-shadow(0px 1px 2px rgba(0, 0, 0, 0.3));\n",
       "      fill: #FFFFFF;\n",
       "    }\n",
       "  </style>\n",
       "\n",
       "      <script>\n",
       "        const buttonEl =\n",
       "          document.querySelector('#df-b1808dc3-7e52-4f4b-998f-a040fdb35ce0 button.colab-df-convert');\n",
       "        buttonEl.style.display =\n",
       "          google.colab.kernel.accessAllowed ? 'block' : 'none';\n",
       "\n",
       "        async function convertToInteractive(key) {\n",
       "          const element = document.querySelector('#df-b1808dc3-7e52-4f4b-998f-a040fdb35ce0');\n",
       "          const dataTable =\n",
       "            await google.colab.kernel.invokeFunction('convertToInteractive',\n",
       "                                                     [key], {});\n",
       "          if (!dataTable) return;\n",
       "\n",
       "          const docLinkHtml = 'Like what you see? Visit the ' +\n",
       "            '<a target=\"_blank\" href=https://colab.research.google.com/notebooks/data_table.ipynb>data table notebook</a>'\n",
       "            + ' to learn more about interactive tables.';\n",
       "          element.innerHTML = '';\n",
       "          dataTable['output_type'] = 'display_data';\n",
       "          await google.colab.output.renderOutput(dataTable, element);\n",
       "          const docLink = document.createElement('div');\n",
       "          docLink.innerHTML = docLinkHtml;\n",
       "          element.appendChild(docLink);\n",
       "        }\n",
       "      </script>\n",
       "    </div>\n",
       "  </div>\n",
       "  "
      ],
      "text/plain": [
       "                                         Title  \\\n",
       "0    2 BHK in Adhisri Apartments, Nungambakkam   \n",
       "1            3 BHK in Appaswamy Platina, Porur   \n",
       "2      3 BHK in Sham SGS Apartment, Vaanagaram   \n",
       "3                     3 BHK in Siri, Perungudi   \n",
       "4     2 BHK in Parijatham illam, West Mambalam   \n",
       "..                                         ...   \n",
       "993    2 BHK in standalone bulding, Vyasarpadi   \n",
       "994          3 BHK in Not Disclosed, Chromepet   \n",
       "995             2 BHK in Maha Flats, Velachery   \n",
       "996                        3 BHK in Medavakkam   \n",
       "997                       2 BHK in Ashok Nagar   \n",
       "\n",
       "                                               Address  Deposit(Rs)  \\\n",
       "0    Loyola College, Nelson Manickam Road, Nungamba...       250000   \n",
       "1                    Appaswamy Platina, Porur, Chennai       200000   \n",
       "2    No, 04, Rajan Kuppam Road, Gangai Amman Koil S...       150000   \n",
       "3    Omr Road, Kottivakkam, Near Indian Oil Petrol ...       100000   \n",
       "4    Ramakrishnapuram Near B K Sweets ( Lakshmi Vil...        96000   \n",
       "..                                                 ...          ...   \n",
       "993  Rathinam Street Nagammai Nagar, Near Hyderabad...        51000   \n",
       "994  Hastinapuram ,balaji Nagar, South Street Near ...        50000   \n",
       "995  Bhuvaneshwari Nagar, Velachery, Chennai, Tamil...       100000   \n",
       "996  Independent House, Green Court,near Jeyachandr...        45000   \n",
       "997  Standalone Building, Ashok Pillar, Indira Colo...       100000   \n",
       "\n",
       "     Size(Acres)      Furnishing       Property age Available for  bhk  \n",
       "0           1200  Semi Furnished         >10 years            All    2  \n",
       "1           1708  Semi Furnished  Newly Constructed        Family    3  \n",
       "2           1350  Semi Furnished  Newly Constructed           All    3  \n",
       "3           1600  Semi Furnished         3-5 years         Family    3  \n",
       "4            700  Semi Furnished         >10 years         Family    2  \n",
       "..           ...             ...                ...           ...  ...  \n",
       "993          700  Semi Furnished        5-10 years         Family    2  \n",
       "994         1100  Semi Furnished        5-10 years         Family    3  \n",
       "995          810  Semi Furnished         >10 years            All    2  \n",
       "996         1500     UnFurnished         >10 years         Family    3  \n",
       "997          900     UnFurnished         >10 years            All    2  \n",
       "\n",
       "[969 rows x 8 columns]"
      ]
     },
     "execution_count": 133,
     "metadata": {},
     "output_type": "execute_result"
    }
   ],
   "source": [
    "df2"
   ]
  },
  {
   "cell_type": "code",
   "execution_count": 134,
   "metadata": {
    "id": "OkRGAKmIzcMJ"
   },
   "outputs": [],
   "source": [
    "ls=[\"\",\"\",des,size,furn,years,af,bed]"
   ]
  },
  {
   "cell_type": "code",
   "execution_count": 135,
   "metadata": {
    "id": "d3pCCy8gzcMK"
   },
   "outputs": [],
   "source": [
    "df2.iloc[0]=ls"
   ]
  },
  {
   "cell_type": "code",
   "execution_count": 136,
   "metadata": {
    "colab": {
     "base_uri": "https://localhost:8080/",
     "height": 658
    },
    "id": "LzbwHwuVzcMK",
    "outputId": "15bbb4e2-e4ec-4485-8f10-d0434f4c31ae"
   },
   "outputs": [
    {
     "data": {
      "text/html": [
       "\n",
       "  <div id=\"df-a5c69460-5e2c-46c5-b2b3-e791798e8e6f\">\n",
       "    <div class=\"colab-df-container\">\n",
       "      <div>\n",
       "<style scoped>\n",
       "    .dataframe tbody tr th:only-of-type {\n",
       "        vertical-align: middle;\n",
       "    }\n",
       "\n",
       "    .dataframe tbody tr th {\n",
       "        vertical-align: top;\n",
       "    }\n",
       "\n",
       "    .dataframe thead th {\n",
       "        text-align: right;\n",
       "    }\n",
       "</style>\n",
       "<table border=\"1\" class=\"dataframe\">\n",
       "  <thead>\n",
       "    <tr style=\"text-align: right;\">\n",
       "      <th></th>\n",
       "      <th>Title</th>\n",
       "      <th>Address</th>\n",
       "      <th>Deposit(Rs)</th>\n",
       "      <th>Size(Acres)</th>\n",
       "      <th>Furnishing</th>\n",
       "      <th>Property age</th>\n",
       "      <th>Available for</th>\n",
       "      <th>bhk</th>\n",
       "    </tr>\n",
       "  </thead>\n",
       "  <tbody>\n",
       "    <tr>\n",
       "      <th>0</th>\n",
       "      <td></td>\n",
       "      <td></td>\n",
       "      <td>10000</td>\n",
       "      <td>100</td>\n",
       "      <td>Semi Furnished</td>\n",
       "      <td>Newly Constructed</td>\n",
       "      <td>All</td>\n",
       "      <td>2</td>\n",
       "    </tr>\n",
       "    <tr>\n",
       "      <th>1</th>\n",
       "      <td>3 BHK in Appaswamy Platina, Porur</td>\n",
       "      <td>Appaswamy Platina, Porur, Chennai</td>\n",
       "      <td>200000</td>\n",
       "      <td>1708</td>\n",
       "      <td>Semi Furnished</td>\n",
       "      <td>Newly Constructed</td>\n",
       "      <td>Family</td>\n",
       "      <td>3</td>\n",
       "    </tr>\n",
       "    <tr>\n",
       "      <th>2</th>\n",
       "      <td>3 BHK in Sham SGS Apartment, Vaanagaram</td>\n",
       "      <td>No, 04, Rajan Kuppam Road, Gangai Amman Koil S...</td>\n",
       "      <td>150000</td>\n",
       "      <td>1350</td>\n",
       "      <td>Semi Furnished</td>\n",
       "      <td>Newly Constructed</td>\n",
       "      <td>All</td>\n",
       "      <td>3</td>\n",
       "    </tr>\n",
       "    <tr>\n",
       "      <th>3</th>\n",
       "      <td>3 BHK in Siri, Perungudi</td>\n",
       "      <td>Omr Road, Kottivakkam, Near Indian Oil Petrol ...</td>\n",
       "      <td>100000</td>\n",
       "      <td>1600</td>\n",
       "      <td>Semi Furnished</td>\n",
       "      <td>3-5 years</td>\n",
       "      <td>Family</td>\n",
       "      <td>3</td>\n",
       "    </tr>\n",
       "    <tr>\n",
       "      <th>4</th>\n",
       "      <td>2 BHK in Parijatham illam, West Mambalam</td>\n",
       "      <td>Ramakrishnapuram Near B K Sweets ( Lakshmi Vil...</td>\n",
       "      <td>96000</td>\n",
       "      <td>700</td>\n",
       "      <td>Semi Furnished</td>\n",
       "      <td>&gt;10 years</td>\n",
       "      <td>Family</td>\n",
       "      <td>2</td>\n",
       "    </tr>\n",
       "    <tr>\n",
       "      <th>...</th>\n",
       "      <td>...</td>\n",
       "      <td>...</td>\n",
       "      <td>...</td>\n",
       "      <td>...</td>\n",
       "      <td>...</td>\n",
       "      <td>...</td>\n",
       "      <td>...</td>\n",
       "      <td>...</td>\n",
       "    </tr>\n",
       "    <tr>\n",
       "      <th>993</th>\n",
       "      <td>2 BHK in standalone bulding, Vyasarpadi</td>\n",
       "      <td>Rathinam Street Nagammai Nagar, Near Hyderabad...</td>\n",
       "      <td>51000</td>\n",
       "      <td>700</td>\n",
       "      <td>Semi Furnished</td>\n",
       "      <td>5-10 years</td>\n",
       "      <td>Family</td>\n",
       "      <td>2</td>\n",
       "    </tr>\n",
       "    <tr>\n",
       "      <th>994</th>\n",
       "      <td>3 BHK in Not Disclosed, Chromepet</td>\n",
       "      <td>Hastinapuram ,balaji Nagar, South Street Near ...</td>\n",
       "      <td>50000</td>\n",
       "      <td>1100</td>\n",
       "      <td>Semi Furnished</td>\n",
       "      <td>5-10 years</td>\n",
       "      <td>Family</td>\n",
       "      <td>3</td>\n",
       "    </tr>\n",
       "    <tr>\n",
       "      <th>995</th>\n",
       "      <td>2 BHK in Maha Flats, Velachery</td>\n",
       "      <td>Bhuvaneshwari Nagar, Velachery, Chennai, Tamil...</td>\n",
       "      <td>100000</td>\n",
       "      <td>810</td>\n",
       "      <td>Semi Furnished</td>\n",
       "      <td>&gt;10 years</td>\n",
       "      <td>All</td>\n",
       "      <td>2</td>\n",
       "    </tr>\n",
       "    <tr>\n",
       "      <th>996</th>\n",
       "      <td>3 BHK in Medavakkam</td>\n",
       "      <td>Independent House, Green Court,near Jeyachandr...</td>\n",
       "      <td>45000</td>\n",
       "      <td>1500</td>\n",
       "      <td>UnFurnished</td>\n",
       "      <td>&gt;10 years</td>\n",
       "      <td>Family</td>\n",
       "      <td>3</td>\n",
       "    </tr>\n",
       "    <tr>\n",
       "      <th>997</th>\n",
       "      <td>2 BHK in Ashok Nagar</td>\n",
       "      <td>Standalone Building, Ashok Pillar, Indira Colo...</td>\n",
       "      <td>100000</td>\n",
       "      <td>900</td>\n",
       "      <td>UnFurnished</td>\n",
       "      <td>&gt;10 years</td>\n",
       "      <td>All</td>\n",
       "      <td>2</td>\n",
       "    </tr>\n",
       "  </tbody>\n",
       "</table>\n",
       "<p>969 rows × 8 columns</p>\n",
       "</div>\n",
       "      <button class=\"colab-df-convert\" onclick=\"convertToInteractive('df-a5c69460-5e2c-46c5-b2b3-e791798e8e6f')\"\n",
       "              title=\"Convert this dataframe to an interactive table.\"\n",
       "              style=\"display:none;\">\n",
       "        \n",
       "  <svg xmlns=\"http://www.w3.org/2000/svg\" height=\"24px\"viewBox=\"0 0 24 24\"\n",
       "       width=\"24px\">\n",
       "    <path d=\"M0 0h24v24H0V0z\" fill=\"none\"/>\n",
       "    <path d=\"M18.56 5.44l.94 2.06.94-2.06 2.06-.94-2.06-.94-.94-2.06-.94 2.06-2.06.94zm-11 1L8.5 8.5l.94-2.06 2.06-.94-2.06-.94L8.5 2.5l-.94 2.06-2.06.94zm10 10l.94 2.06.94-2.06 2.06-.94-2.06-.94-.94-2.06-.94 2.06-2.06.94z\"/><path d=\"M17.41 7.96l-1.37-1.37c-.4-.4-.92-.59-1.43-.59-.52 0-1.04.2-1.43.59L10.3 9.45l-7.72 7.72c-.78.78-.78 2.05 0 2.83L4 21.41c.39.39.9.59 1.41.59.51 0 1.02-.2 1.41-.59l7.78-7.78 2.81-2.81c.8-.78.8-2.07 0-2.86zM5.41 20L4 18.59l7.72-7.72 1.47 1.35L5.41 20z\"/>\n",
       "  </svg>\n",
       "      </button>\n",
       "      \n",
       "  <style>\n",
       "    .colab-df-container {\n",
       "      display:flex;\n",
       "      flex-wrap:wrap;\n",
       "      gap: 12px;\n",
       "    }\n",
       "\n",
       "    .colab-df-convert {\n",
       "      background-color: #E8F0FE;\n",
       "      border: none;\n",
       "      border-radius: 50%;\n",
       "      cursor: pointer;\n",
       "      display: none;\n",
       "      fill: #1967D2;\n",
       "      height: 32px;\n",
       "      padding: 0 0 0 0;\n",
       "      width: 32px;\n",
       "    }\n",
       "\n",
       "    .colab-df-convert:hover {\n",
       "      background-color: #E2EBFA;\n",
       "      box-shadow: 0px 1px 2px rgba(60, 64, 67, 0.3), 0px 1px 3px 1px rgba(60, 64, 67, 0.15);\n",
       "      fill: #174EA6;\n",
       "    }\n",
       "\n",
       "    [theme=dark] .colab-df-convert {\n",
       "      background-color: #3B4455;\n",
       "      fill: #D2E3FC;\n",
       "    }\n",
       "\n",
       "    [theme=dark] .colab-df-convert:hover {\n",
       "      background-color: #434B5C;\n",
       "      box-shadow: 0px 1px 3px 1px rgba(0, 0, 0, 0.15);\n",
       "      filter: drop-shadow(0px 1px 2px rgba(0, 0, 0, 0.3));\n",
       "      fill: #FFFFFF;\n",
       "    }\n",
       "  </style>\n",
       "\n",
       "      <script>\n",
       "        const buttonEl =\n",
       "          document.querySelector('#df-a5c69460-5e2c-46c5-b2b3-e791798e8e6f button.colab-df-convert');\n",
       "        buttonEl.style.display =\n",
       "          google.colab.kernel.accessAllowed ? 'block' : 'none';\n",
       "\n",
       "        async function convertToInteractive(key) {\n",
       "          const element = document.querySelector('#df-a5c69460-5e2c-46c5-b2b3-e791798e8e6f');\n",
       "          const dataTable =\n",
       "            await google.colab.kernel.invokeFunction('convertToInteractive',\n",
       "                                                     [key], {});\n",
       "          if (!dataTable) return;\n",
       "\n",
       "          const docLinkHtml = 'Like what you see? Visit the ' +\n",
       "            '<a target=\"_blank\" href=https://colab.research.google.com/notebooks/data_table.ipynb>data table notebook</a>'\n",
       "            + ' to learn more about interactive tables.';\n",
       "          element.innerHTML = '';\n",
       "          dataTable['output_type'] = 'display_data';\n",
       "          await google.colab.output.renderOutput(dataTable, element);\n",
       "          const docLink = document.createElement('div');\n",
       "          docLink.innerHTML = docLinkHtml;\n",
       "          element.appendChild(docLink);\n",
       "        }\n",
       "      </script>\n",
       "    </div>\n",
       "  </div>\n",
       "  "
      ],
      "text/plain": [
       "                                        Title  \\\n",
       "0                                               \n",
       "1           3 BHK in Appaswamy Platina, Porur   \n",
       "2     3 BHK in Sham SGS Apartment, Vaanagaram   \n",
       "3                    3 BHK in Siri, Perungudi   \n",
       "4    2 BHK in Parijatham illam, West Mambalam   \n",
       "..                                        ...   \n",
       "993   2 BHK in standalone bulding, Vyasarpadi   \n",
       "994         3 BHK in Not Disclosed, Chromepet   \n",
       "995            2 BHK in Maha Flats, Velachery   \n",
       "996                       3 BHK in Medavakkam   \n",
       "997                      2 BHK in Ashok Nagar   \n",
       "\n",
       "                                               Address  Deposit(Rs)  \\\n",
       "0                                                             10000   \n",
       "1                    Appaswamy Platina, Porur, Chennai       200000   \n",
       "2    No, 04, Rajan Kuppam Road, Gangai Amman Koil S...       150000   \n",
       "3    Omr Road, Kottivakkam, Near Indian Oil Petrol ...       100000   \n",
       "4    Ramakrishnapuram Near B K Sweets ( Lakshmi Vil...        96000   \n",
       "..                                                 ...          ...   \n",
       "993  Rathinam Street Nagammai Nagar, Near Hyderabad...        51000   \n",
       "994  Hastinapuram ,balaji Nagar, South Street Near ...        50000   \n",
       "995  Bhuvaneshwari Nagar, Velachery, Chennai, Tamil...       100000   \n",
       "996  Independent House, Green Court,near Jeyachandr...        45000   \n",
       "997  Standalone Building, Ashok Pillar, Indira Colo...       100000   \n",
       "\n",
       "     Size(Acres)      Furnishing       Property age Available for  bhk  \n",
       "0            100  Semi Furnished  Newly Constructed           All    2  \n",
       "1           1708  Semi Furnished  Newly Constructed        Family    3  \n",
       "2           1350  Semi Furnished  Newly Constructed           All    3  \n",
       "3           1600  Semi Furnished         3-5 years         Family    3  \n",
       "4            700  Semi Furnished         >10 years         Family    2  \n",
       "..           ...             ...                ...           ...  ...  \n",
       "993          700  Semi Furnished        5-10 years         Family    2  \n",
       "994         1100  Semi Furnished        5-10 years         Family    3  \n",
       "995          810  Semi Furnished         >10 years            All    2  \n",
       "996         1500     UnFurnished         >10 years         Family    3  \n",
       "997          900     UnFurnished         >10 years            All    2  \n",
       "\n",
       "[969 rows x 8 columns]"
      ]
     },
     "execution_count": 136,
     "metadata": {},
     "output_type": "execute_result"
    }
   ],
   "source": [
    "df2"
   ]
  },
  {
   "cell_type": "code",
   "execution_count": 137,
   "metadata": {
    "id": "hwe7YQv2zcMK"
   },
   "outputs": [],
   "source": [
    "dfn=pd.get_dummies(df2, prefix=['Furnishing', 'Property age','Available for','bhk'], columns=['Furnishing', 'Property age','Available for','bhk'])"
   ]
  },
  {
   "cell_type": "code",
   "execution_count": 138,
   "metadata": {
    "colab": {
     "base_uri": "https://localhost:8080/",
     "height": 939
    },
    "id": "wXK1iOYUzcMK",
    "outputId": "874b6c05-82ab-4e17-84a9-b76fa5cb6d1a"
   },
   "outputs": [
    {
     "data": {
      "text/html": [
       "\n",
       "  <div id=\"df-1bfb5bbe-c380-4082-b1a1-8365fddf187b\">\n",
       "    <div class=\"colab-df-container\">\n",
       "      <div>\n",
       "<style scoped>\n",
       "    .dataframe tbody tr th:only-of-type {\n",
       "        vertical-align: middle;\n",
       "    }\n",
       "\n",
       "    .dataframe tbody tr th {\n",
       "        vertical-align: top;\n",
       "    }\n",
       "\n",
       "    .dataframe thead th {\n",
       "        text-align: right;\n",
       "    }\n",
       "</style>\n",
       "<table border=\"1\" class=\"dataframe\">\n",
       "  <thead>\n",
       "    <tr style=\"text-align: right;\">\n",
       "      <th></th>\n",
       "      <th>Title</th>\n",
       "      <th>Address</th>\n",
       "      <th>Deposit(Rs)</th>\n",
       "      <th>Size(Acres)</th>\n",
       "      <th>Furnishing_Full Furnished</th>\n",
       "      <th>Furnishing_Semi Furnished</th>\n",
       "      <th>Furnishing_UnFurnished</th>\n",
       "      <th>Property age_1-3 years</th>\n",
       "      <th>Property age_3-5 years</th>\n",
       "      <th>Property age_5-10 years</th>\n",
       "      <th>...</th>\n",
       "      <th>Property age_Newly Constructed</th>\n",
       "      <th>Property age_Under Construction</th>\n",
       "      <th>Available for_All</th>\n",
       "      <th>Available for_Bachelors</th>\n",
       "      <th>Available for_Company</th>\n",
       "      <th>Available for_Family</th>\n",
       "      <th>bhk_1</th>\n",
       "      <th>bhk_2</th>\n",
       "      <th>bhk_3</th>\n",
       "      <th>bhk_4</th>\n",
       "    </tr>\n",
       "  </thead>\n",
       "  <tbody>\n",
       "    <tr>\n",
       "      <th>0</th>\n",
       "      <td></td>\n",
       "      <td></td>\n",
       "      <td>10000</td>\n",
       "      <td>100</td>\n",
       "      <td>0</td>\n",
       "      <td>1</td>\n",
       "      <td>0</td>\n",
       "      <td>0</td>\n",
       "      <td>0</td>\n",
       "      <td>0</td>\n",
       "      <td>...</td>\n",
       "      <td>1</td>\n",
       "      <td>0</td>\n",
       "      <td>1</td>\n",
       "      <td>0</td>\n",
       "      <td>0</td>\n",
       "      <td>0</td>\n",
       "      <td>0</td>\n",
       "      <td>1</td>\n",
       "      <td>0</td>\n",
       "      <td>0</td>\n",
       "    </tr>\n",
       "    <tr>\n",
       "      <th>1</th>\n",
       "      <td>3 BHK in Appaswamy Platina, Porur</td>\n",
       "      <td>Appaswamy Platina, Porur, Chennai</td>\n",
       "      <td>200000</td>\n",
       "      <td>1708</td>\n",
       "      <td>0</td>\n",
       "      <td>1</td>\n",
       "      <td>0</td>\n",
       "      <td>0</td>\n",
       "      <td>0</td>\n",
       "      <td>0</td>\n",
       "      <td>...</td>\n",
       "      <td>1</td>\n",
       "      <td>0</td>\n",
       "      <td>0</td>\n",
       "      <td>0</td>\n",
       "      <td>0</td>\n",
       "      <td>1</td>\n",
       "      <td>0</td>\n",
       "      <td>0</td>\n",
       "      <td>1</td>\n",
       "      <td>0</td>\n",
       "    </tr>\n",
       "    <tr>\n",
       "      <th>2</th>\n",
       "      <td>3 BHK in Sham SGS Apartment, Vaanagaram</td>\n",
       "      <td>No, 04, Rajan Kuppam Road, Gangai Amman Koil S...</td>\n",
       "      <td>150000</td>\n",
       "      <td>1350</td>\n",
       "      <td>0</td>\n",
       "      <td>1</td>\n",
       "      <td>0</td>\n",
       "      <td>0</td>\n",
       "      <td>0</td>\n",
       "      <td>0</td>\n",
       "      <td>...</td>\n",
       "      <td>1</td>\n",
       "      <td>0</td>\n",
       "      <td>1</td>\n",
       "      <td>0</td>\n",
       "      <td>0</td>\n",
       "      <td>0</td>\n",
       "      <td>0</td>\n",
       "      <td>0</td>\n",
       "      <td>1</td>\n",
       "      <td>0</td>\n",
       "    </tr>\n",
       "    <tr>\n",
       "      <th>3</th>\n",
       "      <td>3 BHK in Siri, Perungudi</td>\n",
       "      <td>Omr Road, Kottivakkam, Near Indian Oil Petrol ...</td>\n",
       "      <td>100000</td>\n",
       "      <td>1600</td>\n",
       "      <td>0</td>\n",
       "      <td>1</td>\n",
       "      <td>0</td>\n",
       "      <td>0</td>\n",
       "      <td>1</td>\n",
       "      <td>0</td>\n",
       "      <td>...</td>\n",
       "      <td>0</td>\n",
       "      <td>0</td>\n",
       "      <td>0</td>\n",
       "      <td>0</td>\n",
       "      <td>0</td>\n",
       "      <td>1</td>\n",
       "      <td>0</td>\n",
       "      <td>0</td>\n",
       "      <td>1</td>\n",
       "      <td>0</td>\n",
       "    </tr>\n",
       "    <tr>\n",
       "      <th>4</th>\n",
       "      <td>2 BHK in Parijatham illam, West Mambalam</td>\n",
       "      <td>Ramakrishnapuram Near B K Sweets ( Lakshmi Vil...</td>\n",
       "      <td>96000</td>\n",
       "      <td>700</td>\n",
       "      <td>0</td>\n",
       "      <td>1</td>\n",
       "      <td>0</td>\n",
       "      <td>0</td>\n",
       "      <td>0</td>\n",
       "      <td>0</td>\n",
       "      <td>...</td>\n",
       "      <td>0</td>\n",
       "      <td>0</td>\n",
       "      <td>0</td>\n",
       "      <td>0</td>\n",
       "      <td>0</td>\n",
       "      <td>1</td>\n",
       "      <td>0</td>\n",
       "      <td>1</td>\n",
       "      <td>0</td>\n",
       "      <td>0</td>\n",
       "    </tr>\n",
       "    <tr>\n",
       "      <th>...</th>\n",
       "      <td>...</td>\n",
       "      <td>...</td>\n",
       "      <td>...</td>\n",
       "      <td>...</td>\n",
       "      <td>...</td>\n",
       "      <td>...</td>\n",
       "      <td>...</td>\n",
       "      <td>...</td>\n",
       "      <td>...</td>\n",
       "      <td>...</td>\n",
       "      <td>...</td>\n",
       "      <td>...</td>\n",
       "      <td>...</td>\n",
       "      <td>...</td>\n",
       "      <td>...</td>\n",
       "      <td>...</td>\n",
       "      <td>...</td>\n",
       "      <td>...</td>\n",
       "      <td>...</td>\n",
       "      <td>...</td>\n",
       "      <td>...</td>\n",
       "    </tr>\n",
       "    <tr>\n",
       "      <th>993</th>\n",
       "      <td>2 BHK in standalone bulding, Vyasarpadi</td>\n",
       "      <td>Rathinam Street Nagammai Nagar, Near Hyderabad...</td>\n",
       "      <td>51000</td>\n",
       "      <td>700</td>\n",
       "      <td>0</td>\n",
       "      <td>1</td>\n",
       "      <td>0</td>\n",
       "      <td>0</td>\n",
       "      <td>0</td>\n",
       "      <td>1</td>\n",
       "      <td>...</td>\n",
       "      <td>0</td>\n",
       "      <td>0</td>\n",
       "      <td>0</td>\n",
       "      <td>0</td>\n",
       "      <td>0</td>\n",
       "      <td>1</td>\n",
       "      <td>0</td>\n",
       "      <td>1</td>\n",
       "      <td>0</td>\n",
       "      <td>0</td>\n",
       "    </tr>\n",
       "    <tr>\n",
       "      <th>994</th>\n",
       "      <td>3 BHK in Not Disclosed, Chromepet</td>\n",
       "      <td>Hastinapuram ,balaji Nagar, South Street Near ...</td>\n",
       "      <td>50000</td>\n",
       "      <td>1100</td>\n",
       "      <td>0</td>\n",
       "      <td>1</td>\n",
       "      <td>0</td>\n",
       "      <td>0</td>\n",
       "      <td>0</td>\n",
       "      <td>1</td>\n",
       "      <td>...</td>\n",
       "      <td>0</td>\n",
       "      <td>0</td>\n",
       "      <td>0</td>\n",
       "      <td>0</td>\n",
       "      <td>0</td>\n",
       "      <td>1</td>\n",
       "      <td>0</td>\n",
       "      <td>0</td>\n",
       "      <td>1</td>\n",
       "      <td>0</td>\n",
       "    </tr>\n",
       "    <tr>\n",
       "      <th>995</th>\n",
       "      <td>2 BHK in Maha Flats, Velachery</td>\n",
       "      <td>Bhuvaneshwari Nagar, Velachery, Chennai, Tamil...</td>\n",
       "      <td>100000</td>\n",
       "      <td>810</td>\n",
       "      <td>0</td>\n",
       "      <td>1</td>\n",
       "      <td>0</td>\n",
       "      <td>0</td>\n",
       "      <td>0</td>\n",
       "      <td>0</td>\n",
       "      <td>...</td>\n",
       "      <td>0</td>\n",
       "      <td>0</td>\n",
       "      <td>1</td>\n",
       "      <td>0</td>\n",
       "      <td>0</td>\n",
       "      <td>0</td>\n",
       "      <td>0</td>\n",
       "      <td>1</td>\n",
       "      <td>0</td>\n",
       "      <td>0</td>\n",
       "    </tr>\n",
       "    <tr>\n",
       "      <th>996</th>\n",
       "      <td>3 BHK in Medavakkam</td>\n",
       "      <td>Independent House, Green Court,near Jeyachandr...</td>\n",
       "      <td>45000</td>\n",
       "      <td>1500</td>\n",
       "      <td>0</td>\n",
       "      <td>0</td>\n",
       "      <td>1</td>\n",
       "      <td>0</td>\n",
       "      <td>0</td>\n",
       "      <td>0</td>\n",
       "      <td>...</td>\n",
       "      <td>0</td>\n",
       "      <td>0</td>\n",
       "      <td>0</td>\n",
       "      <td>0</td>\n",
       "      <td>0</td>\n",
       "      <td>1</td>\n",
       "      <td>0</td>\n",
       "      <td>0</td>\n",
       "      <td>1</td>\n",
       "      <td>0</td>\n",
       "    </tr>\n",
       "    <tr>\n",
       "      <th>997</th>\n",
       "      <td>2 BHK in Ashok Nagar</td>\n",
       "      <td>Standalone Building, Ashok Pillar, Indira Colo...</td>\n",
       "      <td>100000</td>\n",
       "      <td>900</td>\n",
       "      <td>0</td>\n",
       "      <td>0</td>\n",
       "      <td>1</td>\n",
       "      <td>0</td>\n",
       "      <td>0</td>\n",
       "      <td>0</td>\n",
       "      <td>...</td>\n",
       "      <td>0</td>\n",
       "      <td>0</td>\n",
       "      <td>1</td>\n",
       "      <td>0</td>\n",
       "      <td>0</td>\n",
       "      <td>0</td>\n",
       "      <td>0</td>\n",
       "      <td>1</td>\n",
       "      <td>0</td>\n",
       "      <td>0</td>\n",
       "    </tr>\n",
       "  </tbody>\n",
       "</table>\n",
       "<p>969 rows × 21 columns</p>\n",
       "</div>\n",
       "      <button class=\"colab-df-convert\" onclick=\"convertToInteractive('df-1bfb5bbe-c380-4082-b1a1-8365fddf187b')\"\n",
       "              title=\"Convert this dataframe to an interactive table.\"\n",
       "              style=\"display:none;\">\n",
       "        \n",
       "  <svg xmlns=\"http://www.w3.org/2000/svg\" height=\"24px\"viewBox=\"0 0 24 24\"\n",
       "       width=\"24px\">\n",
       "    <path d=\"M0 0h24v24H0V0z\" fill=\"none\"/>\n",
       "    <path d=\"M18.56 5.44l.94 2.06.94-2.06 2.06-.94-2.06-.94-.94-2.06-.94 2.06-2.06.94zm-11 1L8.5 8.5l.94-2.06 2.06-.94-2.06-.94L8.5 2.5l-.94 2.06-2.06.94zm10 10l.94 2.06.94-2.06 2.06-.94-2.06-.94-.94-2.06-.94 2.06-2.06.94z\"/><path d=\"M17.41 7.96l-1.37-1.37c-.4-.4-.92-.59-1.43-.59-.52 0-1.04.2-1.43.59L10.3 9.45l-7.72 7.72c-.78.78-.78 2.05 0 2.83L4 21.41c.39.39.9.59 1.41.59.51 0 1.02-.2 1.41-.59l7.78-7.78 2.81-2.81c.8-.78.8-2.07 0-2.86zM5.41 20L4 18.59l7.72-7.72 1.47 1.35L5.41 20z\"/>\n",
       "  </svg>\n",
       "      </button>\n",
       "      \n",
       "  <style>\n",
       "    .colab-df-container {\n",
       "      display:flex;\n",
       "      flex-wrap:wrap;\n",
       "      gap: 12px;\n",
       "    }\n",
       "\n",
       "    .colab-df-convert {\n",
       "      background-color: #E8F0FE;\n",
       "      border: none;\n",
       "      border-radius: 50%;\n",
       "      cursor: pointer;\n",
       "      display: none;\n",
       "      fill: #1967D2;\n",
       "      height: 32px;\n",
       "      padding: 0 0 0 0;\n",
       "      width: 32px;\n",
       "    }\n",
       "\n",
       "    .colab-df-convert:hover {\n",
       "      background-color: #E2EBFA;\n",
       "      box-shadow: 0px 1px 2px rgba(60, 64, 67, 0.3), 0px 1px 3px 1px rgba(60, 64, 67, 0.15);\n",
       "      fill: #174EA6;\n",
       "    }\n",
       "\n",
       "    [theme=dark] .colab-df-convert {\n",
       "      background-color: #3B4455;\n",
       "      fill: #D2E3FC;\n",
       "    }\n",
       "\n",
       "    [theme=dark] .colab-df-convert:hover {\n",
       "      background-color: #434B5C;\n",
       "      box-shadow: 0px 1px 3px 1px rgba(0, 0, 0, 0.15);\n",
       "      filter: drop-shadow(0px 1px 2px rgba(0, 0, 0, 0.3));\n",
       "      fill: #FFFFFF;\n",
       "    }\n",
       "  </style>\n",
       "\n",
       "      <script>\n",
       "        const buttonEl =\n",
       "          document.querySelector('#df-1bfb5bbe-c380-4082-b1a1-8365fddf187b button.colab-df-convert');\n",
       "        buttonEl.style.display =\n",
       "          google.colab.kernel.accessAllowed ? 'block' : 'none';\n",
       "\n",
       "        async function convertToInteractive(key) {\n",
       "          const element = document.querySelector('#df-1bfb5bbe-c380-4082-b1a1-8365fddf187b');\n",
       "          const dataTable =\n",
       "            await google.colab.kernel.invokeFunction('convertToInteractive',\n",
       "                                                     [key], {});\n",
       "          if (!dataTable) return;\n",
       "\n",
       "          const docLinkHtml = 'Like what you see? Visit the ' +\n",
       "            '<a target=\"_blank\" href=https://colab.research.google.com/notebooks/data_table.ipynb>data table notebook</a>'\n",
       "            + ' to learn more about interactive tables.';\n",
       "          element.innerHTML = '';\n",
       "          dataTable['output_type'] = 'display_data';\n",
       "          await google.colab.output.renderOutput(dataTable, element);\n",
       "          const docLink = document.createElement('div');\n",
       "          docLink.innerHTML = docLinkHtml;\n",
       "          element.appendChild(docLink);\n",
       "        }\n",
       "      </script>\n",
       "    </div>\n",
       "  </div>\n",
       "  "
      ],
      "text/plain": [
       "                                        Title  \\\n",
       "0                                               \n",
       "1           3 BHK in Appaswamy Platina, Porur   \n",
       "2     3 BHK in Sham SGS Apartment, Vaanagaram   \n",
       "3                    3 BHK in Siri, Perungudi   \n",
       "4    2 BHK in Parijatham illam, West Mambalam   \n",
       "..                                        ...   \n",
       "993   2 BHK in standalone bulding, Vyasarpadi   \n",
       "994         3 BHK in Not Disclosed, Chromepet   \n",
       "995            2 BHK in Maha Flats, Velachery   \n",
       "996                       3 BHK in Medavakkam   \n",
       "997                      2 BHK in Ashok Nagar   \n",
       "\n",
       "                                               Address  Deposit(Rs)  \\\n",
       "0                                                             10000   \n",
       "1                    Appaswamy Platina, Porur, Chennai       200000   \n",
       "2    No, 04, Rajan Kuppam Road, Gangai Amman Koil S...       150000   \n",
       "3    Omr Road, Kottivakkam, Near Indian Oil Petrol ...       100000   \n",
       "4    Ramakrishnapuram Near B K Sweets ( Lakshmi Vil...        96000   \n",
       "..                                                 ...          ...   \n",
       "993  Rathinam Street Nagammai Nagar, Near Hyderabad...        51000   \n",
       "994  Hastinapuram ,balaji Nagar, South Street Near ...        50000   \n",
       "995  Bhuvaneshwari Nagar, Velachery, Chennai, Tamil...       100000   \n",
       "996  Independent House, Green Court,near Jeyachandr...        45000   \n",
       "997  Standalone Building, Ashok Pillar, Indira Colo...       100000   \n",
       "\n",
       "     Size(Acres)  Furnishing_Full Furnished  Furnishing_Semi Furnished  \\\n",
       "0            100                          0                          1   \n",
       "1           1708                          0                          1   \n",
       "2           1350                          0                          1   \n",
       "3           1600                          0                          1   \n",
       "4            700                          0                          1   \n",
       "..           ...                        ...                        ...   \n",
       "993          700                          0                          1   \n",
       "994         1100                          0                          1   \n",
       "995          810                          0                          1   \n",
       "996         1500                          0                          0   \n",
       "997          900                          0                          0   \n",
       "\n",
       "     Furnishing_UnFurnished  Property age_1-3 years   Property age_3-5 years   \\\n",
       "0                         0                        0                        0   \n",
       "1                         0                        0                        0   \n",
       "2                         0                        0                        0   \n",
       "3                         0                        0                        1   \n",
       "4                         0                        0                        0   \n",
       "..                      ...                      ...                      ...   \n",
       "993                       0                        0                        0   \n",
       "994                       0                        0                        0   \n",
       "995                       0                        0                        0   \n",
       "996                       1                        0                        0   \n",
       "997                       1                        0                        0   \n",
       "\n",
       "     Property age_5-10 years   ...  Property age_Newly Constructed  \\\n",
       "0                           0  ...                               1   \n",
       "1                           0  ...                               1   \n",
       "2                           0  ...                               1   \n",
       "3                           0  ...                               0   \n",
       "4                           0  ...                               0   \n",
       "..                        ...  ...                             ...   \n",
       "993                         1  ...                               0   \n",
       "994                         1  ...                               0   \n",
       "995                         0  ...                               0   \n",
       "996                         0  ...                               0   \n",
       "997                         0  ...                               0   \n",
       "\n",
       "     Property age_Under Construction  Available for_All  \\\n",
       "0                                  0                  1   \n",
       "1                                  0                  0   \n",
       "2                                  0                  1   \n",
       "3                                  0                  0   \n",
       "4                                  0                  0   \n",
       "..                               ...                ...   \n",
       "993                                0                  0   \n",
       "994                                0                  0   \n",
       "995                                0                  1   \n",
       "996                                0                  0   \n",
       "997                                0                  1   \n",
       "\n",
       "     Available for_Bachelors  Available for_Company  Available for_Family  \\\n",
       "0                          0                      0                     0   \n",
       "1                          0                      0                     1   \n",
       "2                          0                      0                     0   \n",
       "3                          0                      0                     1   \n",
       "4                          0                      0                     1   \n",
       "..                       ...                    ...                   ...   \n",
       "993                        0                      0                     1   \n",
       "994                        0                      0                     1   \n",
       "995                        0                      0                     0   \n",
       "996                        0                      0                     1   \n",
       "997                        0                      0                     0   \n",
       "\n",
       "     bhk_1  bhk_2  bhk_3  bhk_4  \n",
       "0        0      1      0      0  \n",
       "1        0      0      1      0  \n",
       "2        0      0      1      0  \n",
       "3        0      0      1      0  \n",
       "4        0      1      0      0  \n",
       "..     ...    ...    ...    ...  \n",
       "993      0      1      0      0  \n",
       "994      0      0      1      0  \n",
       "995      0      1      0      0  \n",
       "996      0      0      1      0  \n",
       "997      0      1      0      0  \n",
       "\n",
       "[969 rows x 21 columns]"
      ]
     },
     "execution_count": 138,
     "metadata": {},
     "output_type": "execute_result"
    }
   ],
   "source": [
    "dfn"
   ]
  },
  {
   "cell_type": "code",
   "execution_count": 139,
   "metadata": {
    "id": "Oz5lZl5WzcMK"
   },
   "outputs": [],
   "source": [
    "new= dfn.drop(columns=[\"Title\",\"Address\"])"
   ]
  },
  {
   "cell_type": "code",
   "execution_count": 140,
   "metadata": {
    "colab": {
     "base_uri": "https://localhost:8080/"
    },
    "id": "qvYxYu84zcML",
    "outputId": "15525924-327f-4d87-aecc-cc2831a9bc00"
   },
   "outputs": [
    {
     "data": {
      "text/plain": [
       "Deposit(Rs)                        10000\n",
       "Size(Acres)                          100\n",
       "Furnishing_Full Furnished              0\n",
       "Furnishing_Semi Furnished              1\n",
       "Furnishing_UnFurnished                 0\n",
       "Property age_1-3 years                 0\n",
       "Property age_3-5 years                 0\n",
       "Property age_5-10 years                0\n",
       "Property age_>10 years                 0\n",
       "Property age_Newly Constructed         1\n",
       "Property age_Under Construction        0\n",
       "Available for_All                      1\n",
       "Available for_Bachelors                0\n",
       "Available for_Company                  0\n",
       "Available for_Family                   0\n",
       "bhk_1                                  0\n",
       "bhk_2                                  1\n",
       "bhk_3                                  0\n",
       "bhk_4                                  0\n",
       "Name: 0, dtype: int64"
      ]
     },
     "execution_count": 140,
     "metadata": {},
     "output_type": "execute_result"
    }
   ],
   "source": [
    "new.iloc[0]"
   ]
  },
  {
   "cell_type": "code",
   "execution_count": 141,
   "metadata": {
    "id": "v4ob6tTgzcML"
   },
   "outputs": [],
   "source": [
    "arr= pd.DataFrame(new.iloc[0]).T"
   ]
  },
  {
   "cell_type": "code",
   "execution_count": 142,
   "metadata": {
    "colab": {
     "base_uri": "https://localhost:8080/"
    },
    "id": "FNNf5PyTzcML",
    "outputId": "11efed4d-dd17-4554-ae33-b3ac1d5b6eed"
   },
   "outputs": [
    {
     "data": {
      "text/plain": [
       "(1, 19)"
      ]
     },
     "execution_count": 142,
     "metadata": {},
     "output_type": "execute_result"
    }
   ],
   "source": [
    "arr.shape"
   ]
  },
  {
   "cell_type": "code",
   "execution_count": 143,
   "metadata": {
    "id": "Z6tbbkAQzcML"
   },
   "outputs": [],
   "source": [
    "arrpred= xgb1.predict(arr)"
   ]
  },
  {
   "cell_type": "code",
   "execution_count": 144,
   "metadata": {
    "colab": {
     "base_uri": "https://localhost:8080/"
    },
    "id": "McxC0CPOzcML",
    "outputId": "76e1350e-6afa-473d-c937-945021ecfebe"
   },
   "outputs": [
    {
     "data": {
      "text/plain": [
       "array([5719.6187], dtype=float32)"
      ]
     },
     "execution_count": 144,
     "metadata": {},
     "output_type": "execute_result"
    }
   ],
   "source": [
    "arrpred"
   ]
  },
  {
   "cell_type": "code",
   "execution_count": 145,
   "metadata": {
    "colab": {
     "base_uri": "https://localhost:8080/"
    },
    "id": "8MXMsBcNzcML",
    "outputId": "34c23b49-9d14-470e-9dda-42aa512869a8"
   },
   "outputs": [
    {
     "name": "stdout",
     "output_type": "stream",
     "text": [
      "rent predicted :  5719.6187\n"
     ]
    }
   ],
   "source": [
    "print(\"rent predicted : \",arrpred[0])"
   ]
  },
  {
   "cell_type": "markdown",
   "metadata": {
    "id": "iamPVnv_tWot"
   },
   "source": [
    "#INFERENCES"
   ]
  },
  {
   "cell_type": "markdown",
   "metadata": {
    "id": "kxUm3xiBtacP"
   },
   "source": [
    "Based on the four models trained, the Extreme Gradient Boosting(XGBoost) Regressor has the highest R-squared value of 0.75182 i.e. 75.18% of the variability in rental prices can be explained using the sevaral features like property_age, avaliability, size , Deposit,1-bhk,2-bhk,3-bhk or 4-bhk . The top three most important features are \"Deposit\",\"size\",\"property age>=10 yrs\". And the least important feature is Property_under_construction. Generally, the feature importances ranking confirms to conventional property rental prices. For example, properties with larger \"Size\" and higher number of \"NoOfBedroom\" tend to command higher rental prices. Interestingly, \"Parking\" actually rank higher in importance than \"family/bachelors\", \"Furnishing\" in predicting rental prices."
   ]
  }
 ],
 "metadata": {
  "colab": {
   "collapsed_sections": [
    "Qed_EZiCzcL6",
    "zllQ-RHszcL7",
    "B7KDubcfzcL9",
    "ICATT5RZzcMA",
    "VMYtevH9zcMD",
    "IQXV1AKHz3ZG"
   ],
   "name": "Effective_property_rent_prediction.ipynb",
   "provenance": []
  },
  "kernelspec": {
   "display_name": "Python 3",
   "language": "python",
   "name": "python3"
  },
  "language_info": {
   "codemirror_mode": {
    "name": "ipython",
    "version": 3
   },
   "file_extension": ".py",
   "mimetype": "text/x-python",
   "name": "python",
   "nbconvert_exporter": "python",
   "pygments_lexer": "ipython3",
   "version": "3.8.5"
  }
 },
 "nbformat": 4,
 "nbformat_minor": 1
}
